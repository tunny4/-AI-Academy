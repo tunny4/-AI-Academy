{
 "cells": [
  {
   "cell_type": "code",
   "execution_count": 1,
   "id": "3f597916-e26b-4d63-8732-299fd225df4c",
   "metadata": {
    "tags": []
   },
   "outputs": [],
   "source": [
    "import pandas as pd"
   ]
  },
  {
   "cell_type": "code",
   "execution_count": 2,
   "id": "3f729281-30ec-4629-8ffa-363ac93c6983",
   "metadata": {
    "tags": []
   },
   "outputs": [
    {
     "data": {
      "text/plain": [
       "0         1.0\n",
       "1       128.0\n",
       "2      6561.0\n",
       "3    262144.0\n",
       "4         NaN\n",
       "dtype: float64"
      ]
     },
     "execution_count": 2,
     "metadata": {},
     "output_type": "execute_result"
    }
   ],
   "source": [
    "sr_01 = pd.Series([1, 2, 3, 4, 5])\n",
    "#sr_02 = pd.Series([6, 7, 8, 9, 10]) # 시리즈끼리 연산이 가능하다.\n",
    "sr_02 = pd.Series([6, 7, 8, 9])   # 데이터 개수가 달라도 가능하다. 빈 자리는 NaN을 넣고 연산한다.\n",
    "\n",
    "\n",
    "sr_01 + sr_02  \n",
    "sr_01 - sr_02  \n",
    "sr_01 * sr_02  \n",
    "sr_01 / sr_02  \n",
    "sr_01 // sr_02 \n",
    "sr_01 % sr_02  \n",
    "sr_01 ** sr_02  "
   ]
  },
  {
   "cell_type": "code",
   "execution_count": 3,
   "id": "ae1ec567-667d-451d-af9a-978fedf524b9",
   "metadata": {
    "tags": []
   },
   "outputs": [
    {
     "name": "stdout",
     "output_type": "stream",
     "text": [
      "(5, 3) (3, 3)\n",
      "      A     B     C\n",
      "0  12.0  22.0  32.0\n",
      "1  14.0  24.0  34.0\n",
      "2  16.0  26.0  36.0\n",
      "3   NaN   NaN   NaN\n",
      "4   NaN   NaN   NaN\n"
     ]
    }
   ],
   "source": [
    "table_data_01 = {'A' : [1, 2, 3, 4, 5],\n",
    "                 'B' : [6, 7, 8, 9, 10],\n",
    "                 'C' : [11, 12, 13, 14, 15]}\n",
    "\n",
    "table_data_02 = {'A' : [11, 12, 13],\n",
    "                 'B' : [16, 17, 18],\n",
    "                 'C' : [21, 22, 23]}\n",
    "\n",
    "df_01 = pd.DataFrame(table_data_01)\n",
    "df_02 = pd.DataFrame(table_data_02)\n",
    "\n",
    "print(df_01.shape, df_02.shape)\n",
    "print(df_01 + df_02)"
   ]
  },
  {
   "cell_type": "code",
   "execution_count": 5,
   "id": "c933cc91-a59b-4fa8-a2f6-5086fcfd4e50",
   "metadata": {
    "tags": []
   },
   "outputs": [
    {
     "data": {
      "text/html": [
       "<div>\n",
       "<style scoped>\n",
       "    .dataframe tbody tr th:only-of-type {\n",
       "        vertical-align: middle;\n",
       "    }\n",
       "\n",
       "    .dataframe tbody tr th {\n",
       "        vertical-align: top;\n",
       "    }\n",
       "\n",
       "    .dataframe thead th {\n",
       "        text-align: right;\n",
       "    }\n",
       "</style>\n",
       "<table border=\"1\" class=\"dataframe\">\n",
       "  <thead>\n",
       "    <tr style=\"text-align: right;\">\n",
       "      <th></th>\n",
       "      <th>A</th>\n",
       "      <th>B</th>\n",
       "      <th>C</th>\n",
       "    </tr>\n",
       "  </thead>\n",
       "  <tbody>\n",
       "    <tr>\n",
       "      <th>0</th>\n",
       "      <td>1</td>\n",
       "      <td>6</td>\n",
       "      <td>11</td>\n",
       "    </tr>\n",
       "    <tr>\n",
       "      <th>1</th>\n",
       "      <td>2</td>\n",
       "      <td>7</td>\n",
       "      <td>12</td>\n",
       "    </tr>\n",
       "    <tr>\n",
       "      <th>2</th>\n",
       "      <td>3</td>\n",
       "      <td>8</td>\n",
       "      <td>13</td>\n",
       "    </tr>\n",
       "    <tr>\n",
       "      <th>3</th>\n",
       "      <td>4</td>\n",
       "      <td>9</td>\n",
       "      <td>14</td>\n",
       "    </tr>\n",
       "    <tr>\n",
       "      <th>4</th>\n",
       "      <td>5</td>\n",
       "      <td>10</td>\n",
       "      <td>15</td>\n",
       "    </tr>\n",
       "  </tbody>\n",
       "</table>\n",
       "</div>"
      ],
      "text/plain": [
       "   A   B   C\n",
       "0  1   6  11\n",
       "1  2   7  12\n",
       "2  3   8  13\n",
       "3  4   9  14\n",
       "4  5  10  15"
      ]
     },
     "execution_count": 5,
     "metadata": {},
     "output_type": "execute_result"
    }
   ],
   "source": [
    "df_01 = pd.DataFrame(table_data_01)\n",
    "df_01"
   ]
  },
  {
   "cell_type": "code",
   "execution_count": 7,
   "id": "739e01f1-4634-4f41-a2a3-f84b7688a60b",
   "metadata": {
    "tags": []
   },
   "outputs": [
    {
     "data": {
      "text/html": [
       "<div>\n",
       "<style scoped>\n",
       "    .dataframe tbody tr th:only-of-type {\n",
       "        vertical-align: middle;\n",
       "    }\n",
       "\n",
       "    .dataframe tbody tr th {\n",
       "        vertical-align: top;\n",
       "    }\n",
       "\n",
       "    .dataframe thead th {\n",
       "        text-align: right;\n",
       "    }\n",
       "</style>\n",
       "<table border=\"1\" class=\"dataframe\">\n",
       "  <thead>\n",
       "    <tr style=\"text-align: right;\">\n",
       "      <th></th>\n",
       "      <th>A</th>\n",
       "      <th>B</th>\n",
       "      <th>C</th>\n",
       "    </tr>\n",
       "  </thead>\n",
       "  <tbody>\n",
       "    <tr>\n",
       "      <th>0</th>\n",
       "      <td>11</td>\n",
       "      <td>16</td>\n",
       "      <td>21</td>\n",
       "    </tr>\n",
       "    <tr>\n",
       "      <th>1</th>\n",
       "      <td>12</td>\n",
       "      <td>17</td>\n",
       "      <td>22</td>\n",
       "    </tr>\n",
       "    <tr>\n",
       "      <th>2</th>\n",
       "      <td>13</td>\n",
       "      <td>18</td>\n",
       "      <td>23</td>\n",
       "    </tr>\n",
       "  </tbody>\n",
       "</table>\n",
       "</div>"
      ],
      "text/plain": [
       "    A   B   C\n",
       "0  11  16  21\n",
       "1  12  17  22\n",
       "2  13  18  23"
      ]
     },
     "execution_count": 7,
     "metadata": {},
     "output_type": "execute_result"
    }
   ],
   "source": [
    "df_02 = pd.DataFrame(table_data_02)\n",
    "df_02"
   ]
  }
 ],
 "metadata": {
  "kernelspec": {
   "display_name": "Python 3 (ipykernel)",
   "language": "python",
   "name": "python3"
  },
  "language_info": {
   "codemirror_mode": {
    "name": "ipython",
    "version": 3
   },
   "file_extension": ".py",
   "mimetype": "text/x-python",
   "name": "python",
   "nbconvert_exporter": "python",
   "pygments_lexer": "ipython3",
   "version": "3.11.4"
  }
 },
 "nbformat": 4,
 "nbformat_minor": 5
}
