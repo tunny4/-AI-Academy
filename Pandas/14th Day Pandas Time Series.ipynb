{
 "cells": [
  {
   "cell_type": "code",
   "execution_count": 40,
   "id": "87e183ca-1eca-4e33-811c-1e7ed8d0ec95",
   "metadata": {},
   "outputs": [
    {
     "name": "stdout",
     "output_type": "stream",
     "text": [
      "2023-05-22 00:00:00\n",
      "2023-05-22\n",
      "2023-05-22 00:00:00\n",
      "05-22-2023\n"
     ]
    }
   ],
   "source": [
    "# Time Series 시계열 데이터 : 일정한 시간 간격으로 측정된 데이터를 나열한 데이터 구조\n",
    "# ex. 생산 설비에서 1초마다 수집되는 제조 데이터 (제대로 안들어온 결측치는 보강해 줄 수있다.)\n",
    "# 목적 : 시간에 따른 데이터 변화 분석\n",
    "\n",
    "import pandas as pd\n",
    "# datetime 클래스가 중요\n",
    "from datetime import datetime\n",
    "\n",
    "now = datetime.now() # 현재 시간  년  ~ 마이크로 초 \n",
    "now\n",
    "\n",
    "delta = datetime(2023, 5, 22, 12, 16, 15, 50406) - datetime(2023, 5, 22, 10, 16, 15, 50406) # 시간 차 연산\n",
    "delta\n",
    "\n",
    "# 이걸 왜하는 걸까 ? 인덱스를 시간으로 대체하자 !\n",
    "stamp = datetime(2023, 5, 22)  # stamp는 datetime형의 객체체\n",
    "type(stamp) \n",
    "str(stamp)\n",
    "print(stamp)\n",
    "print(stamp.strftime(\"%Y-%m-%d\"))   # 형태를 바꿔서 출력가능\n",
    "print(stamp.strftime(\"%Y-%m-%d %H:%M:%S\"))\n",
    "print(stamp.strftime(\"%m-%d-%Y\"))"
   ]
  },
  {
   "cell_type": "code",
   "execution_count": 17,
   "id": "c853299f-62e6-40ee-937b-ef2434bf7fef",
   "metadata": {},
   "outputs": [
    {
     "name": "stdout",
     "output_type": "stream",
     "text": [
      "05/22/2023 <class 'str'>\n",
      "2023-05-22 00:00:00 <class 'datetime.datetime'>\n"
     ]
    }
   ],
   "source": [
    "# 문자열 데이터를 데이트타입으로 바꾸는 방법\n",
    "\n",
    "stamp = datetime(2023, 5, 22)\n",
    "str_date = stamp.strftime(\"%m/%d/%Y\")\n",
    "print(str_date, type(str_date))\n",
    "\n",
    "datetime_date = datetime.strptime(str_date, \"%m/%d/%Y\")\n",
    "print(datetime_date, type(datetime_date))"
   ]
  },
  {
   "cell_type": "code",
   "execution_count": 19,
   "id": "9d6178ef-2203-4fc2-bad5-7342d10790a0",
   "metadata": {},
   "outputs": [
    {
     "data": {
      "text/plain": [
       "'\\nempty = []\\n\\nfor x in datestrs :\\n    empty.append(datetime.strptime(x, \"%m/%d/%Y\"))\\n    \\nempty\\n    '"
      ]
     },
     "execution_count": 19,
     "metadata": {},
     "output_type": "execute_result"
    }
   ],
   "source": [
    "datestrs = ['5/22/2023', '5/23/2023'] # 날짜 문자열들이 쌓인 리스트\n",
    "\n",
    "# 리스트 컴프리헨션\n",
    "[datetime.strptime(x, \"%m/%d/%Y\") for x in datestrs] # 뒤 먼저 해석 datestrs의 x를 앞의 함수에 넣고 반환값을 새로운 리스트에 추가한다.\n",
    "\n",
    "'''\n",
    "empty = []\n",
    "\n",
    "for x in datestrs :\n",
    "    empty.append(datetime.strptime(x, \"%m/%d/%Y\"))\n",
    "    \n",
    "empty\n",
    "    '''"
   ]
  },
  {
   "cell_type": "code",
   "execution_count": 32,
   "id": "8531d3e9-bcd5-49d9-9dcf-c42c802eca62",
   "metadata": {},
   "outputs": [
    {
     "name": "stdout",
     "output_type": "stream",
     "text": [
      "2023-05-22 00:00:00 2023-05-22 00:00:00 2023-05-22 00:00:00 2023-05-22 00:00:00\n"
     ]
    }
   ],
   "source": [
    "# 다양한 시간 포맷이 존재. 쉽게 사용하는 방법\n",
    "\n",
    "from dateutil.parser import parse # 분석하다. 문자열 date를 date 형태로 쉽계 변환\n",
    "\n",
    "time_a = parse(\"2023-05-22\") # 어떤 형태로 넣어도 기본 시간 형태로 바꿔준다.\n",
    "time_b = parse(\"5/22/2023\")\n",
    "time_c = parse(\"May 22, 2023 00:00 AM\")\n",
    "time_d = parse(\"22/5/2023\", dayfirst = False) # dayfirst ?????\n",
    "print(time_a, time_b, time_c, time_d)"
   ]
  },
  {
   "cell_type": "code",
   "execution_count": 39,
   "id": "41aa9db8-4c3c-4f16-8c5a-595138ce71ff",
   "metadata": {},
   "outputs": [
    {
     "name": "stdout",
     "output_type": "stream",
     "text": [
      "DatetimeIndex(['2023-05-22', '2023-05-23'], dtype='datetime64[ns]', freq=None)\n",
      "DatetimeIndex(['2023-05-22', '2023-05-23'], dtype='datetime64[ns]', freq=None)\n",
      "<class 'pandas.core.indexes.datetimes.DatetimeIndex'>\n",
      "<class 'pandas._libs.tslibs.timestamps.Timestamp'>\n"
     ]
    }
   ],
   "source": [
    "# to_datetime() : 다수의 문자열을 한꺼번에 datetime 객체로 바꾸는 함수\n",
    "\n",
    "datestrs_01 = [\"2023-05-22 00:00:00\", \"2023-05-23 00:00:00\"]\n",
    "datestrs_02 = [\"May 22, 2023 00:00 AM\", \"May 23, 2023 00:00 AM\"]\n",
    "\n",
    "print(pd.to_datetime(datestrs_01))\n",
    "print(pd.to_datetime(datestrs_02))\n",
    "\n",
    "a = pd.to_datetime(datestrs_01)\n",
    "\n",
    "print(type(a)) # a는 DatetimeIndex\n",
    "print(type(a[0])) # timestamp형"
   ]
  },
  {
   "cell_type": "code",
   "execution_count": 47,
   "id": "02a60b0e-b006-4f97-b7f2-adf6033b4dfc",
   "metadata": {},
   "outputs": [
    {
     "name": "stdout",
     "output_type": "stream",
     "text": [
      "<class 'pandas.core.indexes.range.RangeIndex'>\n",
      "<class 'pandas.core.indexes.datetimes.DatetimeIndex'>\n",
      "<class 'pandas._libs.tslibs.timestamps.Timestamp'>\n"
     ]
    }
   ],
   "source": [
    "# 연습\n",
    "import pandas as pd\n",
    "\n",
    "data = {'value' : [1, 2, 3, 4, 5]}\n",
    "df = pd.DataFrame(data)\n",
    "\n",
    "print(type(df.index)) # range함수로 정수형태로 index가 생성된다.\n",
    "df\n",
    "\n",
    "dates = pd.date_range(start = '2023-05-22', periods = len(df), freq = 'D') # date_range : 날짜 생성, start부터 periods만큼 end까지 freq 간격으로(Day, Week, Year, 2Day ...) \n",
    "df.index = dates\n",
    "\n",
    "df\n",
    "\n",
    "print(type(df.index)) # index의 타입이 datetimes로 바꼈다. DatetimeIndex는 날짜로 이루어진 index 전체를 의미\n",
    "print(type(df.index[0])) # 날짜 index 한 요소요소는 Timestamp 타입이다."
   ]
  },
  {
   "cell_type": "code",
   "execution_count": 53,
   "id": "325cf560-80a2-4e87-980d-b78a418b4058",
   "metadata": {},
   "outputs": [
    {
     "name": "stdout",
     "output_type": "stream",
     "text": [
      "<class 'pandas.core.indexes.datetimes.DatetimeIndex'>\n"
     ]
    },
    {
     "data": {
      "text/html": [
       "<div>\n",
       "<style scoped>\n",
       "    .dataframe tbody tr th:only-of-type {\n",
       "        vertical-align: middle;\n",
       "    }\n",
       "\n",
       "    .dataframe tbody tr th {\n",
       "        vertical-align: top;\n",
       "    }\n",
       "\n",
       "    .dataframe thead th {\n",
       "        text-align: right;\n",
       "    }\n",
       "</style>\n",
       "<table border=\"1\" class=\"dataframe\">\n",
       "  <thead>\n",
       "    <tr style=\"text-align: right;\">\n",
       "      <th></th>\n",
       "      <th>Close</th>\n",
       "      <th>Start</th>\n",
       "      <th>High</th>\n",
       "      <th>Low</th>\n",
       "      <th>Volume</th>\n",
       "    </tr>\n",
       "    <tr>\n",
       "      <th>Date</th>\n",
       "      <th></th>\n",
       "      <th></th>\n",
       "      <th></th>\n",
       "      <th></th>\n",
       "      <th></th>\n",
       "    </tr>\n",
       "  </thead>\n",
       "  <tbody>\n",
       "    <tr>\n",
       "      <th>2018-07-02</th>\n",
       "      <td>10100</td>\n",
       "      <td>10850</td>\n",
       "      <td>10900</td>\n",
       "      <td>10000</td>\n",
       "      <td>137977</td>\n",
       "    </tr>\n",
       "    <tr>\n",
       "      <th>2018-06-29</th>\n",
       "      <td>10700</td>\n",
       "      <td>10550</td>\n",
       "      <td>10900</td>\n",
       "      <td>9990</td>\n",
       "      <td>170253</td>\n",
       "    </tr>\n",
       "    <tr>\n",
       "      <th>2018-06-28</th>\n",
       "      <td>10400</td>\n",
       "      <td>10900</td>\n",
       "      <td>10950</td>\n",
       "      <td>10150</td>\n",
       "      <td>155769</td>\n",
       "    </tr>\n",
       "    <tr>\n",
       "      <th>2018-06-27</th>\n",
       "      <td>10900</td>\n",
       "      <td>10800</td>\n",
       "      <td>11050</td>\n",
       "      <td>10500</td>\n",
       "      <td>133548</td>\n",
       "    </tr>\n",
       "    <tr>\n",
       "      <th>2018-06-26</th>\n",
       "      <td>10800</td>\n",
       "      <td>10900</td>\n",
       "      <td>11000</td>\n",
       "      <td>10700</td>\n",
       "      <td>63039</td>\n",
       "    </tr>\n",
       "  </tbody>\n",
       "</table>\n",
       "</div>"
      ],
      "text/plain": [
       "            Close  Start   High    Low  Volume\n",
       "Date                                          \n",
       "2018-07-02  10100  10850  10900  10000  137977\n",
       "2018-06-29  10700  10550  10900   9990  170253\n",
       "2018-06-28  10400  10900  10950  10150  155769\n",
       "2018-06-27  10900  10800  11050  10500  133548\n",
       "2018-06-26  10800  10900  11000  10700   63039"
      ]
     },
     "execution_count": 53,
     "metadata": {},
     "output_type": "execute_result"
    }
   ],
   "source": [
    "# 데이터를 불러올 때 index 지정, 타입 변경이 가능하다.\n",
    "\n",
    "df = pd.read_csv(\"stock-data.csv\", index_col = 'Date', parse_dates = True) # index_col : 해당 열을 index로 사용한다.  parse_dates : index 타입이 날짜 타입으로 바뀐다.\n",
    "\n",
    "print(type(df.index)) # 타입이 Index\n",
    "df.head()"
   ]
  },
  {
   "cell_type": "code",
   "execution_count": 94,
   "id": "b646ecd0-c3e7-443c-b5d6-1f72e8986ddf",
   "metadata": {},
   "outputs": [
    {
     "name": "stdout",
     "output_type": "stream",
     "text": [
      "<class 'str'>\n"
     ]
    },
    {
     "data": {
      "text/html": [
       "<div>\n",
       "<style scoped>\n",
       "    .dataframe tbody tr th:only-of-type {\n",
       "        vertical-align: middle;\n",
       "    }\n",
       "\n",
       "    .dataframe tbody tr th {\n",
       "        vertical-align: top;\n",
       "    }\n",
       "\n",
       "    .dataframe thead th {\n",
       "        text-align: right;\n",
       "    }\n",
       "</style>\n",
       "<table border=\"1\" class=\"dataframe\">\n",
       "  <thead>\n",
       "    <tr style=\"text-align: right;\">\n",
       "      <th></th>\n",
       "      <th>Close</th>\n",
       "      <th>Start</th>\n",
       "      <th>High</th>\n",
       "      <th>Low</th>\n",
       "      <th>Volume</th>\n",
       "    </tr>\n",
       "    <tr>\n",
       "      <th>Date</th>\n",
       "      <th></th>\n",
       "      <th></th>\n",
       "      <th></th>\n",
       "      <th></th>\n",
       "      <th></th>\n",
       "    </tr>\n",
       "  </thead>\n",
       "  <tbody>\n",
       "    <tr>\n",
       "      <th>2018-07-02</th>\n",
       "      <td>10100</td>\n",
       "      <td>10850</td>\n",
       "      <td>10900</td>\n",
       "      <td>10000</td>\n",
       "      <td>137977</td>\n",
       "    </tr>\n",
       "    <tr>\n",
       "      <th>2018-06-29</th>\n",
       "      <td>10700</td>\n",
       "      <td>10550</td>\n",
       "      <td>10900</td>\n",
       "      <td>9990</td>\n",
       "      <td>170253</td>\n",
       "    </tr>\n",
       "    <tr>\n",
       "      <th>2018-06-28</th>\n",
       "      <td>10400</td>\n",
       "      <td>10900</td>\n",
       "      <td>10950</td>\n",
       "      <td>10150</td>\n",
       "      <td>155769</td>\n",
       "    </tr>\n",
       "    <tr>\n",
       "      <th>2018-06-27</th>\n",
       "      <td>10900</td>\n",
       "      <td>10800</td>\n",
       "      <td>11050</td>\n",
       "      <td>10500</td>\n",
       "      <td>133548</td>\n",
       "    </tr>\n",
       "    <tr>\n",
       "      <th>2018-06-26</th>\n",
       "      <td>10800</td>\n",
       "      <td>10900</td>\n",
       "      <td>11000</td>\n",
       "      <td>10700</td>\n",
       "      <td>63039</td>\n",
       "    </tr>\n",
       "  </tbody>\n",
       "</table>\n",
       "</div>"
      ],
      "text/plain": [
       "            Close  Start   High    Low  Volume\n",
       "Date                                          \n",
       "2018-07-02  10100  10850  10900  10000  137977\n",
       "2018-06-29  10700  10550  10900   9990  170253\n",
       "2018-06-28  10400  10900  10950  10150  155769\n",
       "2018-06-27  10900  10800  11050  10500  133548\n",
       "2018-06-26  10800  10900  11000  10700   63039"
      ]
     },
     "execution_count": 94,
     "metadata": {},
     "output_type": "execute_result"
    }
   ],
   "source": [
    "# 불러온 후 index 지정, 변경\n",
    "\n",
    "df = pd.read_csv(\"stock-data.csv\")\n",
    "print(type(df['Date'][0])) # Date열의 날짜들이 String 타입이다.\n",
    "\n",
    "df['Date'] = pd.to_datetime(df['Date']) # Date열에 요소를 datetime 형으로 바꿔서 넣는다.\n",
    "df = df.set_index(['Date']) # Date열을 Index로 지정\n",
    "df.head()"
   ]
  },
  {
   "cell_type": "code",
   "execution_count": 85,
   "id": "c247c25d-dfd7-47e9-83a9-91f52f01570d",
   "metadata": {},
   "outputs": [
    {
     "name": "stdout",
     "output_type": "stream",
     "text": [
      "<class 'pandas.core.indexes.datetimes.DatetimeIndex'>\n",
      "<class 'pandas._libs.tslibs.timestamps.Timestamp'> \n",
      "\n"
     ]
    },
    {
     "data": {
      "text/html": [
       "<div>\n",
       "<style scoped>\n",
       "    .dataframe tbody tr th:only-of-type {\n",
       "        vertical-align: middle;\n",
       "    }\n",
       "\n",
       "    .dataframe tbody tr th {\n",
       "        vertical-align: top;\n",
       "    }\n",
       "\n",
       "    .dataframe thead th {\n",
       "        text-align: right;\n",
       "    }\n",
       "</style>\n",
       "<table border=\"1\" class=\"dataframe\">\n",
       "  <thead>\n",
       "    <tr style=\"text-align: right;\">\n",
       "      <th></th>\n",
       "      <th>Close</th>\n",
       "      <th>Start</th>\n",
       "      <th>High</th>\n",
       "      <th>Low</th>\n",
       "      <th>Volume</th>\n",
       "    </tr>\n",
       "    <tr>\n",
       "      <th>Date</th>\n",
       "      <th></th>\n",
       "      <th></th>\n",
       "      <th></th>\n",
       "      <th></th>\n",
       "      <th></th>\n",
       "    </tr>\n",
       "  </thead>\n",
       "  <tbody>\n",
       "    <tr>\n",
       "      <th>2018-06-01</th>\n",
       "      <td>11900</td>\n",
       "      <td>11800</td>\n",
       "      <td>12100</td>\n",
       "      <td>11750</td>\n",
       "      <td>32062</td>\n",
       "    </tr>\n",
       "    <tr>\n",
       "      <th>2018-06-04</th>\n",
       "      <td>11900</td>\n",
       "      <td>11900</td>\n",
       "      <td>12200</td>\n",
       "      <td>11700</td>\n",
       "      <td>25171</td>\n",
       "    </tr>\n",
       "    <tr>\n",
       "      <th>2018-06-05</th>\n",
       "      <td>12150</td>\n",
       "      <td>11800</td>\n",
       "      <td>12250</td>\n",
       "      <td>11800</td>\n",
       "      <td>42485</td>\n",
       "    </tr>\n",
       "    <tr>\n",
       "      <th>2018-06-07</th>\n",
       "      <td>11950</td>\n",
       "      <td>12200</td>\n",
       "      <td>12300</td>\n",
       "      <td>11900</td>\n",
       "      <td>49088</td>\n",
       "    </tr>\n",
       "    <tr>\n",
       "      <th>2018-06-08</th>\n",
       "      <td>11950</td>\n",
       "      <td>11950</td>\n",
       "      <td>12200</td>\n",
       "      <td>11800</td>\n",
       "      <td>59258</td>\n",
       "    </tr>\n",
       "  </tbody>\n",
       "</table>\n",
       "</div>"
      ],
      "text/plain": [
       "            Close  Start   High    Low  Volume\n",
       "Date                                          \n",
       "2018-06-01  11900  11800  12100  11750   32062\n",
       "2018-06-04  11900  11900  12200  11700   25171\n",
       "2018-06-05  12150  11800  12250  11800   42485\n",
       "2018-06-07  11950  12200  12300  11900   49088\n",
       "2018-06-08  11950  11950  12200  11800   59258"
      ]
     },
     "execution_count": 85,
     "metadata": {},
     "output_type": "execute_result"
    }
   ],
   "source": [
    "sorted_df = df.sort_index()  # index 정렬\n",
    "print(type(sorted_df.index))   \n",
    "print(type(sorted_df.index[0]), '\\n')\n",
    "\n",
    "sorted_df.head()\n"
   ]
  },
  {
   "cell_type": "code",
   "execution_count": 86,
   "id": "a4bf415b-9f32-4419-b5e2-ead7803d7452",
   "metadata": {},
   "outputs": [
    {
     "name": "stdout",
     "output_type": "stream",
     "text": [
      "            Close  Start   High    Low  Volume\n",
      "Date                                          \n",
      "2018-06-04  11900  11900  12200  11700   25171\n",
      "2018-06-05  12150  11800  12250  11800   42485\n",
      "2018-06-07  11950  12200  12300  11900   49088\n",
      "2018-06-08  11950  11950  12200  11800   59258\n",
      "2018-06-11  11950  12000  12250  11950   62293\n",
      "2018-06-12  13200  12200  13300  12050  558148\n",
      "2018-06-14  13450  13200  13700  13150  347451\n",
      "2018-06-15  13400  13600  13600  12900  201376\n",
      "2018-06-18  12000  13400  13400  12000  309787\n",
      "2018-06-19  11300  11850  11950  11300  180656\n",
      "2018-06-20  11550  11200  11600  10900  308596\n",
      "              Close    Start     High      Low    Volume\n",
      "Date                                                    \n",
      "2018-06-01  11900.0  11800.0  12100.0  11750.0   32062.0\n",
      "2018-06-03  11900.0  11900.0  12200.0  11700.0   25171.0\n",
      "2018-06-05  12150.0  11800.0  12250.0  11800.0   42485.0\n",
      "2018-06-07  11950.0  12075.0  12250.0  11850.0   54173.0\n",
      "2018-06-09      NaN      NaN      NaN      NaN       NaN\n",
      "2018-06-11  12575.0  12100.0  12775.0  12000.0  310220.5\n",
      "2018-06-13  13450.0  13200.0  13700.0  13150.0  347451.0\n",
      "2018-06-15  13400.0  13600.0  13600.0  12900.0  201376.0\n",
      "2018-06-17  12000.0  13400.0  13400.0  12000.0  309787.0\n",
      "2018-06-19  11425.0  11525.0  11775.0  11100.0  244626.0\n",
      "2018-06-21  11250.0  11300.0  11600.0  10975.0  133903.5\n",
      "2018-06-23      NaN      NaN      NaN      NaN       NaN\n",
      "2018-06-25  10975.0  11150.0  11225.0  10850.0   59279.0\n",
      "2018-06-27  10650.0  10850.0  11000.0  10325.0  144658.5\n",
      "2018-06-29  10700.0  10550.0  10900.0   9990.0  170253.0\n",
      "2018-07-01  10100.0  10850.0  10900.0  10000.0  137977.0\n"
     ]
    }
   ],
   "source": [
    "selected_data = sorted_df['2018-06-04' : '2018-06-20'] # 날짜 index를 이용해 슬라이싱\n",
    "print(selected_data.head(16))\n",
    "\n",
    "montly_mean = sorted_df.resample('2D').mean() # 'M'(월별로) 평균을 계산한다. 'W'(주별) 'D'(일별) '2D'(2일별)...  없는 날짜의 값은 NaN으로 채운다.\n",
    "print(montly_mean)"
   ]
  }
 ],
 "metadata": {
  "kernelspec": {
   "display_name": "Python 3 (ipykernel)",
   "language": "python",
   "name": "python3"
  },
  "language_info": {
   "codemirror_mode": {
    "name": "ipython",
    "version": 3
   },
   "file_extension": ".py",
   "mimetype": "text/x-python",
   "name": "python",
   "nbconvert_exporter": "python",
   "pygments_lexer": "ipython3",
   "version": "3.11.4"
  }
 },
 "nbformat": 4,
 "nbformat_minor": 5
}
