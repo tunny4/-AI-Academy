{
 "cells": [
  {
   "cell_type": "code",
   "execution_count": 1,
   "id": "0c9786ce-a8ed-45e7-9ab4-e32a07780413",
   "metadata": {},
   "outputs": [
    {
     "data": {
      "text/plain": [
       "0      Red\n",
       "1     Blue\n",
       "2    Green\n",
       "3      Red\n",
       "4    Green\n",
       "dtype: object"
      ]
     },
     "execution_count": 1,
     "metadata": {},
     "output_type": "execute_result"
    }
   ],
   "source": [
    "# 범주형 데이터\n",
    "import pandas as pd\n",
    "\n",
    "sr_01 = pd.Series(['Red', 'Blue', 'Green', 'Red', 'Green'])\n",
    "\n",
    "#sr_01.astype('Category')\n",
    "sr_01"
   ]
  },
  {
   "cell_type": "code",
   "execution_count": 9,
   "id": "9200a716-fd31-4b1c-befa-ea8e44f722fb",
   "metadata": {},
   "outputs": [
    {
     "data": {
      "text/plain": [
       "Green    2\n",
       "Red      2\n",
       "Blue     1\n",
       "dtype: int64"
      ]
     },
     "execution_count": 9,
     "metadata": {},
     "output_type": "execute_result"
    }
   ],
   "source": [
    "sr_02 = pd.Series(['Red', 'Blue', 'Green', 'Red', 'Green'], dtype = 'category')\n",
    "sr_02\n",
    "sr_02.cat.categories\n",
    "sr_02.value_counts()"
   ]
  }
 ],
 "metadata": {
  "kernelspec": {
   "display_name": "Python 3 (ipykernel)",
   "language": "python",
   "name": "python3"
  },
  "language_info": {
   "codemirror_mode": {
    "name": "ipython",
    "version": 3
   },
   "file_extension": ".py",
   "mimetype": "text/x-python",
   "name": "python",
   "nbconvert_exporter": "python",
   "pygments_lexer": "ipython3",
   "version": "3.11.4"
  }
 },
 "nbformat": 4,
 "nbformat_minor": 5
}
