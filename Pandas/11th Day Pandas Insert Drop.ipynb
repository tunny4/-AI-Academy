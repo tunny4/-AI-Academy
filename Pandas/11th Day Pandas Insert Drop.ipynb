{
 "cells": [
  {
   "cell_type": "code",
   "execution_count": 2,
   "id": "6d8a5e41-65ed-4ee3-a7c3-96a512cb4fb7",
   "metadata": {},
   "outputs": [],
   "source": [
    "import pandas as pd"
   ]
  },
  {
   "cell_type": "code",
   "execution_count": 3,
   "id": "6b3367f9-0cec-4837-9825-9fcc84694974",
   "metadata": {},
   "outputs": [],
   "source": [
    "data = {'Name' : ['John', 'Emma', 'Peter', 'Lisa'],\n",
    "        'Age' : [25, 28, 30, 27],\n",
    "        'City' : ['New York', 'Paris', 'London', 'Sydney']}"
   ]
  },
  {
   "cell_type": "code",
   "execution_count": 4,
   "id": "fd8442ba-f028-41e1-898f-2c600a37443c",
   "metadata": {},
   "outputs": [
    {
     "name": "stderr",
     "output_type": "stream",
     "text": [
      "C:\\Users\\PC\\AppData\\Local\\Temp\\ipykernel_16976\\1072292791.py:11: FutureWarning: The frame.append method is deprecated and will be removed from pandas in a future version. Use pandas.concat instead.\n",
      "  df = df.append([new_row])\n"
     ]
    },
    {
     "data": {
      "text/html": [
       "<div>\n",
       "<style scoped>\n",
       "    .dataframe tbody tr th:only-of-type {\n",
       "        vertical-align: middle;\n",
       "    }\n",
       "\n",
       "    .dataframe tbody tr th {\n",
       "        vertical-align: top;\n",
       "    }\n",
       "\n",
       "    .dataframe thead th {\n",
       "        text-align: right;\n",
       "    }\n",
       "</style>\n",
       "<table border=\"1\" class=\"dataframe\">\n",
       "  <thead>\n",
       "    <tr style=\"text-align: right;\">\n",
       "      <th></th>\n",
       "      <th>Name</th>\n",
       "      <th>Age</th>\n",
       "      <th>City</th>\n",
       "      <th>Birth Day2</th>\n",
       "      <th>Birth Day</th>\n",
       "    </tr>\n",
       "  </thead>\n",
       "  <tbody>\n",
       "    <tr>\n",
       "      <th>0</th>\n",
       "      <td>John</td>\n",
       "      <td>25</td>\n",
       "      <td>New York</td>\n",
       "      <td>1998.0</td>\n",
       "      <td>1998</td>\n",
       "    </tr>\n",
       "    <tr>\n",
       "      <th>2</th>\n",
       "      <td>Peter</td>\n",
       "      <td>30</td>\n",
       "      <td>London</td>\n",
       "      <td>2001.0</td>\n",
       "      <td>2001</td>\n",
       "    </tr>\n",
       "    <tr>\n",
       "      <th>3</th>\n",
       "      <td>Lisa</td>\n",
       "      <td>27</td>\n",
       "      <td>Sydney</td>\n",
       "      <td>1993.0</td>\n",
       "      <td>1993</td>\n",
       "    </tr>\n",
       "    <tr>\n",
       "      <th>0</th>\n",
       "      <td>Jack</td>\n",
       "      <td>17</td>\n",
       "      <td>Changwon</td>\n",
       "      <td>NaN</td>\n",
       "      <td>2023</td>\n",
       "    </tr>\n",
       "  </tbody>\n",
       "</table>\n",
       "</div>"
      ],
      "text/plain": [
       "    Name  Age      City  Birth Day2  Birth Day\n",
       "0   John   25  New York      1998.0       1998\n",
       "2  Peter   30    London      2001.0       2001\n",
       "3   Lisa   27    Sydney      1993.0       1993\n",
       "0   Jack   17  Changwon         NaN       2023"
      ]
     },
     "execution_count": 4,
     "metadata": {},
     "output_type": "execute_result"
    }
   ],
   "source": [
    "df = pd.DataFrame(data)\n",
    "df\n",
    "\n",
    "df['Birth Day'] = [1998, 1995, 2001, 1993] # 열 추가\n",
    "df\n",
    "\n",
    "df.insert(3, 'Birth Day2', [1998, 1995, 2001, 1993])  # 추가할 열의 위치, 이름\n",
    "df\n",
    "\n",
    "new_row = {'Name' : 'Jack', 'Age' : 17, 'City' : 'Changwon', 'Birth Day' : 2023}   # append로 새로운 행 추가\n",
    "df = df.append([new_row])\n",
    "\n",
    "df = df.drop(1) # drop로 행 삭제\n",
    "df"
   ]
  },
  {
   "cell_type": "code",
   "execution_count": null,
   "id": "2985c882-7d22-464e-bf83-d93c9718846e",
   "metadata": {},
   "outputs": [],
   "source": []
  }
 ],
 "metadata": {
  "kernelspec": {
   "display_name": "Python 3 (ipykernel)",
   "language": "python",
   "name": "python3"
  },
  "language_info": {
   "codemirror_mode": {
    "name": "ipython",
    "version": 3
   },
   "file_extension": ".py",
   "mimetype": "text/x-python",
   "name": "python",
   "nbconvert_exporter": "python",
   "pygments_lexer": "ipython3",
   "version": "3.11.4"
  }
 },
 "nbformat": 4,
 "nbformat_minor": 5
}
