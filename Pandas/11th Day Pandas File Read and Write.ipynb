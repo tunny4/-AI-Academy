{
 "cells": [
  {
   "cell_type": "code",
   "execution_count": 1,
   "id": "ae6139d7-07f3-4ff2-bccd-1521f3eed5b9",
   "metadata": {},
   "outputs": [],
   "source": [
    "import pandas as pd"
   ]
  },
  {
   "cell_type": "code",
   "execution_count": 18,
   "id": "fbfb44fb-f778-4022-ad80-f2106fd7cca3",
   "metadata": {},
   "outputs": [
    {
     "name": "stdout",
     "output_type": "stream",
     "text": [
      "(5, 5)\n",
      "     연도       동해       남해       서해       전체\n",
      "0  1996  17.4629  17.2288  14.4360  15.9067\n",
      "1  1997  17.4116  17.4092  14.8248  16.1526\n",
      "2  1998  17.5944  18.0110  15.2512  16.6044\n",
      "3  1999  18.1495  18.3175  14.8979  16.6284\n",
      "4  2000  17.9288  18.1766  15.0504  16.6178\n",
      "(5, 4)\n",
      "           동해       남해       서해       전체\n",
      "연도                                      \n",
      "1996  17.4629  17.2288  14.4360  15.9067\n",
      "1997  17.4116  17.4092  14.8248  16.1526\n",
      "1998  17.5944  18.0110  15.2512  16.6044\n",
      "1999  18.1495  18.3175  14.8979  16.6284\n",
      "2000  17.9288  18.1766  15.0504  16.6178\n"
     ]
    }
   ],
   "source": [
    "df = pd.read_csv('for_test.csv', encoding='cp949') # data frame에 csv 파일 읽어오기, 파일안에 한글이 있다면 인코딩 오류가 날 수 있다.\n",
    "                                                   # csv comma separated values\n",
    "df_blank = pd.read_csv('for_test_blank.txt', encoding='cp949', sep = ' ') # blank로 구분된 데이터는 구분자가 있어야 열이 나뉜다.\n",
    "\n",
    "print(df.shape)\n",
    "print(df)\n",
    "\n",
    "df = pd.read_csv('for_test.csv', encoding='cp949', index_col = '연도')  # index를 Data Frame의 열 중 하나로 변경한다.\n",
    "\n",
    "print(df.shape)\n",
    "print(df)"
   ]
  },
  {
   "cell_type": "code",
   "execution_count": 20,
   "id": "7e15822c-75dd-495d-8399-a1446f47d7e1",
   "metadata": {},
   "outputs": [],
   "source": [
    "df.to_csv('for_saving_test.csv', encoding = 'cp949', sep = \",\") # "
   ]
  }
 ],
 "metadata": {
  "kernelspec": {
   "display_name": "Python 3 (ipykernel)",
   "language": "python",
   "name": "python3"
  },
  "language_info": {
   "codemirror_mode": {
    "name": "ipython",
    "version": 3
   },
   "file_extension": ".py",
   "mimetype": "text/x-python",
   "name": "python",
   "nbconvert_exporter": "python",
   "pygments_lexer": "ipython3",
   "version": "3.11.4"
  }
 },
 "nbformat": 4,
 "nbformat_minor": 5
}
