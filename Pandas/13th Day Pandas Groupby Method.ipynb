{
 "cells": [
  {
   "cell_type": "code",
   "execution_count": 2,
   "id": "9f797c1e-f1fb-4a05-8e69-8d8d556ab2c0",
   "metadata": {},
   "outputs": [],
   "source": [
    "# groupby() Method 그룹화 한다.\n",
    "import pandas as pd"
   ]
  },
  {
   "cell_type": "code",
   "execution_count": 15,
   "id": "ad646de6-5ff7-47f0-a892-b846040d6481",
   "metadata": {},
   "outputs": [
    {
     "name": "stdout",
     "output_type": "stream",
     "text": [
      "[('Busan',     City  Year  Population\n",
      "2  Busan  2020         3.4\n",
      "3  Busan  2021         3.6), ('Incheon',       City  Year  Population\n",
      "4  Incheon  2020         2.9), ('Seoul',     City  Year  Population\n",
      "0  Seoul  2020         9.7\n",
      "1  Seoul  2021         9.8)]\n"
     ]
    },
    {
     "data": {
      "text/plain": [
       "City\n",
       "Busan      3.50\n",
       "Incheon    2.90\n",
       "Seoul      9.75\n",
       "Name: Population, dtype: float64"
      ]
     },
     "execution_count": 15,
     "metadata": {},
     "output_type": "execute_result"
    }
   ],
   "source": [
    "data = {'City' : ['Seoul', 'Seoul', 'Busan', 'Busan', 'Incheon'],\n",
    "        'Year' : [2020, 2021, 2020, 2021, 2020],\n",
    "        'Population' : [9.7, 9.8, 3.4, 3.6, 2.9]}\n",
    "\n",
    "df = pd.DataFrame(data)\n",
    "\n",
    "grouped_df = df.groupby('City')  # 열안에 같은 데이터끼리 그룹화 한다.\n",
    "    \n",
    "print([i for i in grouped_df]) # list comprehension \n",
    "\n",
    "average_population = grouped_df['Population'].mean()\n",
    "average_population"
   ]
  },
  {
   "cell_type": "code",
   "execution_count": 18,
   "id": "8bfaefae-3b35-4221-b393-38abe87ab2ba",
   "metadata": {},
   "outputs": [
    {
     "name": "stdout",
     "output_type": "stream",
     "text": [
      "[(2020,       City  Year  Population\n",
      "0    Seoul  2020         9.7\n",
      "2    Busan  2020         3.4\n",
      "4  Incheon  2020         2.9), (2021,     City  Year  Population\n",
      "1  Seoul  2021         9.8\n",
      "3  Busan  2021         3.6)]\n"
     ]
    },
    {
     "data": {
      "text/plain": [
       "Year\n",
       "2020    16.0\n",
       "2021    13.4\n",
       "Name: Population, dtype: float64"
      ]
     },
     "execution_count": 18,
     "metadata": {},
     "output_type": "execute_result"
    }
   ],
   "source": [
    "# Year 열을 기준으로 Population열의 총합을 계산\n",
    "\n",
    "grouped_df = df.groupby('Year')\n",
    "\n",
    "print([i for i in grouped_df])\n",
    "\n",
    "sum_population = grouped_df['Population'].sum()\n",
    "sum_population"
   ]
  },
  {
   "cell_type": "code",
   "execution_count": 32,
   "id": "99301086-a4e0-46ef-bace-fe507ea3f2d0",
   "metadata": {},
   "outputs": [
    {
     "data": {
      "text/html": [
       "<div>\n",
       "<style scoped>\n",
       "    .dataframe tbody tr th:only-of-type {\n",
       "        vertical-align: middle;\n",
       "    }\n",
       "\n",
       "    .dataframe tbody tr th {\n",
       "        vertical-align: top;\n",
       "    }\n",
       "\n",
       "    .dataframe thead th {\n",
       "        text-align: right;\n",
       "    }\n",
       "</style>\n",
       "<table border=\"1\" class=\"dataframe\">\n",
       "  <thead>\n",
       "    <tr style=\"text-align: right;\">\n",
       "      <th></th>\n",
       "      <th>sepal length (cm)</th>\n",
       "      <th>sepal width (cm)</th>\n",
       "      <th>petal length (cm)</th>\n",
       "      <th>petal width (cm)</th>\n",
       "    </tr>\n",
       "    <tr>\n",
       "      <th>target</th>\n",
       "      <th></th>\n",
       "      <th></th>\n",
       "      <th></th>\n",
       "      <th></th>\n",
       "    </tr>\n",
       "  </thead>\n",
       "  <tbody>\n",
       "    <tr>\n",
       "      <th>0</th>\n",
       "      <td>5.006</td>\n",
       "      <td>3.428</td>\n",
       "      <td>1.462</td>\n",
       "      <td>0.246</td>\n",
       "    </tr>\n",
       "    <tr>\n",
       "      <th>1</th>\n",
       "      <td>5.936</td>\n",
       "      <td>2.770</td>\n",
       "      <td>4.260</td>\n",
       "      <td>1.326</td>\n",
       "    </tr>\n",
       "    <tr>\n",
       "      <th>2</th>\n",
       "      <td>6.588</td>\n",
       "      <td>2.974</td>\n",
       "      <td>5.552</td>\n",
       "      <td>2.026</td>\n",
       "    </tr>\n",
       "  </tbody>\n",
       "</table>\n",
       "</div>"
      ],
      "text/plain": [
       "        sepal length (cm)  sepal width (cm)  petal length (cm)  \\\n",
       "target                                                           \n",
       "0                   5.006             3.428              1.462   \n",
       "1                   5.936             2.770              4.260   \n",
       "2                   6.588             2.974              5.552   \n",
       "\n",
       "        petal width (cm)  \n",
       "target                    \n",
       "0                  0.246  \n",
       "1                  1.326  \n",
       "2                  2.026  "
      ]
     },
     "execution_count": 32,
     "metadata": {},
     "output_type": "execute_result"
    }
   ],
   "source": [
    "# iris 꽃 종별로 평균 구하기\n",
    "\n",
    "from sklearn.datasets import load_iris\n",
    "\n",
    "iris = load_iris()\n",
    "iris_df = pd.DataFrame(iris.data, columns = iris.feature_names)\n",
    "iris_df['target'] = iris.target\n",
    "\n",
    "grouped_iris = iris_df.groupby('target')\n",
    "\n",
    "'''for i in grouped_iris :\n",
    "    print(i)'''\n",
    "\n",
    "average = grouped_iris.mean()\n",
    "\n",
    "average"
   ]
  },
  {
   "cell_type": "code",
   "execution_count": 44,
   "id": "a7ac36ac-d95a-423a-a12d-3e0c0c184eb1",
   "metadata": {},
   "outputs": [
    {
     "name": "stdout",
     "output_type": "stream",
     "text": [
      "('Busan',     City  Population  GDP   Area\n",
      "2  Busan         3.4  180  770.1\n",
      "3  Busan         3.6  200  770.1)\n",
      "('Incheon',       City  Population  GDP    Area\n",
      "4  Incheon         2.9  150  1049.0)\n",
      "('Seoul',     City  Population  GDP   Area\n",
      "0  Seoul         9.7  620  605.2\n",
      "1  Seoul         9.8  650  605.2)\n",
      "Population      3.6\n",
      "GDP           200.0\n",
      "dtype: float64 Population      3.4\n",
      "GDP           180.0\n",
      "dtype: float64\n",
      "Population      2.9\n",
      "GDP           150.0\n",
      "dtype: float64 Population      2.9\n",
      "GDP           150.0\n",
      "dtype: float64\n",
      "Population      9.8\n",
      "GDP           650.0\n",
      "dtype: float64 Population      9.7\n",
      "GDP           620.0\n",
      "dtype: float64\n"
     ]
    },
    {
     "data": {
      "text/html": [
       "<div>\n",
       "<style scoped>\n",
       "    .dataframe tbody tr th:only-of-type {\n",
       "        vertical-align: middle;\n",
       "    }\n",
       "\n",
       "    .dataframe tbody tr th {\n",
       "        vertical-align: top;\n",
       "    }\n",
       "\n",
       "    .dataframe thead tr th {\n",
       "        text-align: left;\n",
       "    }\n",
       "\n",
       "    .dataframe thead tr:last-of-type th {\n",
       "        text-align: right;\n",
       "    }\n",
       "</style>\n",
       "<table border=\"1\" class=\"dataframe\">\n",
       "  <thead>\n",
       "    <tr>\n",
       "      <th></th>\n",
       "      <th>Population</th>\n",
       "      <th colspan=\"3\" halign=\"left\">GDP</th>\n",
       "      <th>Area</th>\n",
       "    </tr>\n",
       "    <tr>\n",
       "      <th></th>\n",
       "      <th>sum</th>\n",
       "      <th>mean</th>\n",
       "      <th>max</th>\n",
       "      <th>min</th>\n",
       "      <th>count</th>\n",
       "    </tr>\n",
       "    <tr>\n",
       "      <th>City</th>\n",
       "      <th></th>\n",
       "      <th></th>\n",
       "      <th></th>\n",
       "      <th></th>\n",
       "      <th></th>\n",
       "    </tr>\n",
       "  </thead>\n",
       "  <tbody>\n",
       "    <tr>\n",
       "      <th>Busan</th>\n",
       "      <td>7.0</td>\n",
       "      <td>190.0</td>\n",
       "      <td>200</td>\n",
       "      <td>180</td>\n",
       "      <td>2</td>\n",
       "    </tr>\n",
       "    <tr>\n",
       "      <th>Incheon</th>\n",
       "      <td>2.9</td>\n",
       "      <td>150.0</td>\n",
       "      <td>150</td>\n",
       "      <td>150</td>\n",
       "      <td>1</td>\n",
       "    </tr>\n",
       "    <tr>\n",
       "      <th>Seoul</th>\n",
       "      <td>19.5</td>\n",
       "      <td>635.0</td>\n",
       "      <td>650</td>\n",
       "      <td>620</td>\n",
       "      <td>2</td>\n",
       "    </tr>\n",
       "  </tbody>\n",
       "</table>\n",
       "</div>"
      ],
      "text/plain": [
       "        Population    GDP            Area\n",
       "               sum   mean  max  min count\n",
       "City                                     \n",
       "Busan          7.0  190.0  200  180     2\n",
       "Incheon        2.9  150.0  150  150     1\n",
       "Seoul         19.5  635.0  650  620     2"
      ]
     },
     "execution_count": 44,
     "metadata": {},
     "output_type": "execute_result"
    }
   ],
   "source": [
    "# apply group 한번에 적용 \n",
    "\n",
    "data = {'City' : ['Seoul', 'Seoul', 'Busan', 'Busan', 'Incheon'],\n",
    "        'Population' : [9.7, 9.8, 3.4, 3.6, 2.9],\n",
    "        'GDP' : [620, 650, 180, 200, 150],\n",
    "        'Area' : [605.2, 605.2, 770.1, 770.1, 1049]}\n",
    "\n",
    "df = pd.DataFrame(data)\n",
    "\n",
    "grouped = df.groupby('City')\n",
    "\n",
    "for i in grouped :\n",
    "    print(i)\n",
    "\n",
    "# 열 최대값 - 최소값    \n",
    "def max_min(column) :\n",
    "    print(column.max(), column.min())\n",
    "    return column.max() - column.min()\n",
    "\n",
    "apply_result = grouped[['Population', 'GDP']].apply(max_min) # apply(커스텀 함수)\n",
    "\n",
    "agg_result = grouped.agg({'Population' : 'sum', 'GDP' : ['mean', 'max', 'min'], 'Area' : 'count'}) # agg\n",
    "\n",
    "apply_result\n",
    "\n",
    "agg_result"
   ]
  },
  {
   "cell_type": "code",
   "execution_count": null,
   "id": "434a9a97-9bdf-49b9-8728-920075994810",
   "metadata": {},
   "outputs": [],
   "source": []
  }
 ],
 "metadata": {
  "kernelspec": {
   "display_name": "Python 3 (ipykernel)",
   "language": "python",
   "name": "python3"
  },
  "language_info": {
   "codemirror_mode": {
    "name": "ipython",
    "version": 3
   },
   "file_extension": ".py",
   "mimetype": "text/x-python",
   "name": "python",
   "nbconvert_exporter": "python",
   "pygments_lexer": "ipython3",
   "version": "3.11.4"
  }
 },
 "nbformat": 4,
 "nbformat_minor": 5
}
