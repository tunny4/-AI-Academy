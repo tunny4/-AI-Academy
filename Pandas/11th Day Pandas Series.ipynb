{
 "cells": [
  {
   "cell_type": "markdown",
   "id": "9b6aa6bb-228f-4a3e-b896-c594d9137a58",
   "metadata": {},
   "source": [
    "# pandas\n",
    "\n",
    "* 가장 익숙한 데이터 : 테이블 데이터 ex.엑셀\n",
    "* pandas의 2가지 자료구조\n",
    "    - 시리즈 (Series) \n",
    "        - 1차원 배열 구조 \n",
    "    - 데이터 프레임 (Data Frame)\n",
    "        - 2차원 배열 구조\n",
    "        - Series를 여러개 합친 것, Series는 Data Frame의 열 (column)"
   ]
  },
  {
   "cell_type": "code",
   "execution_count": 1,
   "id": "fcb6beb1-d1eb-4cb7-b709-05a95b41a83e",
   "metadata": {
    "tags": []
   },
   "outputs": [],
   "source": [
    "import pandas as pd"
   ]
  },
  {
   "cell_type": "code",
   "execution_count": 2,
   "id": "a48facd5-c720-4d98-a982-8f2ac842e2cd",
   "metadata": {
    "tags": []
   },
   "outputs": [],
   "source": [
    "# sr = pd.Series() # Series Class의 생성자 Series()\n",
    "\n",
    "# dtype Data Type 지정하지 않으면 int64 \n",
    "# index와 함께 생성된다.\n",
    "\n",
    "# 리스트로 시리즈 생성\n",
    "sr_list = pd.Series([1, 2, 3, 4, 5]) \n",
    "\n",
    "# 튜플로 시리즈 생성\n",
    "sr_tuple = pd.Series((1, 2, 3, 4, 5))\n",
    "\n",
    "# 딕셔너리로 시리즈 생성\n",
    "sr_dic = pd.Series({'a':1, 'b':2, 'c':3, 'd':4, 'e':5})  # index가 key값으로 대체된다.\n",
    "\n",
    "# NumPy 배열로 시리즈 생성  # dtype Data Type 지정하지 않으면 int32 ?\n",
    "import numpy as np\n",
    "\n",
    "sr_array = pd.Series(np.array([1, 2, 3, 4, 5]))\n",
    "\n",
    "# 기존 시리즈로 시리즈 생성\n",
    "sr_01 = pd.Series([1, 2, 3, 4, 5])\n",
    "sr_02 = pd.Series(sr_01)"
   ]
  },
  {
   "cell_type": "code",
   "execution_count": 6,
   "id": "1c9e5f33-6ed1-4ba8-90cb-35dd32ef63d7",
   "metadata": {
    "tags": []
   },
   "outputs": [
    {
     "data": {
      "text/plain": [
       "0    1\n",
       "1    2\n",
       "2    3\n",
       "3    4\n",
       "4    5\n",
       "dtype: int32"
      ]
     },
     "execution_count": 6,
     "metadata": {},
     "output_type": "execute_result"
    }
   ],
   "source": [
    "sr_array = pd.Series(np.array([1, 2, 3, 4, 5]))\n",
    "sr_array"
   ]
  },
  {
   "cell_type": "code",
   "execution_count": 7,
   "id": "5376e80c-3231-47be-95b4-39a7d432c60a",
   "metadata": {
    "tags": []
   },
   "outputs": [
    {
     "data": {
      "text/plain": [
       "0    1\n",
       "1    2\n",
       "2    3\n",
       "3    4\n",
       "4    5\n",
       "dtype: int64"
      ]
     },
     "execution_count": 7,
     "metadata": {},
     "output_type": "execute_result"
    }
   ],
   "source": [
    "sr_01 = pd.Series([1, 2, 3, 4, 5])\n",
    "sr_01"
   ]
  },
  {
   "cell_type": "code",
   "execution_count": 9,
   "id": "934bde07-4261-4791-83b4-8dd099e37a2a",
   "metadata": {
    "tags": []
   },
   "outputs": [
    {
     "data": {
      "text/plain": [
       "0    1\n",
       "1    2\n",
       "2    3\n",
       "3    4\n",
       "4    5\n",
       "dtype: int64"
      ]
     },
     "execution_count": 9,
     "metadata": {},
     "output_type": "execute_result"
    }
   ],
   "source": [
    "sr_02 = pd.Series(sr_01)\n",
    "sr_02"
   ]
  },
  {
   "cell_type": "code",
   "execution_count": 31,
   "id": "f4b8502e-d614-44c3-aed7-b3b89a766edd",
   "metadata": {},
   "outputs": [
    {
     "name": "stdout",
     "output_type": "stream",
     "text": [
      "a    1\n",
      "b    2\n",
      "c    3\n",
      "d    4\n",
      "e    5\n",
      "Name: Group_01, dtype: int64\n",
      "a     6\n",
      "b     7\n",
      "c     8\n",
      "d     9\n",
      "e    10\n",
      "Name: Group_02, dtype: int64\n",
      "   Group_01  Group_02\n",
      "a         1         6\n",
      "b         2         7\n",
      "c         3         8\n",
      "d         4         9\n",
      "e         5        10\n"
     ]
    },
    {
     "data": {
      "text/html": [
       "<div>\n",
       "<style scoped>\n",
       "    .dataframe tbody tr th:only-of-type {\n",
       "        vertical-align: middle;\n",
       "    }\n",
       "\n",
       "    .dataframe tbody tr th {\n",
       "        vertical-align: top;\n",
       "    }\n",
       "\n",
       "    .dataframe thead th {\n",
       "        text-align: right;\n",
       "    }\n",
       "</style>\n",
       "<table border=\"1\" class=\"dataframe\">\n",
       "  <thead>\n",
       "    <tr style=\"text-align: right;\">\n",
       "      <th></th>\n",
       "      <th>Group_01</th>\n",
       "      <th>Group_02</th>\n",
       "    </tr>\n",
       "  </thead>\n",
       "  <tbody>\n",
       "    <tr>\n",
       "      <th>a</th>\n",
       "      <td>1</td>\n",
       "      <td>6</td>\n",
       "    </tr>\n",
       "    <tr>\n",
       "      <th>b</th>\n",
       "      <td>2</td>\n",
       "      <td>7</td>\n",
       "    </tr>\n",
       "    <tr>\n",
       "      <th>c</th>\n",
       "      <td>3</td>\n",
       "      <td>8</td>\n",
       "    </tr>\n",
       "    <tr>\n",
       "      <th>d</th>\n",
       "      <td>4</td>\n",
       "      <td>9</td>\n",
       "    </tr>\n",
       "    <tr>\n",
       "      <th>e</th>\n",
       "      <td>5</td>\n",
       "      <td>10</td>\n",
       "    </tr>\n",
       "  </tbody>\n",
       "</table>\n",
       "</div>"
      ],
      "text/plain": [
       "   Group_01  Group_02\n",
       "a         1         6\n",
       "b         2         7\n",
       "c         3         8\n",
       "d         4         9\n",
       "e         5        10"
      ]
     },
     "execution_count": 31,
     "metadata": {},
     "output_type": "execute_result"
    }
   ],
   "source": [
    "# 매개변수, 위치인자, 키워드인자  # dtype 변경가능 실수, 문자열, 날짜 등.. dtype과 data도 맞아야한다.\n",
    "sr = pd.Series(data=[1, 2, 3, 4, 5], index=['a', 'b', 'c', 'd', 'e'], dtype = str)\n",
    "\n",
    "idx = ['a', 'b', 'c', 'd', 'e']\n",
    "\n",
    "# 매개변수 name Series 이름 부여, Data Frame의 열로 이름을 가진다.\n",
    "sr_2 = pd.Series(data=[1, 2, 3, 4, 5], index = idx, name = 'Group_01')\n",
    "sr_3 = pd.Series(data=[6, 7, 8, 9, 10], index = idx, name = 'Group_02')\n",
    "\n",
    "df = pd.concat((sr_2, sr_3), axis = 1) # Data Frame 생성, 각 시리즈가 이름이 있다면 열의 이름이 된다.\n",
    "\n",
    "print(sr_2)\n",
    "print(sr_3)\n",
    "print(df)\n",
    "df\n",
    "# sr_3 = pd.Series(data=[1, 2, 3, 4, 5], index=['a', 'b', 'c', 'd', 'e', 'f'])   # 인덱스를 직접 지정하려면 Data 개수와 index 개수가 같아야한다."
   ]
  },
  {
   "cell_type": "code",
   "execution_count": 39,
   "id": "966b0673-2357-4047-8208-0874aa6283ff",
   "metadata": {},
   "outputs": [
    {
     "name": "stdout",
     "output_type": "stream",
     "text": [
      "[999 999   3   4   5] \n",
      "\n",
      "0    999\n",
      "1    999\n",
      "2      3\n",
      "3      4\n",
      "4      5\n",
      "dtype: int32\n",
      "[1, 2, 3, 4, 5] \n",
      "\n",
      "0    999\n",
      "1    999\n",
      "2      3\n",
      "3      4\n",
      "4      5\n",
      "dtype: int64\n"
     ]
    }
   ],
   "source": [
    "# copy\n",
    "\n",
    "arr = np.array([1, 2, 3, 4, 5])\n",
    "sr = pd.Series(arr, copy = False) # copy가 false이면 데이터 원본을 이용한다. defalut로 이용하면 된다.\n",
    "\n",
    "sr[0] = 999\n",
    "sr[1] = 999\n",
    "\n",
    "print(arr, '\\n')\n",
    "print(sr)\n",
    "\n",
    "lst = [1, 2, 3, 4, 5]\n",
    "sr_lst = pd.Series(lst, copy = False) # copy false로 데이터 원본을 이용하려면 데이터 원본이 numpy array일 경우만 가능하다.\n",
    "\n",
    "sr_lst[0] = 999\n",
    "sr_lst[1] = 999\n",
    "\n",
    "print(lst, '\\n')\n",
    "print(sr_lst)"
   ]
  },
  {
   "cell_type": "code",
   "execution_count": 34,
   "id": "9e9c67a5-13a6-4183-a4ba-c8749f92e8d1",
   "metadata": {},
   "outputs": [
    {
     "name": "stdout",
     "output_type": "stream",
     "text": [
      "[999, 2, 3, 4, 5] [999, 2, 3, 4, 5]\n"
     ]
    }
   ],
   "source": [
    "# 원본데이터가 변형되지 않도록 주의해야한다.\n",
    "\n",
    "list_01 = [1, 2, 3, 4, 5]\n",
    "\n",
    "list_02 = list_01 # 리스트 02가 리스트 01이 저장된 메모리를 참조한다. (한 공간을 2개의 리스트가 참조하고 있다.) view \n",
    "\n",
    "list_02[0] = 999\n",
    "list_01[0]\n",
    "\n",
    "print(list_01, list_02)"
   ]
  },
  {
   "cell_type": "code",
   "execution_count": 57,
   "id": "583de55e-9f38-48cc-9b31-85018c67507c",
   "metadata": {},
   "outputs": [
    {
     "name": "stdout",
     "output_type": "stream",
     "text": [
      "Index(['a', 'b', 'c', 'd', 'e'], dtype='object')\n",
      "[1 2 3 4 5]\n",
      "(5,)\n",
      "1\n",
      "int64\n",
      "40\n",
      "False\n",
      "True\n",
      "False\n"
     ]
    }
   ],
   "source": [
    "# 시리즈 속성\n",
    "\n",
    "sr = pd.Series([1, 2, 3, 4, 5], index = ['a', 'b', 'c', 'd', 'e'])\n",
    "sr_array = pd.Series([np.nan, 2, 3, 4, 5])\n",
    "print(sr.index)  # index만 \n",
    "print(sr.values) # data만\n",
    "print(sr.shape) # 형태\n",
    "print(sr.ndim) # 차원\n",
    "print(sr.dtype) # data 타입\n",
    "print(sr.nbytes) # 40byte 5개니까 1개당 8byte\n",
    "print(sr.hasnans) # Has Not A Numbers \n",
    "print(sr_array.hasnans) # nan 검사\n",
    "print(sr.empty) # 빈 시리즈"
   ]
  },
  {
   "cell_type": "code",
   "execution_count": 58,
   "id": "648e2dd2-7b64-4b78-8ed1-70c2ed4c49d7",
   "metadata": {},
   "outputs": [
    {
     "data": {
      "text/plain": [
       "tuple"
      ]
     },
     "execution_count": 58,
     "metadata": {},
     "output_type": "execute_result"
    }
   ],
   "source": [
    "# 1개 값만 가진 튜플 1, 로 표시\n",
    "t = ()\n",
    "t_01 = (1)\n",
    "t_02 = (1,)\n",
    "type(t)\n",
    "type(t_01)\n",
    "type(t_02)"
   ]
  },
  {
   "cell_type": "code",
   "execution_count": 75,
   "id": "dac66159-ce78-4b13-ab4f-f2d6d97a416f",
   "metadata": {},
   "outputs": [
    {
     "name": "stdout",
     "output_type": "stream",
     "text": [
      "10\n",
      "10\n",
      "10\n"
     ]
    }
   ],
   "source": [
    "sr = pd.Series([10, 20, 30, 40], index = ['A', 'B', 'C', 'D'])\n",
    "print(sr[0])\n",
    "print(sr.iloc[0]) # integer location\n",
    "print(sr.loc['A']) # location"
   ]
  },
  {
   "cell_type": "code",
   "execution_count": 80,
   "id": "7832a62c-931c-4156-b13f-292ab4c72573",
   "metadata": {},
   "outputs": [
    {
     "name": "stdout",
     "output_type": "stream",
     "text": [
      "A    10\n",
      "C    30\n",
      "D    40\n",
      "dtype: int64\n",
      "A    10\n",
      "B    20\n",
      "dtype: int64\n",
      "A    10\n",
      "B    20\n",
      "C    30\n",
      "D    40\n",
      "dtype: int64\n",
      "10\n",
      "10\n",
      "B    20\n",
      "C    30\n",
      "D    40\n",
      "dtype: int64\n",
      "B    20\n",
      "dtype: int64\n"
     ]
    }
   ],
   "source": [
    "# 슬라이싱    인덱싱 = 검색\n",
    "\n",
    "# 정수 인덱싱\n",
    "print(sr[[0, 2, 3]]) # 해당 위치에 있는 값을 가져 올 수 있다.\n",
    "print(sr[0:2])\n",
    "print(sr.iloc[:])\n",
    "\n",
    "# label 인덱싱\n",
    "print(sr['A']) # index 값을 이용해서 값을 찾는다.\n",
    "print(sr.loc['A']) # integer가 아니면 loc\n",
    "print(sr.loc['B':'D'])\n",
    "\n",
    "# 조건으로 인덱싱\n",
    "print(sr[sr == 20])"
   ]
  },
  {
   "cell_type": "code",
   "execution_count": 89,
   "id": "5e31f403-99ff-43cd-a99d-e356a615a6d2",
   "metadata": {},
   "outputs": [
    {
     "name": "stdout",
     "output_type": "stream",
     "text": [
      "D    4\n",
      "E    5\n",
      "F    6\n",
      "dtype: int64\n"
     ]
    }
   ],
   "source": [
    "# 시리즈 값 추가, 삭제, 갱신, 검색( = 인덱싱)\n",
    "\n",
    "# 데이터 추가\n",
    "\n",
    "data = [1, 2, 3, 4, 5]\n",
    "idx = ['A', 'B', 'C', 'D', 'E']\n",
    "\n",
    "sr = pd.Series(data, index = idx)\n",
    "\n",
    "# 데이터가 없으면 추가, 있다면 갱신\n",
    "sr.loc['F'] = 6 # 데이터 추가  \n",
    "sr.loc['B'] = 6 # 데이터 갱신\n",
    "\n",
    "sr = sr.drop('A') # 데이터 삭제\n",
    "sr = sr.drop(['B', 'C']) # 여러 데이터 삭제\n",
    "print(sr)"
   ]
  },
  {
   "cell_type": "code",
   "execution_count": null,
   "id": "b9331af4-01af-4edc-bbc6-e85e5a8d2d0d",
   "metadata": {},
   "outputs": [],
   "source": []
  }
 ],
 "metadata": {
  "kernelspec": {
   "display_name": "Python 3 (ipykernel)",
   "language": "python",
   "name": "python3"
  },
  "language_info": {
   "codemirror_mode": {
    "name": "ipython",
    "version": 3
   },
   "file_extension": ".py",
   "mimetype": "text/x-python",
   "name": "python",
   "nbconvert_exporter": "python",
   "pygments_lexer": "ipython3",
   "version": "3.11.4"
  }
 },
 "nbformat": 4,
 "nbformat_minor": 5
}
