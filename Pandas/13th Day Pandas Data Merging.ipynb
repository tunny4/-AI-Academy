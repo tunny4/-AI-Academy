{
 "cells": [
  {
   "cell_type": "code",
   "execution_count": 1,
   "id": "3ba589d0-ab2e-41b8-98d2-4c40eeef2cc0",
   "metadata": {},
   "outputs": [],
   "source": [
    "# 데이터 병합 concat\n",
    "import pandas as pd"
   ]
  },
  {
   "cell_type": "code",
   "execution_count": 10,
   "id": "68dcdef1-17e1-4190-a4b2-401896dbbad8",
   "metadata": {},
   "outputs": [],
   "source": [
    "data_01 = {'고객 ID' : ['1', '2', '3'],\n",
    "           '이름' : ['John', 'Mike', 'Sarah'],\n",
    "           '나이' : [25, 35, 30]}\n",
    "\n",
    "data_02 = {'고객 ID' : ['4', '5', '6'],\n",
    "           '이름' : ['Adam', 'Kim', 'Park'],\n",
    "           '나이' : [22, 17, 32]}\n",
    "\n",
    "df_01 = pd.DataFrame(data_01)\n",
    "df_02 = pd.DataFrame(data_02)"
   ]
  },
  {
   "cell_type": "code",
   "execution_count": 14,
   "id": "72ea0a66-b5b5-4e39-9b16-da22219172e8",
   "metadata": {},
   "outputs": [
    {
     "data": {
      "text/html": [
       "<div>\n",
       "<style scoped>\n",
       "    .dataframe tbody tr th:only-of-type {\n",
       "        vertical-align: middle;\n",
       "    }\n",
       "\n",
       "    .dataframe tbody tr th {\n",
       "        vertical-align: top;\n",
       "    }\n",
       "\n",
       "    .dataframe thead th {\n",
       "        text-align: right;\n",
       "    }\n",
       "</style>\n",
       "<table border=\"1\" class=\"dataframe\">\n",
       "  <thead>\n",
       "    <tr style=\"text-align: right;\">\n",
       "      <th></th>\n",
       "      <th>고객 ID</th>\n",
       "      <th>이름</th>\n",
       "      <th>나이</th>\n",
       "    </tr>\n",
       "  </thead>\n",
       "  <tbody>\n",
       "    <tr>\n",
       "      <th>0</th>\n",
       "      <td>1</td>\n",
       "      <td>John</td>\n",
       "      <td>25</td>\n",
       "    </tr>\n",
       "    <tr>\n",
       "      <th>1</th>\n",
       "      <td>2</td>\n",
       "      <td>Mike</td>\n",
       "      <td>35</td>\n",
       "    </tr>\n",
       "    <tr>\n",
       "      <th>2</th>\n",
       "      <td>3</td>\n",
       "      <td>Sarah</td>\n",
       "      <td>30</td>\n",
       "    </tr>\n",
       "    <tr>\n",
       "      <th>0</th>\n",
       "      <td>4</td>\n",
       "      <td>Adam</td>\n",
       "      <td>22</td>\n",
       "    </tr>\n",
       "    <tr>\n",
       "      <th>1</th>\n",
       "      <td>5</td>\n",
       "      <td>Kim</td>\n",
       "      <td>17</td>\n",
       "    </tr>\n",
       "    <tr>\n",
       "      <th>2</th>\n",
       "      <td>6</td>\n",
       "      <td>Park</td>\n",
       "      <td>32</td>\n",
       "    </tr>\n",
       "  </tbody>\n",
       "</table>\n",
       "</div>"
      ],
      "text/plain": [
       "  고객 ID     이름  나이\n",
       "0     1   John  25\n",
       "1     2   Mike  35\n",
       "2     3  Sarah  30\n",
       "0     4   Adam  22\n",
       "1     5    Kim  17\n",
       "2     6   Park  32"
      ]
     },
     "execution_count": 14,
     "metadata": {},
     "output_type": "execute_result"
    }
   ],
   "source": [
    "# concat() 함수\n",
    "concatenated_df = pd.concat([df_01, df_02], axis = 0)\n",
    "\n",
    "concatenated_df"
   ]
  },
  {
   "cell_type": "code",
   "execution_count": 31,
   "id": "c001ce30-246e-40cb-8309-93924031c4d2",
   "metadata": {},
   "outputs": [
    {
     "data": {
      "text/html": [
       "<div>\n",
       "<style scoped>\n",
       "    .dataframe tbody tr th:only-of-type {\n",
       "        vertical-align: middle;\n",
       "    }\n",
       "\n",
       "    .dataframe tbody tr th {\n",
       "        vertical-align: top;\n",
       "    }\n",
       "\n",
       "    .dataframe thead th {\n",
       "        text-align: right;\n",
       "    }\n",
       "</style>\n",
       "<table border=\"1\" class=\"dataframe\">\n",
       "  <thead>\n",
       "    <tr style=\"text-align: right;\">\n",
       "      <th></th>\n",
       "      <th>고객 ID</th>\n",
       "      <th>이름</th>\n",
       "      <th>나이</th>\n",
       "      <th>주소</th>\n",
       "    </tr>\n",
       "  </thead>\n",
       "  <tbody>\n",
       "    <tr>\n",
       "      <th>0</th>\n",
       "      <td>2</td>\n",
       "      <td>Mike</td>\n",
       "      <td>35</td>\n",
       "      <td>NY</td>\n",
       "    </tr>\n",
       "    <tr>\n",
       "      <th>1</th>\n",
       "      <td>3</td>\n",
       "      <td>Sarah</td>\n",
       "      <td>30</td>\n",
       "      <td>LA</td>\n",
       "    </tr>\n",
       "  </tbody>\n",
       "</table>\n",
       "</div>"
      ],
      "text/plain": [
       "  고객 ID     이름  나이  주소\n",
       "0     2   Mike  35  NY\n",
       "1     3  Sarah  30  LA"
      ]
     },
     "execution_count": 31,
     "metadata": {},
     "output_type": "execute_result"
    }
   ],
   "source": [
    "# Merging() 함수 활용도는 낮다.\n",
    "\n",
    "data_01 = {'고객 ID' : ['1', '2', '3'],\n",
    "           '이름' : ['John', 'Mike', 'Sarah'],\n",
    "           '나이' : [25, 35, 30]}\n",
    "\n",
    "data_02 = {'고객 ID' : ['2', '3', '4'],\n",
    "           '주소' : ['NY', 'LA', 'FL']}\n",
    "\n",
    "df_01 = pd.DataFrame(data_01)\n",
    "df_02 = pd.DataFrame(data_02)\n",
    "\n",
    "# 공백은 NaN으로 채워진다.\n",
    "merged_df = pd.merge(df_01, df_02, on = '고객 ID', how = 'inner') # how 인자 default는 inner : 교집합\n",
    "# merged_df = pd.merge(df_01, df_02, on = '고객 ID', how = 'outer') # outer : 합집합\n",
    "# merged_df = pd.merge(df_01, df_02, on = '고객 ID', how = 'left') # left 왼쪽 Data 기준으로 \n",
    "# merged_df = pd.merge(df_01, df_02, on = '고객 ID', how = 'right') # right 오른쪽 Data 기준으로\n",
    "\n",
    "merged_df"
   ]
  },
  {
   "cell_type": "code",
   "execution_count": 38,
   "id": "6309a3e3-cfad-403a-bdc7-5b7248e3d182",
   "metadata": {},
   "outputs": [
    {
     "name": "stdout",
     "output_type": "stream",
     "text": [
      "  고객 ID     이름  나이  주소   직업\n",
      "0     1   John  25  NY   학생\n",
      "1     2   Mike  35  LA  회사원\n",
      "2     3  Sarah  30  FL   교사\n",
      "  고객 ID     이름  나이  주소   직업\n",
      "0     1   John  25  NY   학생\n",
      "1     2   Mike  35  LA  회사원\n",
      "2     3  Sarah  30  FL   교사\n"
     ]
    }
   ],
   "source": [
    "# Join() 함수 \n",
    "\n",
    "data_01 = {'고객 ID' : ['1', '2', '3'],\n",
    "           '이름' : ['John', 'Mike', 'Sarah'],\n",
    "           '나이' : [25, 35, 30]}\n",
    "\n",
    "data_02 = {'주소' : ['NY', 'LA', 'FL'],\n",
    "           '직업' : ['학생', '회사원', '교사']}\n",
    "\n",
    "df_01 = pd.DataFrame(data_01)\n",
    "df_02 = pd.DataFrame(data_02)\n",
    "\n",
    "\n",
    "concatenated_df = pd.concat([df_01, df_02], axis = 1)\n",
    "\n",
    "print(concatenated_df)\n",
    "\n",
    "\n",
    "joined_df = df_01.join(df_02)\n",
    "\n",
    "print(joined_df)"
   ]
  },
  {
   "cell_type": "code",
   "execution_count": 39,
   "id": "fa7cbd97-09fd-4d82-ab4e-6aef65e555f4",
   "metadata": {},
   "outputs": [
    {
     "data": {
      "text/html": [
       "<div>\n",
       "<style scoped>\n",
       "    .dataframe tbody tr th:only-of-type {\n",
       "        vertical-align: middle;\n",
       "    }\n",
       "\n",
       "    .dataframe tbody tr th {\n",
       "        vertical-align: top;\n",
       "    }\n",
       "\n",
       "    .dataframe thead th {\n",
       "        text-align: right;\n",
       "    }\n",
       "</style>\n",
       "<table border=\"1\" class=\"dataframe\">\n",
       "  <thead>\n",
       "    <tr style=\"text-align: right;\">\n",
       "      <th></th>\n",
       "      <th>학년</th>\n",
       "      <th>과목</th>\n",
       "      <th>점수</th>\n",
       "    </tr>\n",
       "  </thead>\n",
       "  <tbody>\n",
       "    <tr>\n",
       "      <th>0</th>\n",
       "      <td>1학년</td>\n",
       "      <td>수학</td>\n",
       "      <td>80</td>\n",
       "    </tr>\n",
       "    <tr>\n",
       "      <th>1</th>\n",
       "      <td>1학년</td>\n",
       "      <td>영어</td>\n",
       "      <td>90</td>\n",
       "    </tr>\n",
       "    <tr>\n",
       "      <th>2</th>\n",
       "      <td>2학년</td>\n",
       "      <td>수학</td>\n",
       "      <td>70</td>\n",
       "    </tr>\n",
       "    <tr>\n",
       "      <th>3</th>\n",
       "      <td>2학년</td>\n",
       "      <td>영어</td>\n",
       "      <td>85</td>\n",
       "    </tr>\n",
       "  </tbody>\n",
       "</table>\n",
       "</div>"
      ],
      "text/plain": [
       "    학년  과목  점수\n",
       "0  1학년  수학  80\n",
       "1  1학년  영어  90\n",
       "2  2학년  수학  70\n",
       "3  2학년  영어  85"
      ]
     },
     "execution_count": 39,
     "metadata": {},
     "output_type": "execute_result"
    }
   ],
   "source": [
    "# pivot() 함수 축을 기준으로 회전\n",
    "\n",
    "data = {'학년' : ['1학년', '1학년', '2학년', '2학년'],\n",
    "        '과목' : ['수학', '영어', '수학', '영어'],\n",
    "        '점수' : [80, 90, 70, 85]}\n",
    "\n",
    "df = pd.DataFrame(data)\n",
    "\n",
    "df"
   ]
  },
  {
   "cell_type": "code",
   "execution_count": 40,
   "id": "7c1450b9-5668-41cc-9ff7-cb461926f85c",
   "metadata": {},
   "outputs": [
    {
     "data": {
      "text/html": [
       "<div>\n",
       "<style scoped>\n",
       "    .dataframe tbody tr th:only-of-type {\n",
       "        vertical-align: middle;\n",
       "    }\n",
       "\n",
       "    .dataframe tbody tr th {\n",
       "        vertical-align: top;\n",
       "    }\n",
       "\n",
       "    .dataframe thead th {\n",
       "        text-align: right;\n",
       "    }\n",
       "</style>\n",
       "<table border=\"1\" class=\"dataframe\">\n",
       "  <thead>\n",
       "    <tr style=\"text-align: right;\">\n",
       "      <th>과목</th>\n",
       "      <th>수학</th>\n",
       "      <th>영어</th>\n",
       "    </tr>\n",
       "    <tr>\n",
       "      <th>학년</th>\n",
       "      <th></th>\n",
       "      <th></th>\n",
       "    </tr>\n",
       "  </thead>\n",
       "  <tbody>\n",
       "    <tr>\n",
       "      <th>1학년</th>\n",
       "      <td>80</td>\n",
       "      <td>90</td>\n",
       "    </tr>\n",
       "    <tr>\n",
       "      <th>2학년</th>\n",
       "      <td>70</td>\n",
       "      <td>85</td>\n",
       "    </tr>\n",
       "  </tbody>\n",
       "</table>\n",
       "</div>"
      ],
      "text/plain": [
       "과목   수학  영어\n",
       "학년         \n",
       "1학년  80  90\n",
       "2학년  70  85"
      ]
     },
     "execution_count": 40,
     "metadata": {},
     "output_type": "execute_result"
    }
   ],
   "source": [
    "pivot_df = df.pivot(index = '학년', columns = '과목', values = '점수')\n",
    "\n",
    "pivot_df"
   ]
  },
  {
   "cell_type": "code",
   "execution_count": 41,
   "id": "8f450b30-f564-4905-ace9-fd434cd28fc7",
   "metadata": {},
   "outputs": [
    {
     "data": {
      "text/html": [
       "<div>\n",
       "<style scoped>\n",
       "    .dataframe tbody tr th:only-of-type {\n",
       "        vertical-align: middle;\n",
       "    }\n",
       "\n",
       "    .dataframe tbody tr th {\n",
       "        vertical-align: top;\n",
       "    }\n",
       "\n",
       "    .dataframe thead th {\n",
       "        text-align: right;\n",
       "    }\n",
       "</style>\n",
       "<table border=\"1\" class=\"dataframe\">\n",
       "  <thead>\n",
       "    <tr style=\"text-align: right;\">\n",
       "      <th>학년</th>\n",
       "      <th>1학년</th>\n",
       "      <th>2학년</th>\n",
       "    </tr>\n",
       "    <tr>\n",
       "      <th>과목</th>\n",
       "      <th></th>\n",
       "      <th></th>\n",
       "    </tr>\n",
       "  </thead>\n",
       "  <tbody>\n",
       "    <tr>\n",
       "      <th>수학</th>\n",
       "      <td>80</td>\n",
       "      <td>70</td>\n",
       "    </tr>\n",
       "    <tr>\n",
       "      <th>영어</th>\n",
       "      <td>90</td>\n",
       "      <td>85</td>\n",
       "    </tr>\n",
       "  </tbody>\n",
       "</table>\n",
       "</div>"
      ],
      "text/plain": [
       "학년  1학년  2학년\n",
       "과목          \n",
       "수학   80   70\n",
       "영어   90   85"
      ]
     },
     "execution_count": 41,
     "metadata": {},
     "output_type": "execute_result"
    }
   ],
   "source": [
    "pivot_df = df.pivot(index = '과목', columns = '학년', values = '점수')\n",
    "\n",
    "pivot_df"
   ]
  }
 ],
 "metadata": {
  "kernelspec": {
   "display_name": "Python 3 (ipykernel)",
   "language": "python",
   "name": "python3"
  },
  "language_info": {
   "codemirror_mode": {
    "name": "ipython",
    "version": 3
   },
   "file_extension": ".py",
   "mimetype": "text/x-python",
   "name": "python",
   "nbconvert_exporter": "python",
   "pygments_lexer": "ipython3",
   "version": "3.11.4"
  }
 },
 "nbformat": 4,
 "nbformat_minor": 5
}
