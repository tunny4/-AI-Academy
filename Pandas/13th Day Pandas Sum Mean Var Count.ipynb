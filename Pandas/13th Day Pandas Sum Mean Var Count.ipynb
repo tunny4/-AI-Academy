{
 "cells": [
  {
   "cell_type": "code",
   "execution_count": 1,
   "id": "e56202a0-8a33-4cc8-8c24-e851a3d3e66e",
   "metadata": {},
   "outputs": [],
   "source": [
    "# Pandas SUM MEAN VAR COUNT\n",
    "import pandas as pd"
   ]
  },
  {
   "cell_type": "code",
   "execution_count": 8,
   "id": "59fdfac4-6515-46d9-aeb2-34701d591306",
   "metadata": {},
   "outputs": [
    {
     "name": "stdout",
     "output_type": "stream",
     "text": [
      "15500\n",
      "583333.3333333333\n",
      "32.0\n",
      "3\n"
     ]
    }
   ],
   "source": [
    "# sum() mean() var() count()\n",
    "\n",
    "data = {'Name' : ['John', 'Emma', 'Peter'],\n",
    "        'Age' : [28, 43, 25],\n",
    "        'Salary' : [5000, 6000, 4500]}\n",
    "\n",
    "df = pd.DataFrame(data)\n",
    "\n",
    "total_Salary = df['Salary'].sum()\n",
    "variance_Salary = df['Salary'].var()\n",
    "mean_Age = df['Age'].mean()\n",
    "count_Name = df['Name'].count()\n",
    "\n",
    "print(total_Salary)\n",
    "print(variance_Salary)\n",
    "print(mean_Age)\n",
    "print(count_Name)"
   ]
  },
  {
   "cell_type": "code",
   "execution_count": 22,
   "id": "4dd2ebc3-a6c3-4481-85c5-299b1b1a8543",
   "metadata": {},
   "outputs": [
    {
     "name": "stdout",
     "output_type": "stream",
     "text": [
      "     sepal length (cm)  sepal width (cm)  petal length (cm)  petal width (cm)  \\\n",
      "0                  5.1               3.5                1.4               0.2   \n",
      "1                  4.9               3.0                1.4               0.2   \n",
      "2                  4.7               3.2                1.3               0.2   \n",
      "3                  4.6               3.1                1.5               0.2   \n",
      "4                  5.0               3.6                1.4               0.2   \n",
      "..                 ...               ...                ...               ...   \n",
      "145                6.7               3.0                5.2               2.3   \n",
      "146                6.3               2.5                5.0               1.9   \n",
      "147                6.5               3.0                5.2               2.0   \n",
      "148                6.2               3.4                5.4               2.3   \n",
      "149                5.9               3.0                5.1               1.8   \n",
      "\n",
      "     target  \n",
      "0         0  \n",
      "1         0  \n",
      "2         0  \n",
      "3         0  \n",
      "4         0  \n",
      "..      ...  \n",
      "145       2  \n",
      "146       2  \n",
      "147       2  \n",
      "148       2  \n",
      "149       2  \n",
      "\n",
      "[150 rows x 5 columns]\n",
      "876.5\n",
      "1.1993333333333336\n",
      "0.1899794183445188\n",
      "150\n"
     ]
    },
    {
     "data": {
      "text/plain": [
       "0      5.1\n",
       "1      4.9\n",
       "2      4.7\n",
       "3      4.6\n",
       "4      5.0\n",
       "      ... \n",
       "145    6.7\n",
       "146    6.3\n",
       "147    6.5\n",
       "148    6.2\n",
       "149    5.9\n",
       "Name: sepal length (cm), Length: 150, dtype: float64"
      ]
     },
     "execution_count": 22,
     "metadata": {},
     "output_type": "execute_result"
    }
   ],
   "source": [
    "# iris 데이터셋으로 통계 함수 사용하기\n",
    "from sklearn.datasets import load_iris\n",
    "\n",
    "iris = load_iris()\n",
    "iris_df = pd.DataFrame(iris.data, columns = iris.feature_names)\n",
    "iris_df['target'] = iris.target\n",
    "\n",
    "print(iris_df)\n",
    "\n",
    "# 1.sepal length 열의 합계\n",
    "\n",
    "sepal_length_sum = iris_df['sepal length (cm)'].sum()\n",
    "print(sepal_length_sum)\n",
    "\n",
    "# 2.petal width 열의 평균\n",
    "petal_width_mean = iris_df['petal width (cm)'].mean()\n",
    "print(petal_width_mean)\n",
    "\n",
    "# 3.sepal width 열의 분산\n",
    "sepal_width_var = iris_df['sepal width (cm)'].var()\n",
    "print(sepal_width_var)\n",
    "\n",
    "# 4.target 열의 개수\n",
    "target_count = iris_df['target'].count()\n",
    "print(target_count)\n",
    "\n",
    "iris_df['sepal length (cm)']"
   ]
  }
 ],
 "metadata": {
  "kernelspec": {
   "display_name": "Python 3 (ipykernel)",
   "language": "python",
   "name": "python3"
  },
  "language_info": {
   "codemirror_mode": {
    "name": "ipython",
    "version": 3
   },
   "file_extension": ".py",
   "mimetype": "text/x-python",
   "name": "python",
   "nbconvert_exporter": "python",
   "pygments_lexer": "ipython3",
   "version": "3.11.4"
  }
 },
 "nbformat": 4,
 "nbformat_minor": 5
}
