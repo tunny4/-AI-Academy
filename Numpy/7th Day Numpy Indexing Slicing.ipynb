{
 "cells": [
  {
   "cell_type": "markdown",
   "id": "08fc1750-c6be-42bd-8446-6606c220b1ca",
   "metadata": {},
   "source": [
    "# 넘파이 numpy\n",
    "\n",
    "* 가상환경 만들기\n",
    "    - conda update -n base conda # 업데이트\n",
    "\n",
    "    - conda update --all # 설치\n",
    "\n",
    "    - conda create --name 가상환경이름   # 가상환경 만들기\n",
    "\n",
    "    - conda activate 가상환경이름  # 가상환경 인증, 활성화\n",
    "\n",
    "    - conda list # 가상환경 내 라이브러리 목록 보기\n",
    "\n",
    "    - conda install numpy # 가상환경에 numpy 라이브러리 설치\n",
    "\n",
    "    - 왜 가상환경을 만들어서 할까?\n",
    "        -새로운 프로젝트를 나누기 위해, 라이브러리 꼬임을 방지하기 위해 ... \n",
    "\n",
    "* 대용량 배열과 행렬 연산에 대한 **고속 연산** 을 지원하는 라이브러리\n",
    "    - ex. 이미지는 3차원 데이터(높이, 너비, 채널 수), 실제로 가져오면 3차원이 아니며 4차원으로 변경해야 될 일이있다. ... 엄청 많은 데이터 작업이 필요하다는 뜻?\n",
    "* 딥러닝에 입력으로 들어가는 이미지, 4차원 데이터(batch_size, 높이, 너비, 채널 수)\n",
    "* 고속 연산과 이미지 러닝에 이용\n",
    "* 기존 파이썬보다 빠르다. 속도 차이가 크다.\n",
    "* C 기반으로 연산을 한다. --운영체제와의 리소스 할당에관한 작업이 없어서 빠르다\n",
    "* 벡터화 연산 \n",
    "    - ex. list 제곱을 하려면 for문이 돌아가면서 작업, 배열은 각 요소에 바로 제곱\n",
    "    \n",
    "* Numpy 배열 생성\n",
    "    - array() 함수 : 넘파이 배열을 생성하기 위해 사용\n",
    "    \n",
    "* NumPy에서 차원의 의미\n",
    "    - 차원은 배열의 축(axis)의 개수를 의미함\n",
    "        - 1차원 배열은 하나의 축으로 이루어진 배열 : (3, ), 2차원 : (2, 3), 3차원 (2, 1, 2) ....\n",
    "\n",
    "* 다양한 NumPy 배열 생성\n",
    "    - arr = np.array() 로 빈 배열 생성이 불가능하다.\n",
    "    - zeros() : 모든 요소가 0인 배열을 생성하는 함수\n",
    "    - ones() : 모든 요소가 1인 배열을 생성하는 함수\n",
    "    - empty() : 지정된 형태로 새로운 배열을 생성하는 함수\n",
    "    - full() : 지정된 크기와 값을 가지는 배열을 생성\n",
    "    - arange() : 지정된 범위 내에서 지정된 간격으로 일정한 값의 배열을 생성 \n",
    "        - 1차원으로만 생성된다.\n",
    "    - linspace() : 지정된 범위에서 지정된 개수만큼 동일한 간격으로 일정한 값의 배열을 생성"
   ]
  },
  {
   "cell_type": "code",
   "execution_count": 2,
   "id": "dae35d70-90cc-4af3-91e1-556a6ebeb98e",
   "metadata": {},
   "outputs": [],
   "source": [
    "import numpy as np"
   ]
  },
  {
   "cell_type": "code",
   "execution_count": 8,
   "id": "edc5aed6-7ec8-4e1b-9861-93cc7dbc4e6c",
   "metadata": {},
   "outputs": [
    {
     "name": "stdout",
     "output_type": "stream",
     "text": [
      "1.3146486282348633\n"
     ]
    }
   ],
   "source": [
    "import time\n",
    "# time() 현재 시간\n",
    "start_time = time.time()   # 시작시간 \n",
    "\n",
    "numbers = range(1, 10000001)\n",
    "squares = []\n",
    "\n",
    "for num in numbers :\n",
    "    squares.append(num**2)\n",
    "\n",
    "end_time = time.time()    # 종료시간\n",
    "\n",
    "print(end_time - start_time)"
   ]
  },
  {
   "cell_type": "code",
   "execution_count": 10,
   "id": "d2f66cf5-2404-49a1-9a24-dd1566636721",
   "metadata": {},
   "outputs": [
    {
     "name": "stdout",
     "output_type": "stream",
     "text": [
      "0.011288642883300781\n"
     ]
    }
   ],
   "source": [
    "import time\n",
    "import numpy as np\n",
    "# time() 현재 시간\n",
    "start_time = time.time()   # 시작시간 \n",
    "\n",
    "numbers = np.arange(1, 10000001)\n",
    "squares = np.square(numbers)  # square() 제곱을 구하는 함수\n",
    "\n",
    "end_time = time.time()    # 종료시간\n",
    "\n",
    "print(end_time - start_time)    # numpy를 이용하면 속도가 빠르다."
   ]
  },
  {
   "cell_type": "code",
   "execution_count": 25,
   "id": "bf93cfe8-8404-403f-a9fd-2a5f5bd6f6e0",
   "metadata": {},
   "outputs": [
    {
     "name": "stdout",
     "output_type": "stream",
     "text": [
      "<class 'numpy.ndarray'>\n",
      "[1 2 3 4 5]\n",
      "arr의 형태 : (5,)\n",
      "arr의 차원수 : 1\n",
      "arr의 내부 원소의 자료형 : int32\n",
      "arr의 내부 원소의 크기 : 4\n",
      "arr의 내부 원소의 개수 : 5\n"
     ]
    }
   ],
   "source": [
    "import numpy as np\n",
    "\n",
    "arr = np.array([1, 2, 3, 4, 5])\n",
    "arr\n",
    "print(type(arr))\n",
    "print(arr)\n",
    "print(\"arr의 형태 :\", arr.shape) # 배열의 형태\n",
    "print(\"arr의 차원수 :\", arr.ndim) # 배열의 차원수\n",
    "print(\"arr의 내부 원소의 자료형 :\", arr.dtype) # 배열 내부 원소의 자료형 \n",
    "print(\"arr의 내부 원소의 크기 :\", arr.itemsize) # 배열 내부 원소의 크기(바이트 단위)\n",
    "print(\"arr의 내부 원소의 개수 :\", arr.size) # 배열 내부 원소의 개수\n",
    "\n",
    "# b = (1) 수식의 소괄호  b = (1, ) 튜플 생성"
   ]
  },
  {
   "cell_type": "code",
   "execution_count": 27,
   "id": "0547f537-aaea-4045-b254-93f7d8d5672c",
   "metadata": {},
   "outputs": [
    {
     "name": "stdout",
     "output_type": "stream",
     "text": [
      "<class 'numpy.ndarray'>\n",
      "[[1]\n",
      " [2]\n",
      " [3]\n",
      " [4]\n",
      " [5]]\n",
      "arr의 형태 : (5, 1)\n",
      "arr의 차원수 : 2\n",
      "arr의 내부 원소의 자료형 : int32\n",
      "arr의 내부 원소의 크기 : 4\n",
      "arr의 내부 원소의 개수 : 5\n"
     ]
    }
   ],
   "source": [
    "# 열이 하나인 배열 만들기\n",
    "arr = np.array([[1], [2], [3], [4], [5]]) # 대괄호의 개수로 차원을 알 수 있다.\n",
    "\n",
    "print(type(arr))\n",
    "print(arr)\n",
    "print(\"arr의 형태 :\", arr.shape) # 배열의 형태\n",
    "print(\"arr의 차원수 :\", arr.ndim) # 배열의 차원수\n",
    "print(\"arr의 내부 원소의 자료형 :\", arr.dtype) # 배열 내부 원소의 자료형 \n",
    "print(\"arr의 내부 원소의 크기 :\", arr.itemsize) # 배열 내부 원소의 크기(바이트 단위)\n",
    "print(\"arr의 내부 원소의 개수 :\", arr.size) # 배열 내부 원소의 개수"
   ]
  },
  {
   "cell_type": "code",
   "execution_count": 30,
   "id": "5b380af1-c590-4097-8858-5331884fd507",
   "metadata": {},
   "outputs": [
    {
     "name": "stdout",
     "output_type": "stream",
     "text": [
      "<class 'numpy.ndarray'>\n",
      "[[1 2 3]\n",
      " [4 5 6]\n",
      " [7 8 9]]\n",
      "arr의 형태 : (3, 3)\n",
      "arr의 차원수 : 2\n",
      "arr의 내부 원소의 자료형 : int32\n",
      "arr의 내부 원소의 크기 : 4\n",
      "arr의 내부 원소의 개수 : 9\n"
     ]
    }
   ],
   "source": [
    "# (3,3) 배열 만들기\n",
    "\n",
    "arr = np.array([[1, 2, 3], \n",
    "                [4, 5, 6], \n",
    "                [7, 8, 9]])\n",
    "\n",
    "print(type(arr))\n",
    "print(arr)\n",
    "print(\"arr의 형태 :\", arr.shape) # 배열의 형태\n",
    "print(\"arr의 차원수 :\", arr.ndim) # 배열의 차원수\n",
    "print(\"arr의 내부 원소의 자료형 :\", arr.dtype) # 배열 내부 원소의 자료형 \n",
    "print(\"arr의 내부 원소의 크기 :\", arr.itemsize) # 배열 내부 원소의 크기(바이트 단위)\n",
    "print(\"arr의 내부 원소의 개수 :\", arr.size) # 배열 내부 원소의 개수"
   ]
  },
  {
   "cell_type": "code",
   "execution_count": 32,
   "id": "5deec170-0a48-4525-9e91-7f7a270f416f",
   "metadata": {},
   "outputs": [
    {
     "name": "stdout",
     "output_type": "stream",
     "text": [
      "<class 'numpy.ndarray'>\n",
      "[[[1 2]\n",
      "  [3 4]]\n",
      "\n",
      " [[5 6]\n",
      "  [7 8]]]\n",
      "arr의 형태 : (2, 2, 2)\n",
      "arr의 차원수 : 3\n",
      "arr의 내부 원소의 자료형 : int32\n",
      "arr의 내부 원소의 크기 : 4\n",
      "arr의 내부 원소의 개수 : 8\n"
     ]
    }
   ],
   "source": [
    "# 3차원 배열\n",
    "\n",
    "arr = np.array([[[1, 2], \n",
    "                 [3, 4]],\n",
    "                [[5, 6], \n",
    "                 [7, 8]]])\n",
    "\n",
    "print(type(arr))\n",
    "print(arr)\n",
    "print(\"arr의 형태 :\", arr.shape) # 배열의 형태\n",
    "print(\"arr의 차원수 :\", arr.ndim) # 배열의 차원수\n",
    "print(\"arr의 내부 원소의 자료형 :\", arr.dtype) # 배열 내부 원소의 자료형 \n",
    "print(\"arr의 내부 원소의 크기 :\", arr.itemsize) # 배열 내부 원소의 크기(바이트 단위)\n",
    "print(\"arr의 내부 원소의 개수 :\", arr.size) # 배열 내부 원소의 개수"
   ]
  },
  {
   "cell_type": "code",
   "execution_count": 40,
   "id": "5d001099-08cd-4211-a6e1-d0029234567e",
   "metadata": {},
   "outputs": [
    {
     "name": "stdout",
     "output_type": "stream",
     "text": [
      "<class 'numpy.ndarray'>\n",
      "[[[[ 1  2]\n",
      "   [ 3  4]]\n",
      "\n",
      "  [[ 5  6]\n",
      "   [ 7  8]]]\n",
      "\n",
      "\n",
      " [[[ 9 10]\n",
      "   [11 12]]\n",
      "\n",
      "  [[13 14]\n",
      "   [15 16]]]]\n",
      "arr의 형태 : (2, 2, 2, 2)\n",
      "arr의 차원수 : 4\n",
      "arr의 내부 원소의 자료형 : int32\n",
      "arr의 내부 원소의 크기 : 4\n",
      "arr의 내부 원소의 개수 : 16\n"
     ]
    }
   ],
   "source": [
    "arr = np.array([[[[1, 2], \n",
    "                  [3, 4]], \n",
    "                 [[5, 6], \n",
    "                  [7, 8]]],\n",
    "                \n",
    "               [[[9, 10], \n",
    "                 [11, 12]], \n",
    "                [[13, 14], \n",
    "                 [15, 16]]]])\n",
    "\n",
    "print(type(arr))\n",
    "print(arr)\n",
    "print(\"arr의 형태 :\", arr.shape) # 배열의 형태\n",
    "print(\"arr의 차원수 :\", arr.ndim) # 배열의 차원수\n",
    "print(\"arr의 내부 원소의 자료형 :\", arr.dtype) # 배열 내부 원소의 자료형 \n",
    "print(\"arr의 내부 원소의 크기 :\", arr.itemsize) # 배열 내부 원소의 크기(바이트 단위)\n",
    "print(\"arr의 내부 원소의 개수 :\", arr.size) # 배열 내부 원소의 개수"
   ]
  },
  {
   "cell_type": "code",
   "execution_count": 38,
   "id": "882ce1eb-834d-4650-8f5f-686daa00c52f",
   "metadata": {},
   "outputs": [
    {
     "name": "stdout",
     "output_type": "stream",
     "text": [
      "[0. 0. 0.]\n",
      "[[[[0 0]\n",
      "   [0 0]]\n",
      "\n",
      "  [[0 0]\n",
      "   [0 0]]]\n",
      "\n",
      "\n",
      " [[[0 0]\n",
      "   [0 0]]\n",
      "\n",
      "  [[0 0]\n",
      "   [0 0]]]]\n",
      "[[[['' '']\n",
      "   ['' '']]\n",
      "\n",
      "  [['' '']\n",
      "   ['' '']]]\n",
      "\n",
      "\n",
      " [[['' '']\n",
      "   ['' '']]\n",
      "\n",
      "  [['' '']\n",
      "   ['' '']]]]\n"
     ]
    }
   ],
   "source": [
    "arr_zeros = np.zeros(3)  # 디폴트로 요소의 값은 모두 실수형으로 채워짐\n",
    "\n",
    "print(arr_zeros)\n",
    "\n",
    "arr_zeros = np.zeros((2, 2, 2, 2), dtype=int) # dtype 옵션을 이용하여 요소의 형을 지정할 수 있음\n",
    "\n",
    "print(arr_zeros)\n",
    "\n",
    "arr_zeros = np.zeros((2, 2, 2, 2), dtype=str)\n",
    "\n",
    "print(arr_zeros)"
   ]
  },
  {
   "cell_type": "code",
   "execution_count": 44,
   "id": "b2c7b569-3f41-4771-be56-72f4bf7dea2f",
   "metadata": {},
   "outputs": [
    {
     "name": "stdout",
     "output_type": "stream",
     "text": [
      "[[6.23042070e-307 4.67296746e-307 1.69121096e-306]\n",
      " [6.23043429e-307 2.22526399e-307 2.05837348e-312]]\n"
     ]
    }
   ],
   "source": [
    "# 초기화하지 않은 메모리\n",
    "arr_empty = np.empty((2, 3))  # 이전 메모리 공간에 남아있던 쓰레기 값(garbage value)이 보임\n",
    "\n",
    "print(arr_empty)"
   ]
  },
  {
   "cell_type": "code",
   "execution_count": 46,
   "id": "70460cd3-1453-4558-80ca-86458b178a11",
   "metadata": {},
   "outputs": [
    {
     "name": "stdout",
     "output_type": "stream",
     "text": [
      "[[[2 2 2]\n",
      "  [2 2 2]\n",
      "  [2 2 2]]\n",
      "\n",
      " [[2 2 2]\n",
      "  [2 2 2]\n",
      "  [2 2 2]]]\n"
     ]
    }
   ],
   "source": [
    "arr_full = np.full((2, 3, 3), 2)\n",
    "\n",
    "print(arr_full)"
   ]
  },
  {
   "cell_type": "code",
   "execution_count": 55,
   "id": "d6f46856-615e-4441-8ec8-1da6a32ded65",
   "metadata": {},
   "outputs": [
    {
     "name": "stdout",
     "output_type": "stream",
     "text": [
      "[0 1 2 3 4 5 6 7 8 9]\n",
      "[1 3 5 7 9]\n",
      "[[ 1  2  3  4  5]\n",
      " [ 6  7  8  9 10]]\n"
     ]
    }
   ],
   "source": [
    "# arange 함수는 1차원 배열로 생성된다.\n",
    "arr_arange_01 = np.arange(10)\n",
    "\n",
    "print(arr_arange_01)\n",
    "\n",
    "arr_arange_02 = np.arange(1, 10, 2)\n",
    "\n",
    "print(arr_arange_02)\n",
    "\n",
    "arr_arange_02 = np.arange(1, 11).reshape(2, 5) # 배열 모양 변경\n",
    "\n",
    "print(arr_arange_02)"
   ]
  },
  {
   "cell_type": "code",
   "execution_count": 57,
   "id": "383f23c4-959e-4843-a16a-de5236f2e798",
   "metadata": {},
   "outputs": [
    {
     "name": "stdout",
     "output_type": "stream",
     "text": [
      "[0.   0.25 0.5  0.75 1.  ]\n"
     ]
    }
   ],
   "source": [
    "arr_linspace_01 = np.linspace(0, 1, 5)  # 0과 1사이에서 일정 간격으로 5개 값 생성\n",
    "\n",
    "print(arr_linspace_01)"
   ]
  },
  {
   "cell_type": "code",
   "execution_count": 11,
   "id": "ef7ab694-8439-4f4c-8780-fef6882f1a60",
   "metadata": {},
   "outputs": [
    {
     "data": {
      "text/plain": [
       "3"
      ]
     },
     "execution_count": 11,
     "metadata": {},
     "output_type": "execute_result"
    }
   ],
   "source": [
    "# numpy의 ndarray 사용\n",
    "import numpy as np\n",
    "a = np.array([1, 2, 3])\n",
    "a\n",
    "a.shape\n",
    "a.ndim\n",
    "a.dtype\n",
    "a.itemsize\n",
    "a.size\n",
    "\n"
   ]
  },
  {
   "cell_type": "code",
   "execution_count": 14,
   "id": "c986bfba-ac43-449e-b424-d3e0a3e20e08",
   "metadata": {},
   "outputs": [
    {
     "data": {
      "text/plain": [
       "array([5, 7, 9], dtype=int64)"
      ]
     },
     "execution_count": 14,
     "metadata": {},
     "output_type": "execute_result"
    }
   ],
   "source": [
    "a = np.array([1, 2, 3], dtype = 'int32')\n",
    "b = np.array([4, 5, 6], dtype = 'int64')\n",
    "a.dtype\n",
    "b.dtype\n",
    "c = a + b\n",
    "c.dtype\n",
    "c"
   ]
  },
  {
   "cell_type": "code",
   "execution_count": 4,
   "id": "f638aaed-ed1c-4da1-9665-7759451992f9",
   "metadata": {},
   "outputs": [
    {
     "data": {
      "text/plain": [
       "array([1, 1, 2, 2, 3, 3])"
      ]
     },
     "execution_count": 4,
     "metadata": {},
     "output_type": "execute_result"
    }
   ],
   "source": [
    "a = np.array([0, 1, 2, 3, 4, 5, 6, 7, 8, 9])\n",
    "a\n",
    "b = np.array(range(0, 10))\n",
    "b\n",
    "c = np.array(range(0, 10, 2), dtype = 'int64')\n",
    "c\n",
    "c.shape\n",
    "c.ndim\n",
    "c.dtype\n",
    "c.size\n",
    "c.itemsize\n",
    "\n",
    "a.max()\n",
    "a.min()\n",
    "a.mean()\n",
    "\n",
    "d = np.array([[1, 1], [2, 2], [3, 3]])\n",
    "d.flatten()   # 배열 평탄화 1차원으로 만들어 준다. \n",
    "\n",
    "\n",
    "\n"
   ]
  },
  {
   "cell_type": "code",
   "execution_count": 11,
   "id": "67512e95-6a1b-4442-ad38-d938e09ca780",
   "metadata": {},
   "outputs": [
    {
     "name": "stdout",
     "output_type": "stream",
     "text": [
      "[1 2 3 4 5 6 7 8 9]\n",
      "[[1 2 3]\n",
      " [4 5 6]\n",
      " [7 8 9]]\n",
      "[[0.62240417 0.3006266  0.16671353]\n",
      " [0.12447632 0.13155703 0.07680644]\n",
      " [0.18035602 0.18454978 0.54759185]]\n",
      "[7 2 3 1 4 9 1 1 6 3]\n"
     ]
    }
   ],
   "source": [
    "# append() 함수 인자로 입력된 두 배열을 합한다. axis를 통해 축을 명시 한다. (디폴트는 1차원 배열)\n",
    "\n",
    "a = np.array([1, 2, 3])\n",
    "b = np.array([[4, 5, 6], [7, 8, 9]]) \n",
    "print(np.append(a, b))  # 1차원 배열에 2차원 배열은 더한후 평탄화, 1차원 배열에 2차원 배열을 합하면 오류가 발생???\n",
    "\n",
    "print(np.append([a], b, axis = 0)) # [a]를 통해 2차원 배열로 만들어라\n",
    "\n",
    "print(np.random.rand(3, 3)) # rand() 할수를 통해 3, 3 형태의 난수 생성 (0~1사이)\n",
    "\n",
    "print(np.random.randint(0, 10, size = 10)) # 0에서 10사이 10개의 난수 생성"
   ]
  },
  {
   "cell_type": "code",
   "execution_count": 19,
   "id": "d2abdb75-77eb-44c2-aec8-60b3936fefa4",
   "metadata": {},
   "outputs": [
    {
     "data": {
      "text/plain": [
       "36.25"
      ]
     },
     "execution_count": 19,
     "metadata": {},
     "output_type": "execute_result"
    }
   ],
   "source": [
    "a = np.array([23, 45, 67, 7, 2, 30, 34, 82])\n",
    "a.min()\n",
    "a.max()\n",
    "a.mean()"
   ]
  },
  {
   "cell_type": "code",
   "execution_count": 6,
   "id": "ee91a56a-ed11-4444-a5ca-78ce109d2a32",
   "metadata": {},
   "outputs": [
    {
     "data": {
      "text/plain": [
       "array([5, 7, 9])"
      ]
     },
     "execution_count": 6,
     "metadata": {},
     "output_type": "execute_result"
    }
   ],
   "source": [
    "a = np.array([1, 2, 3])   \n",
    "b = np.array([4, 5, 6])\n",
    "c = a + b # shape이 같은 ndarray의 덧셈\n",
    "c"
   ]
  },
  {
   "cell_type": "code",
   "execution_count": 7,
   "id": "ebcf07f2-68f4-4945-afcf-a2b6eb99249f",
   "metadata": {},
   "outputs": [
    {
     "ename": "ValueError",
     "evalue": "operands could not be broadcast together with shapes (2,) (3,) ",
     "output_type": "error",
     "traceback": [
      "\u001b[1;31m---------------------------------------------------------------------------\u001b[0m",
      "\u001b[1;31mValueError\u001b[0m                                Traceback (most recent call last)",
      "Cell \u001b[1;32mIn[7], line 3\u001b[0m\n\u001b[0;32m      1\u001b[0m a \u001b[38;5;241m=\u001b[39m np\u001b[38;5;241m.\u001b[39marray([\u001b[38;5;241m1\u001b[39m, \u001b[38;5;241m2\u001b[39m])\n\u001b[0;32m      2\u001b[0m b \u001b[38;5;241m=\u001b[39m np\u001b[38;5;241m.\u001b[39marray([\u001b[38;5;241m4\u001b[39m, \u001b[38;5;241m5\u001b[39m, \u001b[38;5;241m6\u001b[39m])\n\u001b[1;32m----> 3\u001b[0m c \u001b[38;5;241m=\u001b[39m \u001b[43ma\u001b[49m\u001b[43m \u001b[49m\u001b[38;5;241;43m+\u001b[39;49m\u001b[43m \u001b[49m\u001b[43mb\u001b[49m\n",
      "\u001b[1;31mValueError\u001b[0m: operands could not be broadcast together with shapes (2,) (3,) "
     ]
    }
   ],
   "source": [
    "a = np.array([1, 2])\n",
    "b = np.array([4, 5, 6])\n",
    "c = a + b # shape이 다른 1차원 배열의 합\n"
   ]
  },
  {
   "cell_type": "code",
   "execution_count": 15,
   "id": "0d2b5fd7-a04f-4eed-a058-6e46eee4ec1f",
   "metadata": {},
   "outputs": [
    {
     "data": {
      "text/plain": [
       "array([[0.1, 0.1],\n",
       "       [0.1, 0.1]])"
      ]
     },
     "execution_count": 15,
     "metadata": {},
     "output_type": "execute_result"
    }
   ],
   "source": [
    "a = np.array([[1, 2], [3, 4]])\n",
    "b = np.array([[10, 20], [30, 40]])\n",
    "a + b # shape이 같은 2차원 배열의 연산\n",
    "a - b\n",
    "a * b\n",
    "a / b"
   ]
  },
  {
   "cell_type": "code",
   "execution_count": 16,
   "id": "930acea4-2546-4b6a-98c8-a62ca99d8cc7",
   "metadata": {},
   "outputs": [
    {
     "data": {
      "text/plain": [
       "array([[ 70, 100],\n",
       "       [150, 220]])"
      ]
     },
     "execution_count": 16,
     "metadata": {},
     "output_type": "execute_result"
    }
   ],
   "source": [
    "# 행렬의 곱 함수 matmul()\n",
    "\n",
    "np.matmul(a, b)\n"
   ]
  },
  {
   "cell_type": "markdown",
   "id": "a2f7d297-42dc-45b9-844e-aac2c27d92b3",
   "metadata": {},
   "source": [
    "# 배열 인덱싱, 슬라이싱\n",
    "\n",
    "* 인덱싱 \n",
    "    - 한 개의 원소를 가져온다\n",
    "    - arr[1, 1], arr[1][1]   앞에 방식으로 사용하길 권장 뒤에 방식은 2번 인덱싱, 느리다\n",
    "    - 역순으로 -1, -2 ... 도 가능하다\n",
    "* 슬라이싱\n",
    "    - 여러 개의 원소를 한번에 가져온다\n",
    "    - 전체는 : 혹은 ... 으로 표현 가능\n",
    "        - 첫 행 \n",
    "            - arr[0] or arr[0, :]\n",
    "        - 첫 열\n",
    "            - arr[:, 0] or arr[..., 0]\n",
    "    - arr[a:b, c:d]  a부터 b-1 행의 c부터 d-1 열을 슬라이싱\n",
    "    - arr[a:b:c, d:e:f] a부터 b-1행을 c 간격으로 , d부터 e-1 열을 f 간격으로\n",
    "    - arr[::-1, :] 행을 역순으로\n",
    "\n",
    "* 인덱싱은 차원을 자동으로 낮춰서 변환해서 반환, 슬라이싱은 차원을 유지하며 반환 "
   ]
  },
  {
   "cell_type": "code",
   "execution_count": 18,
   "id": "b47c6fc1-11ee-46c3-9699-227db8532b65",
   "metadata": {},
   "outputs": [
    {
     "name": "stdout",
     "output_type": "stream",
     "text": [
      "[1 2 3 4 5 6 7 8 9]\n",
      "4\n",
      "[10  2  3  4  5  6  7  8  9]\n",
      "[ 1  5  9 13]\n",
      "[[ 1  3]\n",
      " [ 9 11]]\n",
      "[[13 14 15 16]\n",
      " [ 9 10 11 12]\n",
      " [ 5  6  7  8]\n",
      " [ 1  2  3  4]]\n",
      "[[ 4  3  2  1]\n",
      " [ 8  7  6  5]\n",
      " [12 11 10  9]\n",
      " [16 15 14 13]]\n",
      "[[16 15 14 13]\n",
      " [12 11 10  9]\n",
      " [ 8  7  6  5]\n",
      " [ 4  3  2  1]]\n"
     ]
    }
   ],
   "source": [
    "import numpy as np\n",
    "\n",
    "arr = np.arange(1, 10)\n",
    "\n",
    "print(arr)\n",
    "print(arr[3])\n",
    "\n",
    "arr[0] = 10\n",
    "\n",
    "print(arr)\n",
    "\n",
    "arr = np.array([[1, 2, 3, 4],\n",
    "                [5, 6, 7, 8],\n",
    "                [9, 10, 11, 12],\n",
    "                [13, 14, 15, 16]])\n",
    "\n",
    "print(arr[..., 0])\n",
    "print(arr[0:3:2, 0:3:2])\n",
    "print(arr[::-1, :])\n",
    "print(arr[:, ::-1])\n",
    "print(arr[::-1, ::-1])"
   ]
  }
 ],
 "metadata": {
  "kernelspec": {
   "display_name": "Python 3 (ipykernel)",
   "language": "python",
   "name": "python3"
  },
  "language_info": {
   "codemirror_mode": {
    "name": "ipython",
    "version": 3
   },
   "file_extension": ".py",
   "mimetype": "text/x-python",
   "name": "python",
   "nbconvert_exporter": "python",
   "pygments_lexer": "ipython3",
   "version": "3.11.4"
  }
 },
 "nbformat": 4,
 "nbformat_minor": 5
}
