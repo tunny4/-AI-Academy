{
 "cells": [
  {
   "cell_type": "code",
   "execution_count": 2,
   "id": "6b6faa01-034c-441f-8df3-0893f2a67852",
   "metadata": {},
   "outputs": [],
   "source": [
    "import numpy as np"
   ]
  },
  {
   "cell_type": "code",
   "execution_count": 15,
   "id": "ad1642bb-ab2c-46b4-84b8-c09fb374d863",
   "metadata": {},
   "outputs": [
    {
     "name": "stdout",
     "output_type": "stream",
     "text": [
      "2 2\n",
      "[1 2 3]\n",
      "[[1]\n",
      " [4]\n",
      " [7]]\n",
      "[[4 5]\n",
      " [7 8]]\n"
     ]
    }
   ],
   "source": [
    "arr = np.array([[1, 2, 3],\n",
    "                [4, 5, 6],\n",
    "                [7, 8, 9]])\n",
    "\n",
    "print(arr[0][1], arr[0, 1])        # 인덱스 [0, 1]\n",
    "print(arr[0])           # 첫번째 행\n",
    "print(arr[0:4, 0:1])    # 첫번째 열\n",
    "print(arr[1:,:2])       # 인덱스 [1:, :2]"
   ]
  },
  {
   "cell_type": "code",
   "execution_count": 22,
   "id": "c99a1cf2-23e6-4cd3-9751-d342211de382",
   "metadata": {},
   "outputs": [
    {
     "name": "stdout",
     "output_type": "stream",
     "text": [
      "9\n",
      "[[1 2 3]\n",
      " [4 5 6]] 11\n",
      "[ 5 11]\n",
      "[ 8 11]\n"
     ]
    }
   ],
   "source": [
    "arr = np.array([[[1, 2, 3], \n",
    "                 [4, 5, 6]],\n",
    "                [[7, 8, 9], \n",
    "                 [10, 11, 12]]])\n",
    "\n",
    "print(arr[1, 0, 2])\n",
    "print(arr[0], arr[1, 1, 1])\n",
    "\n",
    "print(arr[[0,1], [1], [1]])\n",
    "print(arr[1, :, 1])"
   ]
  },
  {
   "cell_type": "markdown",
   "id": "90ebd54e-0f95-423f-9a41-a9141ac2ebe2",
   "metadata": {},
   "source": [
    "# 배열의 형태 변경\n",
    "\n",
    "* reshape() \n",
    "    - 배열.reshape(배열의 형태)\n",
    "    - 배열의 형태는 배열 요소의 개수에 맞춰야 한다 (형태 값의 곱 = 요소의 개수)\n",
    "\n",
    "* flatten()\n",
    "    - 다차원 배열을 1차원 배열로 변환하는 함수\n",
    "    - 변환하는 배열에 영향이 없다\n",
    "\n",
    "* ravel()\n",
    "    - 다차원 배열을 1차원 배열로 변환하는 함수\n",
    "    - 변환하는 배열을 참조하고 있어서 영향을 준다\n",
    "\n",
    "* numpy 전치행렬\n",
    "    - 행렬의 행과 열을 바꾼 행렬\n",
    "    - arr.T , arr.transpose(axis)\n",
    "    \n",
    "* 배열의 연결\n",
    "    - concatenate"
   ]
  },
  {
   "cell_type": "code",
   "execution_count": 28,
   "id": "a35fa7dd-7078-4eda-8702-09b5b483fa0f",
   "metadata": {},
   "outputs": [
    {
     "name": "stdout",
     "output_type": "stream",
     "text": [
      "1차원 배열 : \n",
      "[1 2 3 4 5 6]\n",
      "\n",
      "2차원 배열 : \n",
      "[[1 2 3]\n",
      " [4 5 6]]\n"
     ]
    }
   ],
   "source": [
    "arr_1d = np.array([1, 2, 3, 4, 5, 6])\n",
    "arr_2d = arr_1d.reshape(2, 3) \n",
    "\n",
    "print(\"1차원 배열 : \")\n",
    "print(arr_1d)\n",
    "\n",
    "print(\"\\n2차원 배열 : \")\n",
    "print(arr_2d)"
   ]
  },
  {
   "cell_type": "code",
   "execution_count": 46,
   "id": "f826e0e7-706b-4feb-85fc-b4eebd4b967b",
   "metadata": {},
   "outputs": [
    {
     "name": "stdout",
     "output_type": "stream",
     "text": [
      "2차원 배열 : \n",
      "[[ 1  2  3]\n",
      " [ 4  5  6]\n",
      " [ 7  8  9]\n",
      " [10 11 12]]\n",
      "\n",
      "4차원 배열 : \n",
      "[[[[ 1  2  3]]\n",
      "\n",
      "  [[ 4  5  6]]]\n",
      "\n",
      "\n",
      " [[[ 7  8  9]]\n",
      "\n",
      "  [[10 11 12]]]]\n",
      "\n",
      "flatten 배열 : \n",
      "[99  2  3  4  5  6  7  8  9 10 11 12]\n",
      "\n",
      "ravel 배열 : \n",
      "[ 1  2  3  4  5  6  7  8  9 10 11 99]\n",
      "[[ 1  2  3]\n",
      " [ 4  5  6]\n",
      " [ 7  8  9]\n",
      " [10 11 99]]\n"
     ]
    }
   ],
   "source": [
    "arr_2d = np.array([[1, 2, 3], \n",
    "                   [4, 5, 6],\n",
    "                   [7, 8, 9],\n",
    "                   [10, 11, 12]])\n",
    "\n",
    "arr_4d = arr_2d.reshape(2, 2, 1, 3)  # 1행 3열 2뎁스 \n",
    "\n",
    "print(\"2차원 배열 : \")\n",
    "print(arr_2d)\n",
    "\n",
    "print(\"\\n4차원 배열 : \")\n",
    "print(arr_4d)\n",
    "\n",
    "arr_1d = arr_2d.flatten()\n",
    "arr_1dr = arr_2d.ravel()\n",
    "\n",
    "#인덱싱\n",
    "arr_1d[0] = 99\n",
    "arr_1dr[-1] = 99\n",
    "\n",
    "print(\"\\nflatten 배열 : \")\n",
    "print(arr_1d)\n",
    "\n",
    "print(\"\\nravel 배열 : \")\n",
    "print(arr_1dr)\n",
    "\n",
    "print(arr_2d)"
   ]
  },
  {
   "cell_type": "code",
   "execution_count": 36,
   "id": "858210d9-0e1a-4f29-befe-37d4587b2545",
   "metadata": {},
   "outputs": [
    {
     "name": "stdout",
     "output_type": "stream",
     "text": [
      "3차원 배열 : \n",
      "[[[ 1  2]\n",
      "  [ 3  4]]\n",
      "\n",
      " [[ 5  6]\n",
      "  [ 7  8]]\n",
      "\n",
      " [[ 9 10]\n",
      "  [11 12]]]\n",
      "\n",
      "2차원 배열 : \n",
      "[[ 1  2]\n",
      " [ 3  4]\n",
      " [ 5  6]\n",
      " [ 7  8]\n",
      " [ 9 10]\n",
      " [11 12]]\n"
     ]
    }
   ],
   "source": [
    "arr_3d = np.array([[[1, 2], \n",
    "                    [3, 4]],\n",
    "                   [[5, 6], \n",
    "                    [7, 8]],\n",
    "                  [[9, 10], \n",
    "                   [11, 12]]])\n",
    "\n",
    "arr_2d = arr_3d.reshape(6, 2)  \n",
    "\n",
    "print(\"3차원 배열 : \")\n",
    "print(arr_3d)\n",
    "\n",
    "print(\"\\n2차원 배열 : \")\n",
    "print(arr_2d)"
   ]
  },
  {
   "cell_type": "code",
   "execution_count": 40,
   "id": "e6320379-0e38-42cb-8308-9e9c8936f344",
   "metadata": {},
   "outputs": [
    {
     "name": "stdout",
     "output_type": "stream",
     "text": [
      "3차원 배열 : \n",
      "[[[1 2]\n",
      "  [3 4]]\n",
      "\n",
      " [[5 6]\n",
      "  [7 8]]]\n",
      "\n",
      "4차원 배열 : \n",
      "[[[[1]\n",
      "   [2]]\n",
      "\n",
      "  [[3]\n",
      "   [4]]]\n",
      "\n",
      "\n",
      " [[[5]\n",
      "   [6]]\n",
      "\n",
      "  [[7]\n",
      "   [8]]]]\n"
     ]
    }
   ],
   "source": [
    "arr_3d = np.array([[[1, 2],\n",
    "                    [3, 4]],\n",
    "                   [[5, 6],\n",
    "                    [7, 8]]])\n",
    "\n",
    "arr_4d = arr_3d.reshape(2, 2, 2, 1) # 2행 1열인 면이 2개고 그 전체가 2개\n",
    "\n",
    "print(\"3차원 배열 : \")\n",
    "print(arr_3d)\n",
    "\n",
    "print(\"\\n4차원 배열 : \")\n",
    "print(arr_4d)"
   ]
  },
  {
   "cell_type": "code",
   "execution_count": 49,
   "id": "97e06a8c-fd29-47a2-9ee9-ca2dcb5b8e5a",
   "metadata": {},
   "outputs": [
    {
     "name": "stdout",
     "output_type": "stream",
     "text": [
      "[[[ 0  1  2  3]\n",
      "  [ 4  5  6  7]\n",
      "  [ 8  9 10 11]]\n",
      "\n",
      " [[12 13 14 15]\n",
      "  [16 17 18 19]\n",
      "  [20 21 22 23]]]\n"
     ]
    }
   ],
   "source": [
    "# 배열 생성과 동시에 형태를 변경\n",
    "# 1차원 배열을 arange로 생성하면서 reshape로 형태 변경\n",
    "\n",
    "arr = np.arange(24).reshape(2, 3, 4)\n",
    "\n",
    "print(arr)"
   ]
  },
  {
   "cell_type": "code",
   "execution_count": 52,
   "id": "d5d941e8-6a0a-4595-93df-6d56eba7d65c",
   "metadata": {},
   "outputs": [
    {
     "name": "stdout",
     "output_type": "stream",
     "text": [
      "2차원 배열 :\n",
      " [[1 2 3]\n",
      " [4 5 6]\n",
      " [7 8 9]] \n",
      "\n",
      "reshape 배열 : \n",
      "[1 2 3 4 5 6 7 8 9]\n",
      "\n",
      "flatten 배열 : \n",
      "[1 2 3 4 5 6 7 8 9]\n",
      "\n",
      "ravel 배열 : \n",
      "[1 2 3 4 5 6 7 8 9]\n"
     ]
    }
   ],
   "source": [
    "arr_2d = np.array([[1, 2, 3],\n",
    "                   [4, 5, 6],\n",
    "                   [7, 8, 9]])\n",
    "\n",
    "arr_reshape = arr_2d.reshape(9)\n",
    "arr_flatten = arr_2d.flatten()\n",
    "arr_ravel = arr_2d.ravel()\n",
    "\n",
    "print(\"2차원 배열 :\\n\", arr_2d, \"\\n\")\n",
    "\n",
    "print(\"reshape 배열 : \")\n",
    "print(arr_reshape)\n",
    "\n",
    "print(\"\\nflatten 배열 : \")\n",
    "print(arr_flatten)\n",
    "\n",
    "print(\"\\nravel 배열 : \")\n",
    "print(arr_ravel)"
   ]
  },
  {
   "cell_type": "markdown",
   "id": "8bc70918-617c-479a-83c2-e2d77ce58a93",
   "metadata": {},
   "source": [
    "# NumPy 전치 행렬\n",
    "\n",
    "* 행렬의 행과 열을 바꾼 행렬\n",
    "* arr.T\n",
    "* arr.transpose()\n",
    "\n",
    "배열 병합, 분리\n",
    "*axis 를 잘 봐야한다."
   ]
  },
  {
   "cell_type": "code",
   "execution_count": 59,
   "id": "6a1fd810-c933-473d-9cb7-390cb4176ea1",
   "metadata": {},
   "outputs": [
    {
     "data": {
      "text/plain": [
       "array([[1],\n",
       "       [2],\n",
       "       [3],\n",
       "       [4],\n",
       "       [5],\n",
       "       [6]])"
      ]
     },
     "execution_count": 59,
     "metadata": {},
     "output_type": "execute_result"
    }
   ],
   "source": [
    "arr = np.array([[1, 2, 3, 4, 5, 6]])\n",
    "\n",
    "arr.T\n",
    "arr.transpose() # 축을 바꾼다\n"
   ]
  },
  {
   "cell_type": "code",
   "execution_count": 64,
   "id": "0b0bfc9f-0335-47d1-ae1b-a279e08f98aa",
   "metadata": {},
   "outputs": [
    {
     "name": "stdout",
     "output_type": "stream",
     "text": [
      "[[[ 1  2  3]\n",
      "  [ 4  5  6]\n",
      "  [ 7  8  9]\n",
      "  [10 11 12]]] \n",
      "\n",
      "(1, 4, 3)\n",
      "[[[ 1  4  7 10]]\n",
      "\n",
      " [[ 2  5  8 11]]\n",
      "\n",
      " [[ 3  6  9 12]]]\n",
      "(3, 1, 4)\n"
     ]
    }
   ],
   "source": [
    "arr_3d = np.arange(1, 13).reshape(1, 4, 3)\n",
    "arr_3d_T = arr_3d.transpose((2, 0, 1)) # 축의 번호 (0, 1, 2)를 (2, 0, 1)로 바꾼다\n",
    "\n",
    "print(arr_3d, \"\\n\")\n",
    "print(arr_3d.shape)\n",
    "print(arr_3d_T)\n",
    "print(arr_3d_T.shape)"
   ]
  },
  {
   "cell_type": "code",
   "execution_count": 231,
   "id": "55ef9c4d-d6e8-4096-be6e-22fd769b7646",
   "metadata": {},
   "outputs": [
    {
     "name": "stdout",
     "output_type": "stream",
     "text": [
      "이미지 크기 :  (4501, 4501, 4) (4501, 4501, 4)\n",
      "전치된 이미지 크기 :  (4501, 4501, 4)\n"
     ]
    }
   ],
   "source": [
    "from PIL import Image   # pillow 패키지 설치 후에\n",
    "\n",
    "img = Image.open('image.PNG')\n",
    "arr = np.asarray(img)  # 이미지를 numpy 배열로 변환\n",
    "arr2 = np.array(img)\n",
    "print(\"이미지 크기 : \", arr.shape, arr2.shape)\n",
    "\n",
    "arr_T = arr.transpose((1, 0, 2))\n",
    "\n",
    "print(\"전치된 이미지 크기 : \", arr_T.shape) # 전치된 이미지의 크기 출력\n",
    "\n",
    "img_T = Image.fromarray(arr_T.astype(np.uint8))   # R G B 투명도\n",
    "\n",
    "img_T.show()"
   ]
  },
  {
   "cell_type": "code",
   "execution_count": 99,
   "id": "99257635-b33c-4cd5-b4cd-c29d22ab6607",
   "metadata": {},
   "outputs": [
    {
     "name": "stdout",
     "output_type": "stream",
     "text": [
      "[array([1, 2, 3]), array([4, 5, 6])]\n",
      "[array([[ 1],\n",
      "       [ 4],\n",
      "       [ 7],\n",
      "       [10]]), array([[ 2],\n",
      "       [ 5],\n",
      "       [ 8],\n",
      "       [11]]), array([[ 3],\n",
      "       [ 6],\n",
      "       [ 9],\n",
      "       [12]])]\n",
      "[array([[1, 2, 3],\n",
      "       [4, 5, 6]]), array([[ 7,  8,  9],\n",
      "       [10, 11, 12]])]\n"
     ]
    }
   ],
   "source": [
    "a = np.array([1, 2, 3, 4, 5, 6])\n",
    "b = np.split(a, 2)  # a를 2개로 나눈다.\n",
    "print(b)\n",
    "\n",
    "c = np.array([[1, 2, 3],\n",
    "              [4, 5, 6],\n",
    "              [7, 8, 9],\n",
    "              [10, 11, 12]])\n",
    "d = np.hsplit(c, 3)\n",
    "print(d)\n",
    "\n",
    "e = np.vsplit(c, 2)\n",
    "print(e)"
   ]
  },
  {
   "cell_type": "code",
   "execution_count": 110,
   "id": "01cc2dcf-2907-4776-95c2-3f5bbbb6a661",
   "metadata": {
    "tags": []
   },
   "outputs": [
    {
     "name": "stdout",
     "output_type": "stream",
     "text": [
      "[[[ 1.  2.  3.  4.]\n",
      "  [ 5.  6.  7.  8.]\n",
      "  [ 9. 10. 11. 12.]]\n",
      "\n",
      " [[13. 14. 15. 16.]\n",
      "  [17. 18. 19. 20.]\n",
      "  [21. 22. 23. 24.]]]\n",
      "[[[ 1. 13.]\n",
      "  [ 5. 17.]\n",
      "  [ 9. 21.]]\n",
      "\n",
      " [[ 2. 14.]\n",
      "  [ 6. 18.]\n",
      "  [10. 22.]]\n",
      "\n",
      " [[ 3. 15.]\n",
      "  [ 7. 19.]\n",
      "  [11. 23.]]\n",
      "\n",
      " [[ 4. 16.]\n",
      "  [ 8. 20.]\n",
      "  [12. 24.]]]\n",
      "(4, 3, 2)\n",
      "[[[ 1. 13.]\n",
      "  [ 5. 17.]\n",
      "  [ 9. 21.]]\n",
      "\n",
      " [[ 2. 14.]\n",
      "  [ 6. 18.]\n",
      "  [10. 22.]]\n",
      "\n",
      " [[ 3. 15.]\n",
      "  [ 7. 19.]\n",
      "  [11. 23.]]\n",
      "\n",
      " [[ 4. 16.]\n",
      "  [ 8. 20.]\n",
      "  [12. 24.]]]\n"
     ]
    }
   ],
   "source": [
    "lin1 = np.linspace(1, 24, 24).reshape((2, 3, 4))\n",
    "print(lin1)\n",
    "print(lin1.T)\n",
    "print(lin1.T.shape)\n",
    "print(lin1.transpose(2, 1, 0))"
   ]
  },
  {
   "cell_type": "markdown",
   "id": "01c0d82f-3af3-4652-a976-b7f0f9069df3",
   "metadata": {},
   "source": [
    "# NumPy ufunction\n",
    "\n",
    "* numpy.org\n",
    "* shape는 그대로 놔둔채로 연산?"
   ]
  },
  {
   "cell_type": "code",
   "execution_count": 135,
   "id": "557bbe00-2d22-40ec-a740-0e920c25470c",
   "metadata": {},
   "outputs": [
    {
     "data": {
      "text/plain": [
       "array([[[1.54308063e+00, 3.76219569e+00, 1.00676620e+01, 2.73082328e+01],\n",
       "        [7.42099485e+01, 2.01715636e+02, 5.48317035e+02, 1.49047916e+03],\n",
       "        [4.05154203e+03, 1.10132329e+04, 2.99370709e+04, 8.13773957e+04]],\n",
       "\n",
       "       [[2.21206696e+05, 6.01302142e+05, 1.63450869e+06, 4.44305526e+06],\n",
       "        [1.20774764e+07, 3.28299846e+07, 8.92411505e+07, 2.42582598e+08],\n",
       "        [6.59407867e+08, 1.79245642e+09, 4.87240172e+09, 1.32445611e+10]]])"
      ]
     },
     "execution_count": 135,
     "metadata": {},
     "output_type": "execute_result"
    }
   ],
   "source": [
    "np.square(lin1)  # lin1 ** 2 와 같다.\n",
    "np.sqrt(lin1) # lin1 ** 0.5 와 같다.\n",
    "np.abs(lin1) # lin1의 절대값\n",
    "np.exp(lin1) # exponential loge 지수\n",
    "np.log(lin1) # 자연로그 np.log = ln\n",
    "np.log10(lin1) # 상용로그 log10\n",
    "np.log2(lin1) # 밑이 2인 로그\n",
    "np.sign([10, -1, -3, 0, 31]) # 부호  양수는 1, 음수는 -2, 0은 0\n",
    "np.ceil(lin1/10) # 올림\n",
    "np.floor(lin1/10) # 내림\n",
    "np.round(lin1/10) # 반올림\n",
    "np.round(lin1, decimals = -1) #decimals 소숫점 n번째에서 반올림 -면 반대자리\n",
    "np.cos(lin1)\n",
    "np.sin(lin1)\n",
    "np.tan(lin1)\n",
    "np.sinh(lin1)\n",
    "np.cosh(lin1)\n",
    "# np.arcsin(lin1)\n",
    "# np.arccos(lin1)"
   ]
  },
  {
   "cell_type": "code",
   "execution_count": 146,
   "id": "93d0ed39-2846-4abf-bad2-12b869f16c58",
   "metadata": {},
   "outputs": [
    {
     "data": {
      "text/plain": [
       "array([[[False,  True,  True,  True],\n",
       "        [False, False, False,  True],\n",
       "        [ True,  True, False, False]],\n",
       "\n",
       "       [[False,  True,  True,  True],\n",
       "        [False, False, False,  True],\n",
       "        [ True,  True, False, False]]])"
      ]
     },
     "execution_count": 146,
     "metadata": {},
     "output_type": "execute_result"
    }
   ],
   "source": [
    "even = lin1 % 2 == 0\n",
    "three = lin1 % 3 == 0\n",
    "np.logical_not(even)\n",
    "np.logical_and(even, three)\n",
    "np.logical_or(even, three)\n",
    "np.logical_xor(even, three) #배타적 or exclusive or 다르면 True"
   ]
  },
  {
   "cell_type": "code",
   "execution_count": 159,
   "id": "bcd47d43-662a-461e-95ff-377c22aa843e",
   "metadata": {},
   "outputs": [
    {
     "data": {
      "text/plain": [
       "array([[[ 0.,  0.,  0.,  0.],\n",
       "        [ 0., 10., 10., 10.],\n",
       "        [10., 10., 10., 10.]],\n",
       "\n",
       "       [[10., 10., 20., 20.],\n",
       "        [20., 20., 20., 20.],\n",
       "        [20., 20., 20., 20.]]])"
      ]
     },
     "execution_count": 159,
     "metadata": {},
     "output_type": "execute_result"
    }
   ],
   "source": [
    "np.maximum(lin1, np.round(lin1, decimals = -1)) # 두 배열에서 최대값, 최소값\n",
    "np.minimum(lin1, np.round(lin1, decimals = -1))\n",
    "np.round(lin1, decimals = -1)"
   ]
  },
  {
   "cell_type": "code",
   "execution_count": 186,
   "id": "f01e32eb-f252-4660-a79b-23ff436f3d80",
   "metadata": {},
   "outputs": [
    {
     "name": "stdout",
     "output_type": "stream",
     "text": [
      "[[[ 1.  2.  3.  4.]\n",
      "  [ 5.  6.  7.  8.]\n",
      "  [ 9. 10. 11. 12.]]\n",
      "\n",
      " [[13. 14. 15. 16.]\n",
      "  [17. 18. 19. 20.]\n",
      "  [21. 22. 23. 24.]]]\n",
      "[[14. 16. 18. 20.]\n",
      " [22. 24. 26. 28.]\n",
      " [30. 32. 34. 36.]]\n"
     ]
    },
    {
     "data": {
      "text/plain": [
       "array([[[1.00000e+00, 2.00000e+00, 6.00000e+00, 2.40000e+01],\n",
       "        [5.00000e+00, 3.00000e+01, 2.10000e+02, 1.68000e+03],\n",
       "        [9.00000e+00, 9.00000e+01, 9.90000e+02, 1.18800e+04]],\n",
       "\n",
       "       [[1.30000e+01, 1.82000e+02, 2.73000e+03, 4.36800e+04],\n",
       "        [1.70000e+01, 3.06000e+02, 5.81400e+03, 1.16280e+05],\n",
       "        [2.10000e+01, 4.62000e+02, 1.06260e+04, 2.55024e+05]]])"
      ]
     },
     "execution_count": 186,
     "metadata": {},
     "output_type": "execute_result"
    }
   ],
   "source": [
    "# 기준 통계 함수    중심 축으로 연산했을 때 사라진다\n",
    "print(lin1)\n",
    "np.sum(lin1)\n",
    "print(np.sum(lin1, axis=0)) # 0번 축으로 합계\n",
    "\n",
    "np.mean(lin1, axis=0) # 평균\n",
    "\n",
    "np.std(lin1, axis = 2) # 표준 편차\n",
    "\n",
    "np.var(lin1, axis = 2) # 분산\n",
    "\n",
    "np.min(lin1, axis = 2) # 한 배열에서의 최소값, 최대값\n",
    "\n",
    "np.max(lin1, axis = 2)\n",
    "\n",
    "np.argmin(lin1, axis = 1) # 최소값의 인덱스 축을 지정하지 않으면 디폴트값은 1차원으로 변형했을 때 인덱스를 반환한다\n",
    "np.argmax(lin1, axis = 2) # 축을 지정하면 해당 축에서 최대값이 몇 번째 인덱스인지 반환한다\n",
    "\n",
    "np.cumsum(lin1, axis = 0) # 누적 합 처음부터 각각 더 한다 디폴트는 1차원으로 변형된다\n",
    "np.cumprod(lin1, axis = 2) # 누적 곱"
   ]
  },
  {
   "cell_type": "code",
   "execution_count": 229,
   "id": "b2895cd3-b185-4966-8c9d-8cb756029da3",
   "metadata": {},
   "outputs": [
    {
     "name": "stdout",
     "output_type": "stream",
     "text": [
      "[[[13  5 19  7]\n",
      "  [ 6 30 41 49]\n",
      "  [15 18 37 11]]\n",
      "\n",
      " [[36 47 17 17]\n",
      "  [40 27 46  5]\n",
      "  [22 15 12  2]]]\n"
     ]
    },
    {
     "data": {
      "text/plain": [
       "array([[[ 6,  5, 19,  7],\n",
       "        [13, 18, 37, 11],\n",
       "        [15, 30, 41, 49]],\n",
       "\n",
       "       [[22, 15, 12,  2],\n",
       "        [36, 27, 17,  5],\n",
       "        [40, 47, 46, 17]]])"
      ]
     },
     "execution_count": 229,
     "metadata": {},
     "output_type": "execute_result"
    }
   ],
   "source": [
    "# 조건에 만족하는 것이 몇개 인지 *응용* \n",
    "np.sum(lin1 % 2 == 0) # 짝수인 것이 몇개 인가\n",
    "np.sum(lin1 % 2 == 0, axis = 2)\n",
    "\n",
    "lin1.mean() # 똑같은 함수를 멤버 함수로도 구현해뒀다\n",
    "\n",
    "np.random.rand(2, 3, 4) * 50 + 50 # rand() 0~1 사이의 값을 일정한 확률로 주어진 형태로 랜덤한 값을 준다 50 ~ 100 사이의 값을 원하면,\n",
    "np.random.randint(10, 50, size = (2, 3, 4)) # 10부터 50사이의 정수 size = 10개, size에 shape를 줄 수 있다.\n",
    "\n",
    "np.random.randn(2, 3, 4) # standard nomal 표준정규분포 평균이 0이고 편차가 1인 분포에서 랜덤하게 값을 생성\n",
    "np.mean(np.random.randn(10000)) # 평균\n",
    "np.random.randn(1000).mean()\n",
    "np.std(np.random.randn(1000)) # 편차\n",
    "np.random.randn(1000).std()\n",
    "\n",
    "np.random.choice(['a', 'b', 'c', 'd'], size = (2, 3), p = [0.2, 0.2, 0.3, 0.3]) # 1차원 배열에서 횟수를 size만큼 뽑는다 복원추출 뽑은 것을 다시 넣고 뽑는다. \n",
    "                                                      # replace 를 false로 주면 비복원추출을 한다. (size가 배열보다 같거나 작아야한다.)\n",
    "                                                      # size로 shape를 정할 수 있다. p로 요소 별 확률 가중치를 줄 수 있다.\n",
    "            \n",
    "rd1 = np.random.randint(0, 50, size = (2, 3, 4))\n",
    "print(rd1)\n",
    "np.sort(rd1, axis = None) # axis = None 축을 없애고 flatten 한다\n",
    "np.sort(rd1, axis = 1)"
   ]
  },
  {
   "cell_type": "code",
   "execution_count": 12,
   "id": "7c7b48b1-7064-4d2c-a07d-16b1e29ceda9",
   "metadata": {},
   "outputs": [
    {
     "name": "stdout",
     "output_type": "stream",
     "text": [
      "(4501, 4501, 4)\n",
      "[[[255 255 255]\n",
      "  [255 255 255]\n",
      "  [255 255 255]\n",
      "  ...\n",
      "  [255 255 255]\n",
      "  [255 255 255]\n",
      "  [255 255 255]]\n",
      "\n",
      " [[255 255 255]\n",
      "  [255 255 255]\n",
      "  [255 255 255]\n",
      "  ...\n",
      "  [255 255 255]\n",
      "  [255 255 255]\n",
      "  [255 255 255]]\n",
      "\n",
      " [[255 255 255]\n",
      "  [255 255 255]\n",
      "  [255 255 255]\n",
      "  ...\n",
      "  [255 255 255]\n",
      "  [255 255 255]\n",
      "  [255 255 255]]\n",
      "\n",
      " ...\n",
      "\n",
      " [[255 255 255]\n",
      "  [255 255 255]\n",
      "  [255 255 255]\n",
      "  ...\n",
      "  [255 255 255]\n",
      "  [255 255 255]\n",
      "  [255 255 255]]\n",
      "\n",
      " [[255 255 255]\n",
      "  [255 255 255]\n",
      "  [255 255 255]\n",
      "  ...\n",
      "  [255 255 255]\n",
      "  [255 255 255]\n",
      "  [255 255 255]]\n",
      "\n",
      " [[255 255 255]\n",
      "  [255 255 255]\n",
      "  [255 255 255]\n",
      "  ...\n",
      "  [255 255 255]\n",
      "  [255 255 255]\n",
      "  [255 255 255]]]\n",
      "(4501, 4501)\n",
      "[[255 255 255 ... 255 255 255]\n",
      " [255 255 255 ... 255 255 255]\n",
      " [255 255 255 ... 255 255 255]\n",
      " ...\n",
      " [255 255 255 ... 255 255 255]\n",
      " [255 255 255 ... 255 255 255]\n",
      " [255 255 255 ... 255 255 255]]\n"
     ]
    },
    {
     "data": {
      "image/png": "[encoded data removed]",
      "text/plain": [
       "<Figure size 640x480 with 1 Axes>"
      ]
     },
     "metadata": {},
     "output_type": "display_data"
    }
   ],
   "source": [
    "from PIL import Image   # pillow 패키지 설치 후에\n",
    "import numpy as np\n",
    "import matplotlib.pyplot as plt\n",
    "\n",
    "img = Image.open('image.PNG')\n",
    "img = np.asarray(img)  # 이미지를 numpy 배열로 변환\n",
    "\n",
    "print(img.shape)\n",
    "print(img[:,:,:3])\n",
    "print(np.mean(img[:,:,:3], axis=-1).shape)\n",
    "grey_img = np.mean(img[:,:,:3], axis=-1, dtype=int)\n",
    "print(grey_img)\n",
    "grey = np.expand_dims(grey_img, axis = -1).shape # 채널 축 살리기?\n",
    "#image = Image.fromarray(grey)\n",
    "plt.imshow(grey_img, cmap='gray')\n",
    "plt.show()"
   ]
  }
 ],
 "metadata": {
  "kernelspec": {
   "display_name": "Python 3 (ipykernel)",
   "language": "python",
   "name": "python3"
  },
  "language_info": {
   "codemirror_mode": {
    "name": "ipython",
    "version": 3
   },
   "file_extension": ".py",
   "mimetype": "text/x-python",
   "name": "python",
   "nbconvert_exporter": "python",
   "pygments_lexer": "ipython3",
   "version": "3.11.4"
  }
 },
 "nbformat": 4,
 "nbformat_minor": 5
}
