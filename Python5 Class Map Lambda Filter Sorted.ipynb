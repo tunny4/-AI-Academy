{
 "cells": [
  {
   "cell_type": "code",
   "execution_count": 30,
   "id": "d70bd847-ffa2-491a-90db-6abb3c14e9b6",
   "metadata": {},
   "outputs": [
    {
     "name": "stdout",
     "output_type": "stream",
     "text": [
      "홀수 리스트 [1, 3, 5, 7, 9] 짝수 리스트 [2, 4, 6, 8, 10]\n"
     ]
    }
   ],
   "source": [
    "# 리스트 홀수 ,짝수 찾기\n",
    "\n",
    "def odd_even_list(a) :\n",
    "    even_list = []\n",
    "    odd_list = []\n",
    "    \n",
    "    for i in a :\n",
    "        if i % 2 == 0 :\n",
    "            even_list.append(i)\n",
    "        else :\n",
    "            odd_list.append(i)\n",
    "    \n",
    "    #odd_list = a[0::2]\n",
    "    #even_list = a[1::2]\n",
    "    return odd_list, even_list\n",
    "\n",
    "\n",
    "\n",
    "my_list = [1, 2, 3, 4, 5, 6, 7, 8, 9, 10]\n",
    "\n",
    "a, b = odd_even_list(my_list)\n",
    "\n",
    "print(\"홀수 리스트 {} 짝수 리스트 {}\" .format(a, b))"
   ]
  },
  {
   "cell_type": "code",
   "execution_count": 45,
   "id": "51a886c1-e5b6-44bb-85d9-1493ee5370be",
   "metadata": {},
   "outputs": [
    {
     "name": "stdin",
     "output_type": "stream",
     "text": [
      "리스트1 입력 0 1 2 3 4\n",
      "리스트2 입력 3 4 5 6 7\n"
     ]
    },
    {
     "name": "stdout",
     "output_type": "stream",
     "text": [
      "[0, 1, 2, 3, 4]과 [3, 4, 5, 6, 7] 교집합을 제외한 리스트 [0, 1, 2, 5, 6, 7]\n"
     ]
    }
   ],
   "source": [
    "# 교집합 제외한 리스트\n",
    "\n",
    "def symmetric_difference_list(a, b) :\n",
    "    sym_list = []\n",
    "    \n",
    "    for i in a :\n",
    "        if i not in b :\n",
    "            sym_list.append(i)\n",
    "    for j in b :\n",
    "        if j not in a :\n",
    "            sym_list.append(j)\n",
    "         \n",
    "    return sym_list\n",
    "\n",
    "list_01 = [0, 1, 2, 3, 4]\n",
    "list_02 = [3, 4, 5, 6, 7]\n",
    "\n",
    "#input_list1 = input(\"list1 입력\").split()\n",
    "#input_list2 = input(\"list2 입력\").split()\n",
    "\n",
    "input_list1 = list(map(int, input(\"리스트1 입력\").split(' ')))\n",
    "input_list2 = list(map(int, input(\"리스트2 입력\").split(' ')))\n",
    "\n",
    "symlist = symmetric_difference_list(input_list1, input_list2)\n",
    "\n",
    "print(\"{}과 {} 교집합을 제외한 리스트 {}\" .format(input_list1, input_list2, symlist))"
   ]
  },
  {
   "cell_type": "markdown",
   "id": "8f1a8f69-96c0-431e-b7c0-dd78554ef0ef",
   "metadata": {},
   "source": [
    "# 객체지향 프로그래밍\n",
    "\n",
    "* 객체지향 프로그래밍 왜 하는가?\n",
    "    - 복사가 가능하고 쉽게 만들 수 있다.\n",
    "    - 클래스를 이용해서 객체를 만들고 사용한다.\n",
    "\n",
    "* 클래스 Class ***중요*** : 설계도,템플릿,청사진 동작(함수)도 나타낸다, 속성과 함수를 포함\n",
    "    - 생성자 (construct) __init__ 함수 : 클래스 객체가 생성 될 때 자동으로 호출되는 메소드\n",
    "    - self는 멤버함수의 첫번째 매개변수로 항상 나와야한다.\n",
    "* 인스턴스 : 클래스의 현재 생성된 오브젝트, 실행 중인 임의의 프로세스\n",
    "\n",
    "* shift + tab을 누르면 해당 정보와 \"\"\"여기\"\"\" 적어둔 정보가 나온다\n",
    "* tab을 누르면 멤버함수, 변수 등이 나온다"
   ]
  },
  {
   "cell_type": "code",
   "execution_count": 48,
   "id": "02c6716a-a4ba-479b-95d5-7305e8c0b428",
   "metadata": {},
   "outputs": [
    {
     "name": "stdout",
     "output_type": "stream",
     "text": [
      "야옹 야옹~~~\n",
      "야옹 야옹~~~\n"
     ]
    }
   ],
   "source": [
    "class Cat :         # self는 meow를 어떤 인스턴스가 사용하고 있는지 확인 할 수 있다.\n",
    "    def meow(self): # Cat 클래스 내의 함수로 메소드, self는 메소드에 필수적으로 넣어야하는 매개변수\n",
    "        print(\"야옹 야옹~~~\")\n",
    "    \n",
    "nabi = Cat() # 인스턴스 이름 = 클래스()\n",
    "nabi.meow()\n",
    "\n",
    "nero = Cat()\n",
    "nero.meow()"
   ]
  },
  {
   "cell_type": "code",
   "execution_count": 52,
   "id": "a213288e-8e65-4202-887b-b952018c2508",
   "metadata": {},
   "outputs": [
    {
     "name": "stdout",
     "output_type": "stream",
     "text": [
      "왈! 멍!\n"
     ]
    }
   ],
   "source": [
    "class Dog :\n",
    "    def bark(self) :\n",
    "        print(\"왈! 멍!\")\n",
    "\n",
    "muphy = Dog()\n",
    "muphy.bark()"
   ]
  },
  {
   "cell_type": "code",
   "execution_count": 84,
   "id": "3d2d3402-d5ac-4664-bce6-db205c1abae2",
   "metadata": {},
   "outputs": [
    {
     "name": "stdout",
     "output_type": "stream",
     "text": [
      "내 이름은 나비, 색깔은 검정색, 야옹 야옹 ~~\n",
      "내 이름은 네로, 색깔은 흰색, 야옹 야옹 ~~\n",
      "내 이름은 미미, 색깔은 갈색, 야옹 야옹 ~~\n",
      "내 이름은 말랑이, 색깔은 갈색, 야옹 야옹 ~~\n",
      "비나 검정색\n",
      "네로 흰색\n",
      "미미 갈색\n",
      "[1, 2, 3]\n",
      "이름: 말랑이, 색상: 갈색\n",
      "야옹 야옹 \n"
     ]
    }
   ],
   "source": [
    "# 중요 !\n",
    "class Cat : \n",
    "    \n",
    "    def __init__(self, name, color) :  # 언더바2개는 파이썬 자체에 지정 메소드 (특수 메소드)\n",
    "        self.name = name\n",
    "        self.color = color\n",
    "    \n",
    "    def meow(self) :\n",
    "        print(\"내 이름은 {}, 색깔은 {}, 야옹 야옹 ~~\" .format(self.name, self.color))\n",
    "    \n",
    "    def __str__(self) :   # print 했을 때 출력하고 싶은 정보를 정하는 메소드 ex. print(malang)\n",
    "        return \"이름: {}, 색상: {}\".format(self.name, self.color)\n",
    "    \n",
    "    def __call__(self, iters) : # 객체가 호출됐을 때 수행하는 메소드  ex. malang() - 호출 \n",
    "        print(\"야옹 \" * iters)\n",
    "    \n",
    "    \n",
    "nabi = Cat('나비', '검정색')\n",
    "nero = Cat('네로', '흰색')\n",
    "mimi = Cat('미미', '갈색')\n",
    "malang = Cat(name='말랑이', color='갈색')\n",
    "\n",
    "nabi.meow()\n",
    "nero.meow()\n",
    "mimi.meow()\n",
    "malang.meow()\n",
    "\n",
    "nabi.name = '비나'\n",
    "\n",
    "print(nabi.name, nabi.color)\n",
    "print(nero.name, nero.color)\n",
    "print(mimi.name, mimi.color)\n",
    "\n",
    "print([1, 2, 3])\n",
    "print(malang)\n",
    "malang(2)"
   ]
  },
  {
   "cell_type": "code",
   "execution_count": 120,
   "id": "5e63b0b4-0477-4cd5-a55f-0afe173fb00d",
   "metadata": {},
   "outputs": [
    {
     "name": "stdout",
     "output_type": "stream",
     "text": [
      "1, 3\n",
      "0, 3\n",
      "0, 3\n",
      "0, 3\n",
      "3, 6\n"
     ]
    }
   ],
   "source": [
    "# 연산 메소드   p.549\n",
    "\n",
    "class Vector :\n",
    "    def __init__(self, x, y) :\n",
    "        self.x = x\n",
    "        self.y = y\n",
    "    \n",
    "    def __str__(self) :\n",
    "        return f\"{self.x}, {self.y}\"\n",
    "    \n",
    "    def __add__(self, other) :\n",
    "        return Vector(self.x + other.x, self.y + other.y)\n",
    "    \n",
    "    def add(self, other) :\n",
    "        return Vector(self.x + other.x, self.y + other.y)\n",
    "    \n",
    "    def __call__(self, x, y) :\n",
    "        self.x += x\n",
    "        self.y += y\n",
    "\n",
    "v1 = Vector(1, 3)\n",
    "v2 = Vector(-1, 0)\n",
    "\n",
    "print(v1)\n",
    "v1 + v2\n",
    "print(v1 + v2)\n",
    "v3 = v1 + v2\n",
    "print(v3)\n",
    "print(v1.add(v2))\n",
    "v1(2, 3)\n",
    "print(v1)\n",
    "\n"
   ]
  },
  {
   "cell_type": "code",
   "execution_count": 119,
   "id": "e98bd941-52b9-41ce-88e7-5dca18a48f50",
   "metadata": {},
   "outputs": [
    {
     "name": "stdout",
     "output_type": "stream",
     "text": [
      "이름 : an \n",
      "계좌번호 : 123-456\n",
      "잔액 : 100000\n",
      "이름 : 홍길동 \n",
      "계좌번호 : 1234-5678\n",
      "잔액 : 0\n",
      "이름 : 홍길동 \n",
      "계좌번호 : 1234-5678\n",
      "잔액 : 2000\n",
      "이름 : 홍길동 \n",
      "계좌번호 : 1234-5678\n",
      "잔액 : 1500\n",
      "계좌 잔액 : 1500, 인출 요구 금액 : 5000\n"
     ]
    },
    {
     "data": {
      "text/plain": [
       "1"
      ]
     },
     "execution_count": 119,
     "metadata": {},
     "output_type": "execute_result"
    }
   ],
   "source": [
    "# 9.10 은행계좌 클래스\n",
    "\n",
    "class BankAccount :    # __변수 -> 캡슐화 앞의 언더바 2개는 인위적으로 접근하지 말라는 약속\n",
    "    \"\"\"\n",
    "    -메서드 목록-\n",
    "    deposit(self, money) 입금\n",
    "    withdraw(self, money) 출금\n",
    "    \"\"\"\n",
    "    \n",
    "    def __init__(self, name, account_num, balance = 0) :\n",
    "        self.__name = name\n",
    "        self.__account_num = account_num\n",
    "        self.__balance = balance\n",
    "    \n",
    "    def __str__(self) :\n",
    "        return \"\"\"이름 : {} \n",
    "계좌번호 : {}\n",
    "잔액 : {}\"\"\".format(self.__name, self.__account_num, self.__balance)\n",
    "    \n",
    "    def get_name(self) :\n",
    "        return self.__name\n",
    "    \n",
    "    def get_account_num(self) :\n",
    "        return self._account_num\n",
    "    \n",
    "    def get_balance(self) :\n",
    "        return self.__balance\n",
    "\n",
    "    def deposit(self, money) :\n",
    "        self.__balance += money\n",
    "    \n",
    "    def withdraw(self, money) :\n",
    "        \"\"\"\n",
    "        함수 정보는 \n",
    "        \"\"\"\n",
    "        if self.__balance < money :\n",
    "            print(\"계좌 잔액 : {}, 인출 요구 금액 : {}\" .format(self.__balance, money))\n",
    "        else : \n",
    "            self.__balance -= money\n",
    "            return money\n",
    "acc1 = BankAccount(\"an\", \"123-456\", 100000)\n",
    "print(acc1)\n",
    "\n",
    "acc1.get_name()\n",
    "acc1.withdraw(10000)\n",
    "\n",
    "acc2 = BankAccount('홍길동', '1234-5678')\n",
    "print(acc2)\n",
    "acc2.deposit(2000)\n",
    "print(acc2)\n",
    "acc2.withdraw(500)\n",
    "print(acc2)\n",
    "acc2.withdraw(5000)\n",
    "acc2.withdraw(1)"
   ]
  },
  {
   "cell_type": "markdown",
   "id": "eabe4958-a246-4da6-a97c-cb6d26dfbc83",
   "metadata": {},
   "source": [
    "# map 함수\n",
    "\n",
    "* map(함수, 반복가능한 list, tuple ... 나열된 데이터 인자) - 나열된 데이터의 값을 하나씩 가져와서 새로운 작업 후 결과를 반환 \n",
    "\n",
    "# lambda 함수    \n",
    "\n",
    "* 지금만 쓰고 끝낼 임시 함수 (커널에 계속 남아있지 않는다)\n",
    "* lambda 입력:출력 \n",
    "* 한줄로 짜야해서 복잡한 동작을 만드는 것은 어렵다.\n",
    "* 자주 사용하게 될 함수\n",
    "\n",
    "# filter 함수\n",
    "\n",
    "* filter(함수, 반복가능한 list, tuple ... 나열된 데이터 인자) - 함수의 조건에 맞는 데이터만 가져오고 나머지는 버린다 함수에서 T,F를 반환해줘야된다.\n",
    "\n",
    "# sorted 함수\n",
    "\n",
    "* sorted([]) 정렬 해주는 함수 sorted([], reverse = True) 내림차순 reverse의 디폴트 값은 False\n",
    "* sotred([[], [], []], key = lambda x : x[0]) 2차원 정렬은 기준이 될 키가 필요"
   ]
  },
  {
   "cell_type": "code",
   "execution_count": 131,
   "id": "b000397b-53df-4560-9090-ed311b90971b",
   "metadata": {},
   "outputs": [
    {
     "data": {
      "text/plain": [
       "[2, 0, 12, 4]"
      ]
     },
     "execution_count": 131,
     "metadata": {},
     "output_type": "execute_result"
    }
   ],
   "source": [
    "def power(x) :\n",
    "    return x**2\n",
    "\n",
    "def power2(x) :\n",
    "    return x[0]*x[1]\n",
    "\n",
    "     # 함수의 이름만 적는다\n",
    "map(power, [1, 2, 3, 4])   # map 객체 생성, 생성 후 정보를 가지고 있다.\n",
    "list(map(power, [1, 2, 3, 4]))\n",
    "list(map(lambda x : x**2, [1, 2, 3, 4]))\n",
    "\n",
    "list(map(power2, [(1, 2), (2, 0), (3, 4), (4, 1)]))\n",
    "list(map(lambda x : x[0]*x[1], [(1, 2), (2, 0), (3, 4), (4, 1)]))"
   ]
  },
  {
   "cell_type": "code",
   "execution_count": 133,
   "id": "700cf96a-ed2b-4f01-a683-d3b9b54610ae",
   "metadata": {},
   "outputs": [
    {
     "data": {
      "text/plain": [
       "[1, 3, 5]"
      ]
     },
     "execution_count": 133,
     "metadata": {},
     "output_type": "execute_result"
    }
   ],
   "source": [
    "def odd(x) :\n",
    "    if x % 2 == 0 :\n",
    "        return False\n",
    "    else :\n",
    "        return True\n",
    "    # return x%2 != 0\n",
    "    \n",
    "filter(odd, [1, 2, 3, 4, 5])\n",
    "\n",
    "list(filter(odd, [1, 2, 3, 4, 5]))\n",
    "\n",
    "list(filter(lambda x : x % 2 != 0, [1, 2, 3, 4, 5]))"
   ]
  },
  {
   "cell_type": "code",
   "execution_count": 158,
   "id": "d95bf9e0-b011-421a-9170-8e6433b18a21",
   "metadata": {},
   "outputs": [
    {
     "name": "stdout",
     "output_type": "stream",
     "text": [
      "현재 값 : 3\n",
      "초기화 합니다.\n"
     ]
    },
    {
     "data": {
      "text/plain": [
       "0.0"
      ]
     },
     "execution_count": 158,
     "metadata": {},
     "output_type": "execute_result"
    }
   ],
   "source": [
    "# 1. 'Calculator' 라는 이름의 클래스를 선언하시오. 이 클래스는 add(), subtract(), multiple(), divide() 라는 네 가지 멤버 함수를 가집니다.\n",
    "\n",
    "class Calculator :\n",
    "    \n",
    "    def __init__(self) :\n",
    "        self.__result = 0\n",
    "        \n",
    "    def add(self, val) :\n",
    "        self.__result += val\n",
    "        return self.__result\n",
    "    \n",
    "    def subtract(self, val) :\n",
    "        self.__result -= val\n",
    "        return self.__result\n",
    "    \n",
    "    def multiple(self, val) :\n",
    "        self.__result *= val\n",
    "        return self.__result\n",
    "    \n",
    "    def divide(self, val) :\n",
    "        self.__result /= val\n",
    "        return self.__result\n",
    "    \n",
    "    def __str__(self) :\n",
    "        return \"현재 값 : {}\" .format(self.__result)\n",
    "    \n",
    "    def __call__(self) :\n",
    "        print(\"초기화 합니다.\")\n",
    "        self.__result = 0\n",
    "    \n",
    "'''\n",
    "cal = Calculator(1, 2)\n",
    "cal.add()\n",
    "cal.subtract()\n",
    "cal.multiple()\n",
    "cal.divide()\n",
    "'''\n",
    "\n",
    "cal = Calculator()\n",
    "cal.add(3)\n",
    "print(cal)\n",
    "cal.subtract(1)\n",
    "cal.multiple(2)\n",
    "cal()\n",
    "cal.divide(4)"
   ]
  },
  {
   "cell_type": "code",
   "execution_count": 160,
   "id": "05a90519-d291-4f60-90b5-ce98b56d9045",
   "metadata": {},
   "outputs": [
    {
     "data": {
      "text/plain": [
       "1.0"
      ]
     },
     "execution_count": 160,
     "metadata": {},
     "output_type": "execute_result"
    }
   ],
   "source": [
    "class Calculator :\n",
    "    def add(self, a, b) :\n",
    "        return a + b\n",
    "    def substract(self, a, b) :\n",
    "        return a - b\n",
    "    def multiple(self, a, b) :\n",
    "        return a * b\n",
    "    def divide(self, a, b) :\n",
    "        return a / b\n",
    "\n",
    "cal = Calculator()\n",
    "cal.add(2, 4)\n",
    "cal.divide(2, 2)"
   ]
  },
  {
   "cell_type": "code",
   "execution_count": 161,
   "id": "d3529f1a-7333-4905-8dc2-1123d719b337",
   "metadata": {},
   "outputs": [
    {
     "name": "stdout",
     "output_type": "stream",
     "text": [
      "78.5\n"
     ]
    }
   ],
   "source": [
    "# 2. 원의 넓이를 구하는 프로그램 circle 클래스 get_area() 멤버 함수\n",
    "\n",
    "class Circle :\n",
    "    \n",
    "    Pi = 3.14\n",
    "    \n",
    "    def __init__(self, radious) :\n",
    "        self.r = radious\n",
    "    \n",
    "    def get_area(self) :\n",
    "        return Circle.Pi * self.r ** 2\n",
    "    \n",
    "cir = Circle(5)\n",
    "\n",
    "print(cir.get_area())\n",
    "\n"
   ]
  },
  {
   "cell_type": "code",
   "execution_count": 175,
   "id": "ec62e6c1-2fab-47ec-8eca-3afe916e9264",
   "metadata": {},
   "outputs": [
    {
     "data": {
      "text/plain": [
       "[['심청', 17], ['춘향', 17], ['길동', 21]]"
      ]
     },
     "execution_count": 175,
     "metadata": {},
     "output_type": "execute_result"
    }
   ],
   "source": [
    "# sorted() 함수\n",
    "\n",
    "sorted([['길동', 21], ['춘향', 16], ['심청', 17]], key = lambda x : x[1]) # 1차원에서는 가나다순, 2차원에서는 키가 필요\n",
    "\n",
    "sorted([['길동', 21], ['춘향', 16], ['심청', 17]], key = lambda x : x[0], reverse = True)\n",
    "\n",
    "# key 값이 같다면 무작위로 정렬 되는데, 같을 때 다음 키 값 순으로 정렬을 하고 싶다면 튜플로\n",
    "sorted([['길동', 21], ['춘향', 17], ['심청', 17]], key = lambda x : (x[1], x[0]) )"
   ]
  },
  {
   "cell_type": "code",
   "execution_count": 178,
   "id": "d01cf940-0376-4be1-8bb3-a466b3f79013",
   "metadata": {},
   "outputs": [
    {
     "data": {
      "text/plain": [
       "[24, 144]"
      ]
     },
     "execution_count": 178,
     "metadata": {},
     "output_type": "execute_result"
    }
   ],
   "source": [
    "# 10.6\n",
    "'''def mul_12(a) :\n",
    "    result_list = []\n",
    "\n",
    "    for i in a :\n",
    "        if i % 12 == 0 :\n",
    "            result_list.append(i)\n",
    "    \n",
    "    return result_list'''\n",
    "\n",
    "def mul_twelve(a) :\n",
    "    return a % 12  == 0\n",
    "    \n",
    "n_list = [44, 66, 34, 24, 144, 98, 38, 568, 234, 345]\n",
    "\n",
    "list(filter(mul_twelve, n_list))\n",
    "list(filter(lambda x : x % 12 == 0, n_list))"
   ]
  },
  {
   "cell_type": "code",
   "execution_count": 194,
   "id": "a4fc6c05-4622-4ddc-a720-79d36222abcf",
   "metadata": {},
   "outputs": [
    {
     "data": {
      "text/plain": [
       "['SUN', 'MON', 'TUE', 'WED', 'THU', 'FRI', 'SAT']"
      ]
     },
     "execution_count": 194,
     "metadata": {},
     "output_type": "execute_result"
    }
   ],
   "source": [
    "# 10.12 \n",
    "\n",
    "'''def toUpper(a) :\n",
    "    upper_list = []\n",
    "    \n",
    "    for i in a :\n",
    "            upper_list.append(i[:3].upper())\n",
    "    \n",
    "    return upper_list'''\n",
    "\n",
    "def toUpper(a) :\n",
    "    return a[:3].upper()\n",
    "\n",
    "week_list = ['sunday', 'monday', 'tuesday', 'wednesday', 'thursday', 'friday', 'saturday']\n",
    "\n",
    "# toUpper(week_list)\n",
    "\n",
    "list(map(toUpper, week_list))\n",
    "list(map(lambda x : x[:3].upper(), week_list))"
   ]
  },
  {
   "cell_type": "code",
   "execution_count": 199,
   "id": "4dd182be-13c6-465b-a3c5-9f48ff46f068",
   "metadata": {},
   "outputs": [
    {
     "data": {
      "text/plain": [
       "[2004, 2008, 2012, 2016, 2020, 2024, 2028]"
      ]
     },
     "execution_count": 199,
     "metadata": {},
     "output_type": "execute_result"
    }
   ],
   "source": [
    "# 10.13\n",
    "'''\n",
    "def leap(start, end) :\n",
    "    leap_list = []\n",
    "    \n",
    "    for x in range(start, end + 1) :\n",
    "        if (x % 4 == 0 and x % 100 != 0) or (x % 400 == 0) :\n",
    "            leap_list.append(x)\n",
    "    \n",
    "    return leap_list\n",
    "'''\n",
    "\n",
    "def leap(x) :\n",
    "    return (x % 4 == 0 and x % 100 != 0) or (x % 400 == 0)\n",
    "\n",
    "list(filter(lambda x : (x % 4 == 0 and x % 100 != 0) or (x % 400 == 0), range(2001, 2031)))\n",
    "list(filter(leap, range(2001, 2031)))"
   ]
  },
  {
   "cell_type": "code",
   "execution_count": 204,
   "id": "1570618c-09f2-4bc1-9669-f99eba00b310",
   "metadata": {},
   "outputs": [
    {
     "data": {
      "text/plain": [
       "[3, 3, 23, 2, 4, 6, 8]"
      ]
     },
     "execution_count": 204,
     "metadata": {},
     "output_type": "execute_result"
    }
   ],
   "source": [
    "# sorted 문제 홀수 -> 짝수 순 정렬 , 홀수끼리, 짝수끼리 오름차순\n",
    "mylist = [3, 6, 3, 2, 4, 8, 23]\n",
    "\n",
    "sorted(mylist)\n",
    "\n",
    "sorted(mylist, key = lambda x : (x % 2 == 0, x))"
   ]
  }
 ],
 "metadata": {
  "kernelspec": {
   "display_name": "Python 3 (ipykernel)",
   "language": "python",
   "name": "python3"
  },
  "language_info": {
   "codemirror_mode": {
    "name": "ipython",
    "version": 3
   },
   "file_extension": ".py",
   "mimetype": "text/x-python",
   "name": "python",
   "nbconvert_exporter": "python",
   "pygments_lexer": "ipython3",
   "version": "3.10.9"
  }
 },
 "nbformat": 4,
 "nbformat_minor": 5
}
