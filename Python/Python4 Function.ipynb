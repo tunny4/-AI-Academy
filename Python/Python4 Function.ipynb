{
 "cells": [
  {
   "cell_type": "code",
   "execution_count": 2,
   "id": "2afcb87a-cd69-49ae-8baa-eb8eb02a1616",
   "metadata": {},
   "outputs": [
    {
     "name": "stdout",
     "output_type": "stream",
     "text": [
      "정진욱\n"
     ]
    }
   ],
   "source": [
    "# 함수 정의 부분\n",
    "def func():\n",
    "    print(\"정진욱\")\n",
    "    \n",
    "func()  # 함수 호출 부분"
   ]
  },
  {
   "cell_type": "code",
   "execution_count": 4,
   "id": "972d5493-e4f9-4442-be23-379fca5a2b03",
   "metadata": {},
   "outputs": [
    {
     "name": "stdout",
     "output_type": "stream",
     "text": [
      "30\n"
     ]
    }
   ],
   "source": [
    "# 함수 정의 부분\n",
    "# a, b는 매개변수\n",
    "def sum(a, b):\n",
    "    return a + b   # return 다음에 a + b를 반환값\n",
    "\n",
    "# 함수 호출\n",
    "# 10, 20은 인자 또는 인수\n",
    "result = sum(10, 20)\n",
    "\n",
    "print(result)"
   ]
  },
  {
   "cell_type": "code",
   "execution_count": 11,
   "id": "12ddc3f0-3a8d-45b2-999c-0349a4b72ca6",
   "metadata": {},
   "outputs": [
    {
     "name": "stdout",
     "output_type": "stream",
     "text": [
      "밑변이 10 높이가 20 인 삼각형의 넓이는 100.0\n",
      "100.0\n"
     ]
    }
   ],
   "source": [
    "def print_area(width, height) :\n",
    "    print('밑변이', width, '높이가', height, '인 삼각형의 넓이는', width * height / 2)\n",
    "    return width * height / 2\n",
    "\n",
    "result = print_area(10,20)\n",
    "\n",
    "print(result)"
   ]
  },
  {
   "cell_type": "code",
   "execution_count": 12,
   "id": "a4c881a2-34c5-46d5-ba21-0e06b87ee337",
   "metadata": {},
   "outputs": [
    {
     "name": "stdout",
     "output_type": "stream",
     "text": [
      "해는 3.0 또는 -7.0\n",
      "해는 4.0 또는 2.0\n"
     ]
    }
   ],
   "source": [
    "def quadratic_equation(a, b, c) :\n",
    "    r1 = (-b + (b ** 2 - 4 * a * c) ** 0.5) / (2 * a)\n",
    "    r2 = (-b - (b ** 2 - 4 * a * c) ** 0.5) / (2 * a)\n",
    "    print('해는', r1, '또는', r2)\n",
    "    \n",
    "quadratic_equation(1, 4, -21)\n",
    "quadratic_equation(1, -6, 8)"
   ]
  },
  {
   "cell_type": "markdown",
   "id": "795ce765-5088-42dc-baa9-0be7e89d8ce7",
   "metadata": {},
   "source": [
    "# 함수 \n",
    "\n",
    "* 파이썬은 다른 언어와 달리 함수 반환값의 타입을 지정하지 않는다.\n",
    "\n",
    "* 파이썬의 함수는 반환값이 여러개가 가능하다.\n",
    "    - 호출할 때 반환값의 갯수와 맞춰줘야 한다.\n",
    "    \n",
    "* 타인 코드 분석 : 함수는 건너뛰고 분석\n",
    "\n",
    "* Call by Object reference                                                                                                                                                                                                                                                                                                                                          \n",
    "* 인자 없는 경우 매개 변수에 디폴트 값을 정해 놓을 수 있다.\n",
    "    - def print_star(n = 1)\n",
    "\n",
    "* 디폴트 인자를 뒤에 배치해야 한다, 위치 인자가 항상 먼저 나와야 한다.\n",
    "    - def print_star(a, b = 1)\n",
    "\n",
    "* 키워드 인자 중요!\n",
    "    - 위치와 상관없이 키워드에 의해서 인자 값이 결정됨\n",
    "    - def get_root(a, b, c)   r1 = get_root(c = 1, a = 2, b = 3)\n",
    "    - 함수의 많은 인자를 다 쓰지 않기 때문에 순서를 외울 필요없이 키워드 인자를 사용\n",
    "    \n",
    "* 가변 인자\n",
    "    - 인자의 개수가 가변적 일 때\n",
    "    - def foo(*args) : \n",
    "\n",
    "\n",
    "# 전역 변수, 지역 변수\n",
    "\n",
    "* 전역 변수 : 프로그램 전체에서 쓸 수 있는 변수\n",
    "* 지역 변수 : 함수 내에서만 쓸 수 있는 변수\n",
    "\n"
   ]
  },
  {
   "cell_type": "code",
   "execution_count": 15,
   "id": "377da526-415c-4d74-889f-91c83c35a0ab",
   "metadata": {},
   "outputs": [
    {
     "name": "stdout",
     "output_type": "stream",
     "text": [
      "346.185 65.94\n"
     ]
    }
   ],
   "source": [
    "def circle_area(radious) :\n",
    "    area = 3.14 * (radious ** 2)\n",
    "    circumference = 2 * 3.14 * radious\n",
    "    return area, circumference\n",
    "\n",
    "result1, result2 = circle_area(10.5)\n",
    "\n",
    "print(result1, result2)"
   ]
  },
  {
   "cell_type": "code",
   "execution_count": 16,
   "id": "9fa01395-a2f9-4bc4-91fc-d808a190af81",
   "metadata": {},
   "outputs": [
    {
     "ename": "SyntaxError",
     "evalue": "incomplete input (668839354.py, line 4)",
     "output_type": "error",
     "traceback": [
      "\u001b[1;36m  Cell \u001b[1;32mIn[16], line 4\u001b[1;36m\u001b[0m\n\u001b[1;33m    \u001b[0m\n\u001b[1;37m    ^\u001b[0m\n\u001b[1;31mSyntaxError\u001b[0m\u001b[1;31m:\u001b[0m incomplete input\n"
     ]
    }
   ],
   "source": [
    "def muliplies(n, m) :\n",
    "\n",
    "    for i in m + 1 :\n",
    "        "
   ]
  },
  {
   "cell_type": "code",
   "execution_count": 23,
   "id": "fce06c4b-d89f-4a89-8a99-ce69a6e507fb",
   "metadata": {},
   "outputs": [
    {
     "name": "stdout",
     "output_type": "stream",
     "text": [
      "div(4) = 2.0\n",
      "div(6, 3) = 2.0\n"
     ]
    }
   ],
   "source": [
    "def div(a, b = 2) :\n",
    "    return a / b\n",
    "\n",
    "print('div(4) =', div(4))\n",
    "print('div(6, 3) =', div(6, 3))"
   ]
  },
  {
   "cell_type": "code",
   "execution_count": 24,
   "id": "dc90d2ec-b290-4a72-8035-19f80fe30ec9",
   "metadata": {},
   "outputs": [
    {
     "name": "stdout",
     "output_type": "stream",
     "text": [
      "*****\n"
     ]
    }
   ],
   "source": [
    "'''\n",
    "파이썬에서 _ 의 의미\n",
    "인터프리터(Interpreter)에서 마지막 값을 저장할 때\n",
    "값을 무시하고 싶을 때 (흔히 “I don’t care\"라고 부른다.)\n",
    "변수나 함수명에 특별한 의미 또는 기능을 부여하고자 할 때\n",
    "국제화(Internationalization, i18n)/지역화(Localization, l10n) 함수로써 사용할 때\n",
    "숫자 리터럴값의 자릿수 구분을 위한 구분자로써 사용할 때\n",
    "'''\n",
    "def print_star(n =1) :\n",
    "    for _ in range(n) :\n",
    "        print('*****')\n",
    "\n",
    "print_star()"
   ]
  },
  {
   "cell_type": "code",
   "execution_count": 30,
   "id": "58ffe44f-6aa3-48af-8c38-ee8a85927e4e",
   "metadata": {},
   "outputs": [
    {
     "ename": "SyntaxError",
     "evalue": "positional argument follows keyword argument (4139860208.py, line 7)",
     "output_type": "error",
     "traceback": [
      "\u001b[1;36m  Cell \u001b[1;32mIn[30], line 7\u001b[1;36m\u001b[0m\n\u001b[1;33m    func(a=1, 2, 3)\u001b[0m\n\u001b[1;37m                  ^\u001b[0m\n\u001b[1;31mSyntaxError\u001b[0m\u001b[1;31m:\u001b[0m positional argument follows keyword argument\n"
     ]
    }
   ],
   "source": [
    "def func(a, b, c) :\n",
    "    print(a, b, c)\n",
    "    \n",
    "\n",
    "func(1, 2, 3)\n",
    "func(1, c=2, b=3)\n",
    "func(a=1, 2, 3)"
   ]
  },
  {
   "cell_type": "code",
   "execution_count": 43,
   "id": "62f4880f-b70e-46dc-aed1-0ffdd5e9704a",
   "metadata": {},
   "outputs": [
    {
     "name": "stdout",
     "output_type": "stream",
     "text": [
      "5 개의 인자 (10, 20, 30, 40, 50)\n",
      "5 개의 인자 (10, 20, 30, 40, 50)\n",
      "합계 : 150 평균 : 30.0\n",
      "합계 : 150 평균 : 30.0\n"
     ]
    }
   ],
   "source": [
    "def sum_nums(*numbers) :\n",
    "    result1 = 0\n",
    "    result2 = 0\n",
    "    lenN = len(numbers)\n",
    "    \n",
    "    print(lenN, '개의 인자', numbers)\n",
    "    print(\"{} 개의 인자 {}\" .format(lenN, numbers))\n",
    "    \n",
    "    for n in numbers :\n",
    "        result1 += n\n",
    "    \n",
    "    result2 = result1 / lenN\n",
    "    \n",
    "    return result1, result2\n",
    "\n",
    "sumR, avgR = sum_nums(10, 20, 30, 40, 50)\n",
    "\n",
    "print('합계 :', sumR, '평균 :', avgR)\n",
    "print(\"합계 : {} 평균 : {}\" .format(sumR, avgR))"
   ]
  },
  {
   "cell_type": "code",
   "execution_count": 47,
   "id": "eaaed25b-88db-401f-a968-b2d2a6afe2f5",
   "metadata": {},
   "outputs": [
    {
     "data": {
      "text/plain": [
       "5"
      ]
     },
     "execution_count": 47,
     "metadata": {},
     "output_type": "execute_result"
    }
   ],
   "source": [
    "def min_nums(*numbers) :\n",
    "    minVal = numbers[0]\n",
    "    for n in numbers :\n",
    "        if minVal > n :\n",
    "            minVal = n\n",
    "    return minVal #min(numbers)\n",
    "\n",
    "min_nums(20, 40, 50, 10, 5)\n"
   ]
  },
  {
   "cell_type": "code",
   "execution_count": 57,
   "id": "b2919ddb-775e-41c6-b0f1-a5b9f5a8d63f",
   "metadata": {},
   "outputs": [
    {
     "name": "stdin",
     "output_type": "stream",
     "text": [
      "두 값을 입력하세요 :  100 200\n"
     ]
    },
    {
     "name": "stdout",
     "output_type": "stream",
     "text": [
      "200\n",
      "100\n",
      "두 값 중 큰 값은 200 작은 값은 100\n"
     ]
    }
   ],
   "source": [
    "# 4.3 m, n 매개변수를 입력받아 큰 값을 반환하는 함수, 작은 값을 반환하는 함수\n",
    "\n",
    "def max2(m, n) :\n",
    "    if m >= n :\n",
    "        return m\n",
    "    elif n > m :\n",
    "        return n\n",
    "\n",
    "def min2(m, n) :\n",
    "    if m >= n :\n",
    "        return n\n",
    "    elif n > m :\n",
    "        return m\n",
    "\n",
    "m1, n1 = input('두 값을 입력하세요 : ').split()\n",
    "m1 = int(m1)\n",
    "n1 = int(n1)\n",
    "\n",
    "print(max2(200, 100))\n",
    "print(min2(100, 200))\n",
    "print(\"두 값 중 큰 값은 {} 작은 값은 {}\" .format(max2(m1, n1), min2(m1, n1)))"
   ]
  },
  {
   "cell_type": "code",
   "execution_count": 68,
   "id": "e21f3fea-63ec-436a-80ba-b75c90484cde",
   "metadata": {},
   "outputs": [
    {
     "name": "stdin",
     "output_type": "stream",
     "text": [
      "세 정수를 입력하세요 :  10 20 30\n"
     ]
    },
    {
     "name": "stdout",
     "output_type": "stream",
     "text": [
      "10, 20, 30의 평균값은 20.0\n",
      "10, 20, 30의 최댓값은 30\n",
      "10, 20, 30의 최솟값은 10\n"
     ]
    }
   ],
   "source": [
    "# 4.7 세 정수를 입력받아 평균, 최대, 최소 값을 출력\n",
    "\n",
    "def mean3(a, b, c) :\n",
    "    return (a + b + c) / 3\n",
    "\n",
    "def max3(a, b, c) :\n",
    "    #list_a = [a, b, c] \n",
    "    return max(a, b, c)\n",
    "\n",
    "def min3(a) :\n",
    "    #list_a = [a, b, c]\n",
    "    return min(a)\n",
    "\n",
    "a1, b1, c1 = input(\"세 정수를 입력하세요 : \").split()\n",
    "a1 = int(a1)\n",
    "b1 = int(b1)\n",
    "c1 = int(c1)\n",
    "\n",
    "print('{}, {}, {}의 평균값은 {}' .format(a1, b1, c1, mean3(a1, b1, c1)))\n",
    "print('{}, {}, {}의 최댓값은 {}' .format(a1, b1, c1, max3(a1, b1, c1)))\n",
    "print('{}, {}, {}의 최솟값은 {}' .format(a1, b1, c1, min3([a1, b1, c1])))"
   ]
  },
  {
   "cell_type": "code",
   "execution_count": 75,
   "id": "3455b2a8-79c1-47f8-8d35-33df61bd825e",
   "metadata": {},
   "outputs": [
    {
     "name": "stdin",
     "output_type": "stream",
     "text": [
      "반지름을 입력하세요 :  6\n"
     ]
    },
    {
     "name": "stdout",
     "output_type": "stream",
     "text": [
      "넓이 : 113.040, 둘레 :  37.680\n"
     ]
    },
    {
     "name": "stdin",
     "output_type": "stream",
     "text": [
      "반지름을 입력하세요 :  22\n"
     ]
    },
    {
     "name": "stdout",
     "output_type": "stream",
     "text": [
      "넓이 : 1519.760, 둘레 : 138.160\n"
     ]
    },
    {
     "name": "stdin",
     "output_type": "stream",
     "text": [
      "반지름을 입력하세요 :  4\n"
     ]
    },
    {
     "name": "stdout",
     "output_type": "stream",
     "text": [
      "넓이 :  50.240, 둘레 :  25.120\n"
     ]
    },
    {
     "name": "stdin",
     "output_type": "stream",
     "text": [
      "반지름을 입력하세요 :  -1\n"
     ]
    },
    {
     "name": "stdout",
     "output_type": "stream",
     "text": [
      "프로그램을 종료합니다.\n"
     ]
    }
   ],
   "source": [
    "# 4.23 반지름을 입력받아 원의 넓이와 둘레를 계산하여 반환하는 함수\n",
    "\n",
    "def area_and_circumference(r) :\n",
    "    area = 3.14 * r ** 2\n",
    "    circum = 2 * 3.14 * r\n",
    "    return area, circum\n",
    "\n",
    "while True :\n",
    "    radious = int(input(\"반지름을 입력하세요 : \"))\n",
    "    if radious > 0 :\n",
    "        a1, c1 = area_and_circumference(radious)\n",
    "        print(\"넓이 : {:7.3f}, 둘레 : {:7.3f}\" .format(a1, c1))\n",
    "    elif radious <= 0 :\n",
    "        print(\"프로그램을 종료합니다.\")\n",
    "        break"
   ]
  },
  {
   "cell_type": "code",
   "execution_count": 91,
   "id": "0fc097fe-b27d-43ef-8dfd-ecb4df6e2577",
   "metadata": {
    "collapsed": true,
    "jupyter": {
     "outputs_hidden": true
    },
    "tags": []
   },
   "outputs": [
    {
     "name": "stdin",
     "output_type": "stream",
     "text": [
      "원하는 단을 입력하세요 (종료 : end) :  1\n"
     ]
    },
    {
     "name": "stdout",
     "output_type": "stream",
     "text": [
      "1 * 1 = 1\n",
      "1 * 2 = 2\n",
      "1 * 3 = 3\n",
      "1 * 4 = 4\n",
      "1 * 5 = 5\n",
      "1 * 6 = 6\n",
      "1 * 7 = 7\n",
      "1 * 8 = 8\n",
      "1 * 9 = 9\n"
     ]
    },
    {
     "name": "stdin",
     "output_type": "stream",
     "text": [
      "원하는 단을 입력하세요 (종료 : end) :  2\n"
     ]
    },
    {
     "name": "stdout",
     "output_type": "stream",
     "text": [
      "2 * 1 = 2\n",
      "2 * 2 = 4\n",
      "2 * 3 = 6\n",
      "2 * 4 = 8\n",
      "2 * 5 = 10\n",
      "2 * 6 = 12\n",
      "2 * 7 = 14\n",
      "2 * 8 = 16\n",
      "2 * 9 = 18\n"
     ]
    },
    {
     "name": "stdin",
     "output_type": "stream",
     "text": [
      "원하는 단을 입력하세요 (종료 : end) :  3\n"
     ]
    },
    {
     "name": "stdout",
     "output_type": "stream",
     "text": [
      "3 * 1 = 3\n",
      "3 * 2 = 6\n",
      "3 * 3 = 9\n",
      "3 * 4 = 12\n",
      "3 * 5 = 15\n",
      "3 * 6 = 18\n",
      "3 * 7 = 21\n",
      "3 * 8 = 24\n",
      "3 * 9 = 27\n"
     ]
    },
    {
     "name": "stdin",
     "output_type": "stream",
     "text": [
      "원하는 단을 입력하세요 (종료 : end) :  10\n"
     ]
    },
    {
     "name": "stdout",
     "output_type": "stream",
     "text": [
      "10 * 1 = 10\n",
      "10 * 2 = 20\n",
      "10 * 3 = 30\n",
      "10 * 4 = 40\n",
      "10 * 5 = 50\n",
      "10 * 6 = 60\n",
      "10 * 7 = 70\n",
      "10 * 8 = 80\n",
      "10 * 9 = 90\n"
     ]
    },
    {
     "name": "stdin",
     "output_type": "stream",
     "text": [
      "원하는 단을 입력하세요 (종료 : end) :  end\n"
     ]
    }
   ],
   "source": [
    "def multable(n) :\n",
    "    for i in range(1, 10) :\n",
    "        print(\"{} * {} = {}\" .format(n, i, n*i)) #, end=' '\n",
    "\n",
    "while True :\n",
    "    n1 = input(\"원하는 단을 입력하세요 (종료 : end) : \" )\n",
    "    if n1 == 'end' :\n",
    "          break\n",
    "    else :\n",
    "          n1 = int(n1)\n",
    "          multable(n1)\n"
   ]
  }
 ],
 "metadata": {
  "kernelspec": {
   "display_name": "Python 3 (ipykernel)",
   "language": "python",
   "name": "python3"
  },
  "language_info": {
   "codemirror_mode": {
    "name": "ipython",
    "version": 3
   },
   "file_extension": ".py",
   "mimetype": "text/x-python",
   "name": "python",
   "nbconvert_exporter": "python",
   "pygments_lexer": "ipython3",
   "version": "3.10.9"
  }
 },
 "nbformat": 4,
 "nbformat_minor": 5
}
