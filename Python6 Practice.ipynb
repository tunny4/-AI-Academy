{
 "cells": [
  {
   "cell_type": "code",
   "execution_count": 45,
   "id": "e1b62a52-9c3f-4a2b-b5fe-ed3f5165f2ce",
   "metadata": {},
   "outputs": [
    {
     "name": "stdin",
     "output_type": "stream",
     "text": [
      "리스트1 입력 0 1 2 3 4\n",
      "리스트2 입력 3 4 5 6 7\n"
     ]
    },
    {
     "name": "stdout",
     "output_type": "stream",
     "text": [
      "[0, 1, 2, 3, 4]과 [3, 4, 5, 6, 7] 교집합을 제외한 리스트 [0, 1, 2, 5, 6, 7]\n"
     ]
    }
   ],
   "source": [
    "# 교집합 제외한 리스트\n",
    "\n",
    "def symmetric_difference_list(a, b) :\n",
    "    sym_list = []\n",
    "    \n",
    "    for i in a :\n",
    "        if i not in b :\n",
    "            sym_list.append(i)\n",
    "    for j in b :\n",
    "        if j not in a :\n",
    "            sym_list.append(j)\n",
    "         \n",
    "    return sym_list\n",
    "\n",
    "list_01 = [0, 1, 2, 3, 4]\n",
    "list_02 = [3, 4, 5, 6, 7]\n",
    "\n",
    "#input_list1 = input(\"list1 입력\").split()\n",
    "#input_list2 = input(\"list2 입력\").split()\n",
    "\n",
    "input_list1 = list(map(int, input(\"리스트1 입력\").split(' ')))\n",
    "input_list2 = list(map(int, input(\"리스트2 입력\").split(' ')))\n",
    "\n",
    "symlist = symmetric_difference_list(input_list1, input_list2)\n",
    "\n",
    "print(\"{}과 {} 교집합을 제외한 리스트 {}\" .format(input_list1, input_list2, symlist))"
   ]
  },
  {
   "cell_type": "code",
   "execution_count": 44,
   "id": "db06a02e-2013-4819-8bea-bc179d644e14",
   "metadata": {},
   "outputs": [
    {
     "name": "stdout",
     "output_type": "stream",
     "text": [
      "Alice\n",
      "Bob\n",
      "Ethan\n"
     ]
    },
    {
     "data": {
      "text/plain": [
       "[('Alice', 82), ('Bob', 90), ('Ethan', 94)]"
      ]
     },
     "execution_count": 44,
     "metadata": {},
     "output_type": "execute_result"
    }
   ],
   "source": [
    "# 2. 딕셔너리에서 80점 이상의 학생 이름을 출력하는 함수\n",
    "# 풀이 \n",
    "\n",
    "def over_score(over_score, score_dict) :\n",
    "    \n",
    "    for name, score in score_dict.items() :  # dictionary의 요소를 tuple로 만들고 name, score에 언패킹한다\n",
    "        \n",
    "        if score >= over_score :\n",
    "            print(name)\n",
    "'''        \n",
    "def good_student(a) :\n",
    "    \n",
    "    over_eighty_items = a.items()\n",
    "    result_list = []\n",
    "    cnt = 0\n",
    "    for i in over_eighty_items[1] :\n",
    "        if i >= 80 :\n",
    "            result_list.append(over_eighty_items[i][0])\n",
    "        cnt += 1\n",
    "    return result_list\n",
    "'''\n",
    "korean_scores = {'Alice' : 82, 'Bob' : 90, 'Charlie' : 75, 'David' : 67, 'Ethan' : 94}\n",
    "\n",
    "over_score(80, korean_scores)\n",
    "\n",
    "list(filter(lambda x : x[1] >= 80, korean_scores.items()))  # 필터, 람다를 이용해서 \n",
    "\n",
    "# print(\"80점 이상의 학생 이름은 : {}\" .format(good_student(korean_scores)))"
   ]
  },
  {
   "cell_type": "code",
   "execution_count": 46,
   "id": "1065a3be-90cf-4452-b21e-dd8502a14485",
   "metadata": {},
   "outputs": [
    {
     "data": {
      "text/plain": [
       "['apple', 'banana', 'cherry']"
      ]
     },
     "execution_count": 46,
     "metadata": {},
     "output_type": "execute_result"
    }
   ],
   "source": [
    "# 3. 리스트, 딕셔너리  딕셔너리의 값과 일치하는 리스트의 요소만 반환하는 함수\n",
    "\n",
    "def intersection_list(a, b) :\n",
    "    result_list = []\n",
    "    \n",
    "    for i in a :\n",
    "        if i in b.values() :\n",
    "                result_list.append(i)\n",
    "    \n",
    "    return result_list\n",
    "\n",
    "fruits = [\"apple\", \"banana\", \"cherry\", \"durian\"]\n",
    "fruits_dict = {\"a\" : \"apple\", \"b\" : \"banana\", \"c\" : \"cherry\"}\n",
    "\n",
    "intersection_list(fruits, fruits_dict)\n",
    "\n",
    "list(filter(lambda x : x in fruits_dict.values(), fruits))\n"
   ]
  },
  {
   "cell_type": "code",
   "execution_count": 62,
   "id": "1186338a-e2bb-41a5-91dd-22ea931b6ce6",
   "metadata": {},
   "outputs": [
    {
     "name": "stdin",
     "output_type": "stream",
     "text": [
      "문자열을 입력해주세요 :   \n"
     ]
    },
    {
     "name": "stdout",
     "output_type": "stream",
     "text": [
      "입력된 문자열이 없습니다.\n"
     ]
    }
   ],
   "source": [
    "# 4. 문자열을 입력받아 해당 문자열에 대문자, 소문자, 숫자가 각각 몇개씩 있는지 출력하는 함수 \n",
    "# 만약 입력된 문자열이 없으면 오류 문장 출력\n",
    "'''\n",
    "isupper()\n",
    "islower()\n",
    "isdigit()\n",
    "'''\n",
    "def string_analysis(a) :\n",
    "    \n",
    "    upperCount = 0\n",
    "    lowerCount = 0\n",
    "    digitCount = 0\n",
    "    \n",
    "    for i in a :\n",
    "        if i.isupper() :\n",
    "            upperCount += 1\n",
    "        elif i.islower() :\n",
    "            lowerCount += 1\n",
    "        elif i.isdigit() :\n",
    "            digitCount += 1\n",
    "    \n",
    "    return upperCount, lowerCount, digitCount\n",
    "'''\n",
    "def blank_str(string_a) :\n",
    "    cnt = 0\n",
    "    for i in string_a :\n",
    "        if i == ' ' :\n",
    "            cnt += 1\n",
    "    if cnt == len(string_a) :\n",
    "        return True\n",
    "    else :\n",
    "        return False\n",
    "'''\n",
    "\n",
    "inputString = input(\"문자열을 입력해주세요 : \")\n",
    "\n",
    "#if len(inputString) == 0 or blank_str(inputString) : # 빈 리스트, 문자열은 조건문에 넣으면 False로 판별한다.\n",
    "if not inputString or blank_str(inputString) :\n",
    "\n",
    "    print(\"입력된 문자열이 없습니다.\")\n",
    "\n",
    "else :\n",
    "    a, b, c = string_analysis(inputString)\n",
    "    print(\"입력된 문자열은 대문자 : {}, 소문자 : {}, 숫자 : {} 입니다.\" .format(a, b, c))\n",
    "    \n"
   ]
  },
  {
   "cell_type": "code",
   "execution_count": 64,
   "id": "fee8cc18-1b8a-4e24-8a14-46cfd5b3924c",
   "metadata": {},
   "outputs": [
    {
     "name": "stdout",
     "output_type": "stream",
     "text": [
      "['apple', 'banana', 'orange', 'grapefruit', 'pear1111111'] 리스트 중 가장 긴 문자열은 pear1111111 입니다.\n"
     ]
    }
   ],
   "source": [
    "# 5. 아래 리스트에 존재하는 문자열 중에서 가장 긴 문자열을 찾는 프로그램을 작성 \n",
    "# LongestStringFinder 라는 클래스 정의 find_longest_string() 멤버 함수 가장 큰 문자열 반환\n",
    "\n",
    "class LongestStringFinder :\n",
    "    \n",
    "    def find_longest_string(self, list_a) :\n",
    "        \n",
    "        longestLen = 0\n",
    "        longestString = ''\n",
    "        \n",
    "        for i in list_a :\n",
    "            if len(i) > longestLen :\n",
    "                longestLen = len(i)\n",
    "                longestString = i\n",
    "        \n",
    "        return longestString\n",
    "    \n",
    "lsf = LongestStringFinder()\n",
    "\n",
    "string_list = [\"apple\", \"banana\", \"orange\", \"grapefruit\", \"pear1111111\"]\n",
    "\n",
    "print(\"{} 리스트 중 가장 긴 문자열은 {} 입니다.\" .format(string_list, lsf.find_longest_string(string_list)))"
   ]
  },
  {
   "cell_type": "code",
   "execution_count": 66,
   "id": "488421d7-988c-4b76-90cd-5f0eb429a76a",
   "metadata": {},
   "outputs": [
    {
     "name": "stdout",
     "output_type": "stream",
     "text": [
      "1. 덧셈\n",
      "2. 뺄셈\n",
      "3. 곱셈\n",
      "4. 나눗셈\n",
      "5. 종료\n",
      "6. 초기화\n"
     ]
    },
    {
     "name": "stdin",
     "output_type": "stream",
     "text": [
      "원하는 작업을 선택하세요 :  1\n",
      "숫자를 입력하세요 :  5\n"
     ]
    },
    {
     "name": "stdout",
     "output_type": "stream",
     "text": [
      "현재 값 : 5\n"
     ]
    },
    {
     "name": "stdin",
     "output_type": "stream",
     "text": [
      "원하는 작업을 선택하세요 :  2\n",
      "숫자를 입력하세요 :  1\n"
     ]
    },
    {
     "name": "stdout",
     "output_type": "stream",
     "text": [
      "현재 값 : 4\n"
     ]
    },
    {
     "name": "stdin",
     "output_type": "stream",
     "text": [
      "원하는 작업을 선택하세요 :  3\n",
      "숫자를 입력하세요 :  3\n"
     ]
    },
    {
     "name": "stdout",
     "output_type": "stream",
     "text": [
      "현재 값 : 12\n"
     ]
    },
    {
     "name": "stdin",
     "output_type": "stream",
     "text": [
      "원하는 작업을 선택하세요 :  4\n",
      "숫자를 입력하세요 :  2\n"
     ]
    },
    {
     "name": "stdout",
     "output_type": "stream",
     "text": [
      "현재 값 : 6.0\n"
     ]
    },
    {
     "name": "stdin",
     "output_type": "stream",
     "text": [
      "원하는 작업을 선택하세요 :  6\n"
     ]
    },
    {
     "name": "stdout",
     "output_type": "stream",
     "text": [
      "초기화 합니다.\n",
      "현재 값 : 0\n"
     ]
    },
    {
     "name": "stdin",
     "output_type": "stream",
     "text": [
      "원하는 작업을 선택하세요 :  5\n"
     ]
    }
   ],
   "source": [
    "# 6. 계산기 클래스 \n",
    "'''\n",
    "1. 덧셈\n",
    "2. 뺄셈\n",
    "3. 곱셈\n",
    "4. 나눗셈\n",
    "5. 종료\n",
    "원하는 작업을 선택하세요 : 1\n",
    "숫자를 입력하세요 : 5\n",
    "결과 : 5.0\n",
    "'''\n",
    "\n",
    "class Calculator :\n",
    "    \n",
    "    def __init__(self) :\n",
    "        print(\"1. 덧셈\\n2. 뺄셈\\n3. 곱셈\\n4. 나눗셈\\n5. 종료\\n6. 초기화\")\n",
    "        self.__result = 0\n",
    "        \n",
    "    def add(self, val) :\n",
    "        self.__result += val\n",
    "        return self.__result\n",
    "    \n",
    "    def subtract(self, val) :\n",
    "        self.__result -= val\n",
    "        return self.__result\n",
    "    \n",
    "    def multiple(self, val) :\n",
    "        self.__result *= val\n",
    "        return self.__result\n",
    "    \n",
    "    def divide(self, val) :\n",
    "        self.__result /= val\n",
    "        return self.__result\n",
    "    \n",
    "    def __str__(self) :\n",
    "        return \"현재 값 : {}\" .format(self.__result)\n",
    "    \n",
    "    def __call__(self) :\n",
    "        print(\"초기화 합니다.\")\n",
    "        self.__result = 0\n",
    "    \n",
    "'''\n",
    "cal = Calculator(1, 2)\n",
    "cal.add()\n",
    "cal.subtract()\n",
    "cal.multiple()\n",
    "cal.divide()\n",
    "'''\n",
    "\n",
    "cal = Calculator()\n",
    "\n",
    "while True :\n",
    "    input_order = int(input(\"원하는 작업을 선택하세요 : \"))\n",
    "    # input_num = int(input(\"숫자를 입력하세요 : \"))\n",
    "\n",
    "    if input_order == 5 :\n",
    "        break\n",
    "    \n",
    "    elif input_order == 1 :\n",
    "        \n",
    "        input_num = int(input(\"숫자를 입력하세요 : \"))\n",
    "        cal.add(input_num)\n",
    "\n",
    "    elif input_order == 2 :\n",
    "        \n",
    "        input_num = int(input(\"숫자를 입력하세요 : \"))\n",
    "        cal.subtract(input_num)\n",
    "\n",
    "    elif input_order == 3 :\n",
    "        \n",
    "        input_num = int(input(\"숫자를 입력하세요 : \"))\n",
    "        cal.multiple(input_num)\n",
    "\n",
    "    elif input_order == 4 :\n",
    "        \n",
    "        input_num = int(input(\"숫자를 입력하세요 : \"))\n",
    "        cal.divide(input_num)\n",
    "        \n",
    "    elif input_order == 6 :\n",
    "        cal()\n",
    "        \n",
    "    print(cal)"
   ]
  },
  {
   "cell_type": "code",
   "execution_count": 91,
   "id": "19e43cb0-14ae-4049-a0b5-7efe6ab48197",
   "metadata": {},
   "outputs": [
    {
     "name": "stdout",
     "output_type": "stream",
     "text": [
      "9 9999\n",
      "9 999\n",
      "18 999\n",
      "18 99\n",
      "27 99\n",
      "27 9\n",
      "36 9\n"
     ]
    },
    {
     "data": {
      "text/plain": [
       "False"
      ]
     },
     "execution_count": 91,
     "metadata": {},
     "output_type": "execute_result"
    }
   ],
   "source": [
    "def harshad_number(num):\n",
    "    \n",
    "    hnum = num // 1000 \n",
    "    print(hnum, num)\n",
    "    num = num % 1000\n",
    "    print(hnum, num)\n",
    "    hnum = hnum + num // 100\n",
    "    print(hnum, num)\n",
    "    num = num % 100\n",
    "    print(hnum, num)\n",
    "    hnum = hnum + num //10\n",
    "    print(hnum, num)\n",
    "    num = num % 10\n",
    "    print(hnum, num)\n",
    "    hnum = hnum + num\n",
    "    print(hnum, num)\n",
    "    return hnum\n",
    "\n",
    "def solution(x):\n",
    "    answer = True\n",
    "    harshad_num = harshad_number(x)\n",
    "    if x % harshad_num == 0 :\n",
    "        answer = True\n",
    "    elif x % harshad_num != 0 :\n",
    "        answer = False\n",
    "    return answer\n",
    "\n",
    "solution(9999)"
   ]
  },
  {
   "cell_type": "code",
   "execution_count": 90,
   "id": "3c5272de-534e-480f-899d-015d85f751f3",
   "metadata": {},
   "outputs": [
    {
     "data": {
      "text/plain": [
       "36"
      ]
     },
     "execution_count": 90,
     "metadata": {},
     "output_type": "execute_result"
    }
   ],
   "source": [
    "sum(list(map(int, str(9999))))"
   ]
  },
  {
   "cell_type": "code",
   "execution_count": 97,
   "id": "443b0fbc-9143-42dc-8a1a-22d1944bc083",
   "metadata": {},
   "outputs": [
    {
     "data": {
      "text/plain": [
       "[9, 6, 5, 5, 5, 4, 4, 4, 3, 3, 3, 2, 2, 2, 2, 1, 1, 1]"
      ]
     },
     "execution_count": 97,
     "metadata": {},
     "output_type": "execute_result"
    }
   ],
   "source": [
    "def solution(n):\n",
    "    answer = []\n",
    "    answer = list(map(int, str(n)))\n",
    "    answer.sort(reverse = True)\n",
    "    return answer\n",
    "\n",
    "solution(123451231524654329)"
   ]
  },
  {
   "cell_type": "code",
   "execution_count": 99,
   "id": "991aec22-d247-4fd3-905b-408128842d91",
   "metadata": {},
   "outputs": [
    {
     "name": "stdout",
     "output_type": "stream",
     "text": [
      "0\n",
      "1\n",
      "2\n"
     ]
    }
   ],
   "source": [
    "for _ in range(3) :\n",
    "    print(_)"
   ]
  }
 ],
 "metadata": {
  "kernelspec": {
   "display_name": "Python 3 (ipykernel)",
   "language": "python",
   "name": "python3"
  },
  "language_info": {
   "codemirror_mode": {
    "name": "ipython",
    "version": 3
   },
   "file_extension": ".py",
   "mimetype": "text/x-python",
   "name": "python",
   "nbconvert_exporter": "python",
   "pygments_lexer": "ipython3",
   "version": "3.10.9"
  }
 },
 "nbformat": 4,
 "nbformat_minor": 5
}
