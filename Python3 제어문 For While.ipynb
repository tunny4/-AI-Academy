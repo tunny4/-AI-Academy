{
 "cells": [
  {
   "cell_type": "code",
   "execution_count": 4,
   "id": "eff8acd0-25e4-41a9-95b3-078a36f43004",
   "metadata": {},
   "outputs": [
    {
     "name": "stdout",
     "output_type": "stream",
     "text": [
      "인덱스 2에 해당하는 요소는 : banana\n",
      "인덱스 1부터 2까지의 요소는 : ['banana', 'cherry']\n",
      "인덱스 처음부터 2까지의 요소는 : ['apple', 'banana', 'cherry']\n",
      "인덱스 4부터 마지막까지의 요소는 : ['kiwi', 'melon']\n",
      "인덱스 1부터 끝까지 두 칸씩 건너뛰면서 출력 : ['banana', 'orange', 'melon']\n"
     ]
    }
   ],
   "source": [
    "my_list = ['apple', 'banana', 'cherry', 'orange', 'kiwi', 'melon']\n",
    "\n",
    "print(\"인덱스 2에 해당하는 요소는 :\", my_list[1])\n",
    "print(\"인덱스 1부터 2까지의 요소는 :\", my_list[1:3])\n",
    "print(\"인덱스 처음부터 2까지의 요소는 :\", my_list[0:3])\n",
    "print(\"인덱스 4부터 마지막까지의 요소는 :\", my_list[4:])\n",
    "print(\"인덱스 1부터 끝까지 두 칸씩 건너뛰면서 출력 :\", my_list[1::2])"
   ]
  },
  {
   "cell_type": "code",
   "execution_count": 7,
   "id": "8a9b3f7b-b75b-4776-8ae4-3ca464c5573e",
   "metadata": {},
   "outputs": [
    {
     "name": "stdout",
     "output_type": "stream",
     "text": [
      "cherry키에 해당하는 값은 : 3\n",
      "{'apple': 1, 'banana': 2, 'cherry': 3, 'orange': 4, 'kiwi': 5, 'melon': 6, 'mango': 7}\n"
     ]
    }
   ],
   "source": [
    "my_dict = {'apple' : 1, 'banana' : 2, 'cherry' : 3, 'orange' : 4, 'kiwi' : 5, 'melon' : 6}\n",
    "\n",
    "print(\"cherry키에 해당하는 값은 :\", my_dict['cherry'])\n",
    "my_dict['mango'] = 7\n",
    "print(my_dict)"
   ]
  },
  {
   "cell_type": "code",
   "execution_count": 14,
   "id": "32bd834a-79c3-419d-be4e-503c751b2149",
   "metadata": {},
   "outputs": [
    {
     "name": "stdout",
     "output_type": "stream",
     "text": [
      "score 키에 대응하는 리스트의 2번째 요소 : 90\n",
      "rank 키에 대응하는 리스트의 2번째 요소부터 3번째 요소까지 : [2, 1]\n"
     ]
    }
   ],
   "source": [
    "my_dict = {'score' : [80, 90, 100], 'rank' : [3, 2, 1]}\n",
    "\n",
    "print('score 키에 대응하는 리스트의 2번째 요소 :', my_dict['score'][1])\n",
    "print('rank 키에 대응하는 리스트의 2번째 요소부터 3번째 요소까지 :', my_dict['rank'][1:3])"
   ]
  },
  {
   "cell_type": "code",
   "execution_count": 19,
   "id": "c3893f52-4678-45f3-bed4-f6179761cb8c",
   "metadata": {},
   "outputs": [
    {
     "name": "stdout",
     "output_type": "stream",
     "text": [
      "['banana', 'cherry']\n",
      "[3, 4, 5]\n",
      "[('apple', 1), ('banana', 2)]\n"
     ]
    }
   ],
   "source": [
    "my_dict = {'apple' : 1, 'banana' : 2, 'cherry' : 3, 'orange' : 4, 'kiwi' : 5}\n",
    "\n",
    "keys = list(my_dict.keys())  # keys() 함수 딕셔너리의 키를 반환하는 멤버함수\n",
    "print(keys[1:3])\n",
    "\n",
    "values = list(my_dict.values())  # values() 함수 딕셔너리의 값을 반환하는 멤버함수\n",
    "print(values[2:5])\n",
    "\n",
    "items = list(my_dict.items()) # items() 함수 딕셔너리의 요소를 반환하는 멤버함수\n",
    "print(items[:2])"
   ]
  },
  {
   "cell_type": "markdown",
   "id": "548b97d0-c41b-4de4-acd9-4ad7b8dfb4ce",
   "metadata": {},
   "source": [
    "# 제어문\n",
    "\n",
    "* 순차문 sequential statements\n",
    "   - 순차적 구조 먼저 나타나는 코드가 먼저 실행되는 구조\n",
    "   \n",
    "* 순차문 이외의 흐름문 flow statements\n",
    "   - 제어문 control statements\n",
    "     - 조건문 conditional statements : if 문, if-else 문\n",
    "     - 반복문 : for 문, while 문\n",
    "     - 반복문의 흐름 변경 : break, continue\n",
    "     \n",
    "* if 조건문 \n",
    "   - if 키워드 조건식 : \n",
    "      들여쓰기 조건이 참일때 수행   (들여쓰기가 중요하다 블록구성)\n",
    "   - 블록은 흔히 코드 블록이라고도 함. 소스 코드에서 함께 묶을 수 있는 코드의 덩어리.\n",
    "\n",
    "* if-else 조건문\n",
    "   - 배타적 관계\n",
    "\n",
    "* 중복 if문 \n",
    "   - if문 안에 if문이 존재하는 것 (외부 if-else문, 내부 if-else문)\n",
    "   \n",
    "* if-elif-else 문 ***중요***\n",
    "   - if - else if - else 문"
   ]
  },
  {
   "cell_type": "code",
   "execution_count": 22,
   "id": "4c011ab7-520c-46c6-859f-baaad9b38245",
   "metadata": {},
   "outputs": [
    {
     "name": "stdout",
     "output_type": "stream",
     "text": [
      "청소년 할인\n"
     ]
    }
   ],
   "source": [
    "age = 18 \n",
    "if age < 20 :\n",
    "    print('청소년 할인')"
   ]
  },
  {
   "cell_type": "code",
   "execution_count": 31,
   "id": "6cd4f8b7-eb4e-4a39-89fa-a5c01d95e506",
   "metadata": {},
   "outputs": [
    {
     "name": "stdin",
     "output_type": "stream",
     "text": [
      "a 값을 입력하세요 :  10\n",
      "b 값을 입력하세요 :  20\n"
     ]
    },
    {
     "name": "stdout",
     "output_type": "stream",
     "text": [
      "a와 b값이 다릅니다\n"
     ]
    }
   ],
   "source": [
    "num_a = int(input(\"a 값을 입력하세요 : \"))\n",
    "num_b = int(input(\"b 값을 입력하세요 : \"))\n",
    "\n",
    "if num_a == num_b :\n",
    "    print(\"a와 b값이 같습니다\")\n",
    "if num_a != num_b :\n",
    "    print(\"a와 b값이 다릅니다\")"
   ]
  },
  {
   "cell_type": "code",
   "execution_count": 34,
   "id": "d9c59de2-0230-4148-85b5-9df331ab4ac8",
   "metadata": {},
   "outputs": [],
   "source": [
    "game_score = 800\n",
    "\n",
    "if game_score > 1000 :\n",
    "    print(\"당신은 고수입니다\")\n",
    "    print(game_score)"
   ]
  },
  {
   "cell_type": "code",
   "execution_count": 37,
   "id": "b3e5c06f-fa22-4c0d-a25e-b10e2dd79f80",
   "metadata": {},
   "outputs": [
    {
     "name": "stdin",
     "output_type": "stream",
     "text": [
      "1 ~ 100 사이의 정수를 입력하세요 :  50\n"
     ]
    },
    {
     "name": "stdout",
     "output_type": "stream",
     "text": [
      "50은 짝수입니다\n"
     ]
    }
   ],
   "source": [
    "n = int(input(\"1 ~ 100 사이의 정수를 입력하세요 : \"))\n",
    "\n",
    "if (n % 2) == 0 :\n",
    "    print(\"{}은 짝수입니다\" .format(n))"
   ]
  },
  {
   "cell_type": "code",
   "execution_count": 80,
   "id": "16fb3c70-d264-4810-8dc0-03e344bea7c0",
   "metadata": {},
   "outputs": [
    {
     "name": "stdout",
     "output_type": "stream",
     "text": [
      "True\n",
      "False\n",
      "True\n",
      "False\n"
     ]
    }
   ],
   "source": [
    "#데이터가 있는지 없는지 확인 할 수 있다. 있다면 참 없으면 거짓이다.\n",
    "\n",
    "if 2 : # 파이썬에서는 0은 거짓이고 나머지는 참이다\n",
    "    print('True')\n",
    "else :\n",
    "    print('False')\n",
    "\n",
    "if [] : # 파이썬에서는 데이터가 없으면 거짓, 있다면 참이다\n",
    "    print('True')\n",
    "else :\n",
    "    print('False')\n",
    "\n",
    "if \" \" : # 파이썬에서는 문자가 없으면 거짓, 있다면 참이다\n",
    "    print('True')\n",
    "else :\n",
    "    print('False')\n",
    "\n",
    "if None : # \n",
    "    print('True')\n",
    "else :\n",
    "    print('False')"
   ]
  },
  {
   "cell_type": "markdown",
   "id": "224ece57-d731-4b19-b8d3-870cc954be15",
   "metadata": {},
   "source": [
    "# for 반복문\n",
    "\n",
    "* for문은 반복의 횟수가 미리 정해져 있는 경우, while문은 반복 횟수는 알지 못하지만 반복하는 조건이 명확한 경우에 사용\n",
    "\n",
    "* 반복문의 구조\n",
    "   - for 변수 in 반복자 :\n",
    "       반복 할 코드\n",
    "    \n",
    "   - range() 함수\n",
    "       - range(start, stop, step) start 초기값 생략시 0, stop 반복조건 <stop이면 반복, step 증가값 생략시 1\n",
    "       - range(0, 10, 2) 0부터 9까지 2씩 증가 (0~9사이의 짝수)\n",
    "       - range(1, 10, 2) 1부터 9까지 2씩 증가 (1~9사이의 홀수)\n",
    "       - range는 생성자로 범위 정보만 가지고 있지 미리 생성하지 않는다. = 큰 메모리를 차지하지 않는다.\n",
    "       - in으로 비교할 경우 생성한 값과 비교하는 것이 아닌 범위안에 포함하는지를 비교한다.\n",
    "       \n",
    "    - 반복자 ex. 리스트, 튜플, 딕셔너리, 제너레이터(생성함수 ex.range)\n",
    "        - 정수는 반복자가 아니다\n",
    "    \n",
    "    - in도 조건문 중하나\n",
    "        - 3 in range(10)\n",
    "        - 1 in {1 : '1', 3 : '3'} key는 가능하지만 '1' in {1 : '1', 3 : '3'} value는 불가능 '1' in {1 : '1', 3 : '3'}.values() 로 써야된다."
   ]
  },
  {
   "cell_type": "code",
   "execution_count": 60,
   "id": "138b1f1b-bec0-4e82-a4c7-fdbb221f27d2",
   "metadata": {
    "tags": []
   },
   "outputs": [
    {
     "name": "stdout",
     "output_type": "stream",
     "text": [
      "1\n",
      "2\n",
      "3\n",
      "4\n",
      "5\n",
      "6\n",
      "7\n",
      "8\n",
      "9\n",
      "1 3 3 4 5 \n",
      "H e l l o \n",
      "0 1 2 3 4 apple\n",
      "orange\n",
      "lemon\n",
      "3\n",
      "1\n",
      "7\n"
     ]
    }
   ],
   "source": [
    "for i in range(1, 10) :\n",
    "    print(i)\n",
    "    \n",
    "for i in [1, 3, 3, 4, 5] :\n",
    "    print(i, end = \" \")\n",
    "\n",
    "print(\"\")\n",
    "\n",
    "for ch in 'Hello' :\n",
    "    print(ch, end = ' ')\n",
    "\n",
    "list_a = [1, 2, 3, 4, 5]\n",
    "\n",
    "print(\"\")\n",
    "\n",
    "for i in range(len(list_a)):\n",
    "    print(i, end = \" \")\n",
    "\n",
    "dic_a = {'apple' : 3, 'orange' : 1, 'lemon' : 7}\n",
    "for i in dic_a : # for i in dic_a.keys() :\n",
    "    print(i)\n",
    "\n",
    "tuple_a = (3, 1, 7)\n",
    "for i in tuple_a :\n",
    "    print(i)"
   ]
  },
  {
   "cell_type": "code",
   "execution_count": 1,
   "id": "9a103ce5-bdb7-4663-ad8f-53d45ac3bb89",
   "metadata": {},
   "outputs": [
    {
     "name": "stdout",
     "output_type": "stream",
     "text": [
      "1 2\n",
      "3 4\n",
      "5 6\n",
      "7 8\n",
      "(1, 2)\n",
      "(3, 4)\n",
      "(5, 6)\n",
      "(7, 8)\n",
      "1 2\n",
      "3 4\n",
      "5 6\n",
      "7 8\n",
      "0 1\n",
      "1 3\n",
      "2 5\n",
      "3 7\n",
      "a\n",
      "p\n",
      "p\n",
      "l\n",
      "e\n"
     ]
    },
    {
     "data": {
      "text/plain": [
       "True"
      ]
     },
     "execution_count": 1,
     "metadata": {},
     "output_type": "execute_result"
    }
   ],
   "source": [
    "list_a = [1, 3, 5, 7]\n",
    "list_b = [2, 4, 6, 8]\n",
    "\n",
    "for i in range(len(list_a)) :\n",
    "    print(list_a[i], list_b[i])\n",
    "    \n",
    "for i in zip(list_a, list_b) : # 길이가 같은 반복자 패킹, 길이가 다르면 짧은 것 까지만\n",
    "    print(i)\n",
    "    \n",
    "for i, j in zip(list_a, list_b) : # 언패킹\n",
    "    print(i, j)\n",
    "\n",
    "for i, j in enumerate(list_a) : #index번호와 짝지어서 나온다\n",
    "    print(i, j)\n",
    "\n",
    "for i in 'apple' :\n",
    "    print(i)\n",
    "    \n",
    "10000000 in range(100000000)"
   ]
  },
  {
   "cell_type": "code",
   "execution_count": 57,
   "id": "7cc10a2e-1625-43e3-a3ee-72ef723ee007",
   "metadata": {
    "tags": []
   },
   "outputs": [
    {
     "name": "stdout",
     "output_type": "stream",
     "text": [
      "2 단\n",
      "2 * 1 = 2\n",
      "2 * 2 = 4\n",
      "2 * 3 = 6\n",
      "2 * 4 = 8\n",
      "2 * 5 = 10\n",
      "2 * 6 = 12\n",
      "2 * 7 = 14\n",
      "2 * 8 = 16\n",
      "2 * 9 = 18\n",
      "3 단\n",
      "3 * 1 = 3\n",
      "3 * 2 = 6\n",
      "3 * 3 = 9\n",
      "3 * 4 = 12\n",
      "3 * 5 = 15\n",
      "3 * 6 = 18\n",
      "3 * 7 = 21\n",
      "3 * 8 = 24\n",
      "3 * 9 = 27\n",
      "4 단\n",
      "4 * 1 = 4\n",
      "4 * 2 = 8\n",
      "4 * 3 = 12\n",
      "4 * 4 = 16\n",
      "4 * 5 = 20\n",
      "4 * 6 = 24\n",
      "4 * 7 = 28\n",
      "4 * 8 = 32\n",
      "4 * 9 = 36\n",
      "5 단\n",
      "5 * 1 = 5\n",
      "5 * 2 = 10\n",
      "5 * 3 = 15\n",
      "5 * 4 = 20\n",
      "5 * 5 = 25\n",
      "5 * 6 = 30\n",
      "5 * 7 = 35\n",
      "5 * 8 = 40\n",
      "5 * 9 = 45\n",
      "6 단\n",
      "6 * 1 = 6\n",
      "6 * 2 = 12\n",
      "6 * 3 = 18\n",
      "6 * 4 = 24\n",
      "6 * 5 = 30\n",
      "6 * 6 = 36\n",
      "6 * 7 = 42\n",
      "6 * 8 = 48\n",
      "6 * 9 = 54\n",
      "7 단\n",
      "7 * 1 = 7\n",
      "7 * 2 = 14\n",
      "7 * 3 = 21\n",
      "7 * 4 = 28\n",
      "7 * 5 = 35\n",
      "7 * 6 = 42\n",
      "7 * 7 = 49\n",
      "7 * 8 = 56\n",
      "7 * 9 = 63\n",
      "8 단\n",
      "8 * 1 = 8\n",
      "8 * 2 = 16\n",
      "8 * 3 = 24\n",
      "8 * 4 = 32\n",
      "8 * 5 = 40\n",
      "8 * 6 = 48\n",
      "8 * 7 = 56\n",
      "8 * 8 = 64\n",
      "8 * 9 = 72\n",
      "9 단\n",
      "9 * 1 = 9\n",
      "9 * 2 = 18\n",
      "9 * 3 = 27\n",
      "9 * 4 = 36\n",
      "9 * 5 = 45\n",
      "9 * 6 = 54\n",
      "9 * 7 = 63\n",
      "9 * 8 = 72\n",
      "9 * 9 = 81\n"
     ]
    }
   ],
   "source": [
    "for i in range(2, 10) :\n",
    "    print(i, \"단\")\n",
    "    for j in range(1, 10) :\n",
    "        print(\"{} * {} = {}\" .format(i, j, i*j))"
   ]
  },
  {
   "cell_type": "markdown",
   "id": "388051d5-2853-4c57-92ba-490c30135de8",
   "metadata": {},
   "source": [
    "# While 반복문\n",
    "\n",
    "* while 조건문:     # 이 조건문이 참일 동안 반복\n",
    "\n",
    "* list에서 값을 뽑아서 처리하고 지울 때, list의 길이를 모를 때\n",
    "\n",
    "* break break가 포함된 반복문을 즉시 종료\n",
    "\n",
    "* continue 반복문 안에서 블럭의 뒷부분을 생략하고 다시 반복문으로 돌아간다.\n",
    "    - 안정적이지 않기 때문에 break, continue 사용은 지양한다.\n",
    "    \n",
    "* try try: 다음에 오는 구문이 작동이 될지 안될지 모르기 때문에 시도해보는 용도\n",
    "    - 입력을 받거나 예상치 못한 오류가 날 수도 있을때\n",
    "    - 항상 실행이 안될 경우의 코드를 작성해야 한다.\n",
    "\n",
    "* raise 내가 커스텀할 수 있는 오류"
   ]
  },
  {
   "cell_type": "code",
   "execution_count": 82,
   "id": "cb4270a3-515c-437c-b533-99bfb21129a4",
   "metadata": {
    "tags": []
   },
   "outputs": [
    {
     "name": "stdout",
     "output_type": "stream",
     "text": [
      "9\n",
      "7\n",
      "5\n",
      "3\n",
      "1\n"
     ]
    }
   ],
   "source": [
    "list_a = [1, 3, 5, 7, 9]\n",
    "while list_a :    # 모두 꺼내면 데이터가 없으므로 False가 되어 반복이 중단된다.\n",
    "    print(list_a.pop())\n",
    "    "
   ]
  },
  {
   "cell_type": "code",
   "execution_count": 89,
   "id": "89e8e1b2-ede4-414d-b65a-70935ac22336",
   "metadata": {
    "collapsed": true,
    "jupyter": {
     "outputs_hidden": true
    },
    "scrolled": true,
    "tags": []
   },
   "outputs": [
    {
     "name": "stdout",
     "output_type": "stream",
     "text": [
      "10\n",
      "8\n",
      "6\n",
      "\n",
      "i : 1\n",
      "1 2\n",
      "1 4\n",
      "1 6\n",
      "1 8\n",
      "1 10\n",
      "i : 3\n",
      "3 2\n",
      "3 4\n",
      "3 6\n",
      "3 8\n",
      "i : 5\n",
      "5 2\n",
      "5 4\n",
      "5 6\n",
      "i : 7\n",
      "7 2\n",
      "7 4\n",
      "i : 9\n",
      "9 2\n"
     ]
    }
   ],
   "source": [
    "list_a = [2, 4, 6, 8, 10]\n",
    "while list_a :\n",
    "    print(list_a.pop())\n",
    "    if len(list_a) == 2 :\n",
    "        break\n",
    "\n",
    "print(\"\")\n",
    "for i in [1, 3, 5, 7, 9] :\n",
    "    print('i :', i)\n",
    "    for j in [2, 4, 6, 8, 10] :\n",
    "        print(i, j)\n",
    "        if i + j > 10 :\n",
    "            break"
   ]
  },
  {
   "cell_type": "code",
   "execution_count": 94,
   "id": "72b6a53d-366d-4c6a-a34c-8b6c452dd6f5",
   "metadata": {},
   "outputs": [
    {
     "name": "stdout",
     "output_type": "stream",
     "text": [
      "1\n",
      "i가 6보다 작음\n",
      "3\n",
      "i가 6보다 작음\n",
      "5\n",
      "i가 6보다 작음\n",
      "7\n",
      "9\n"
     ]
    }
   ],
   "source": [
    "for i in [1, 3, 5, 7, 9] :\n",
    "    print(i)\n",
    "    if i > 6 :\n",
    "        continue\n",
    "    print('i가 6보다 작음')"
   ]
  },
  {
   "cell_type": "code",
   "execution_count": 98,
   "id": "4710aff6-2026-4e1e-8a29-36ea018f57ad",
   "metadata": {},
   "outputs": [
    {
     "name": "stdin",
     "output_type": "stream",
     "text": [
      " 1\n",
      " 1\n"
     ]
    },
    {
     "name": "stdout",
     "output_type": "stream",
     "text": [
      "1.0\n"
     ]
    }
   ],
   "source": [
    "a = int(input())\n",
    "b = int(input())\n",
    "\n",
    "try :\n",
    "    print(a / b)\n",
    "except :\n",
    "    print(\"b는0이 될 수 없습니다.\")"
   ]
  },
  {
   "cell_type": "code",
   "execution_count": 105,
   "id": "cd0b656b-6765-4dce-a9ef-eef829f6dd27",
   "metadata": {
    "tags": []
   },
   "outputs": [
    {
     "name": "stdin",
     "output_type": "stream",
     "text": [
      " 1\n",
      " 1\n"
     ]
    },
    {
     "name": "stdout",
     "output_type": "stream",
     "text": [
      "1.0\n",
      "2\n"
     ]
    }
   ],
   "source": [
    "while True :\n",
    "    try :\n",
    "        a = int(input())\n",
    "        b = int(input())\n",
    "        print(a / b)\n",
    "        #break\n",
    "    except ZeroDivisionError :\n",
    "        print(\"b는0이 될 수 없습니다.\")\n",
    "    except ValueError :\n",
    "        print(\"숫자만 입력할 수 있습니다.\")\n",
    "    except :\n",
    "        print(\"오류가 발생\")   # 알 수 없는 오류의 경우 break를 쓰는 것이 좋다.\n",
    "        break\n",
    "    else :                     # 예외가 발생하지 않을 때 실행되는 블록\n",
    "        print(a, b)\n",
    "        break\n",
    "    finally :                  # 예외의 발생 여부와 상관없이 항상 실행되는 블록\n",
    "        print(a+b)"
   ]
  },
  {
   "cell_type": "code",
   "execution_count": 107,
   "id": "010c8e60-bc23-4aff-b8e6-81665848c01a",
   "metadata": {
    "tags": []
   },
   "outputs": [
    {
     "name": "stdin",
     "output_type": "stream",
     "text": [
      " 1\n",
      " 1\n"
     ]
    },
    {
     "name": "stdout",
     "output_type": "stream",
     "text": [
      "1.0\n"
     ]
    }
   ],
   "source": [
    "try :\n",
    "    a = int(input())\n",
    "    b = int(input())\n",
    "    c = a / b\n",
    "    #break\n",
    "except ZeroDivisionError :\n",
    "    c = 0\n",
    "    print(\"b는0이 될 수 없습니다.\")\n",
    "except ValueError :\n",
    "    print(\"숫자만 입력할 수 있습니다.\")\n",
    "except :\n",
    "    print(\"오류가 발생\")   # 알 수 없는 오류의 경우 break를 쓰는 것이 좋다.\n",
    "finally :                  # 예외의 발생 여부와 상관없이 항상 실행되는 블록\n",
    "    print(c)"
   ]
  },
  {
   "cell_type": "code",
   "execution_count": 113,
   "id": "d4216121-bb8b-4c4e-9f73-9157cd7bf2e7",
   "metadata": {},
   "outputs": [
    {
     "ename": "TypeError",
     "evalue": "타입에러",
     "output_type": "error",
     "traceback": [
      "\u001b[1;31m---------------------------------------------------------------------------\u001b[0m",
      "\u001b[1;31mTypeError\u001b[0m                                 Traceback (most recent call last)",
      "Cell \u001b[1;32mIn[113], line 6\u001b[0m\n\u001b[0;32m      4\u001b[0m     \u001b[38;5;28mprint\u001b[39m(a)\n\u001b[0;32m      5\u001b[0m \u001b[38;5;28;01melse\u001b[39;00m : \n\u001b[1;32m----> 6\u001b[0m     \u001b[38;5;28;01mraise\u001b[39;00m \u001b[38;5;167;01mTypeError\u001b[39;00m(\u001b[38;5;124m\"\u001b[39m\u001b[38;5;124m타입에러\u001b[39m\u001b[38;5;124m\"\u001b[39m)\n",
      "\u001b[1;31mTypeError\u001b[0m: 타입에러"
     ]
    }
   ],
   "source": [
    "a = 5.1\n",
    "type(a) # 객체의 타입을 알려준다.\n",
    "if type(a) == int :\n",
    "    print(a)\n",
    "else : \n",
    "    raise TypeError(\"타입에러\")"
   ]
  },
  {
   "cell_type": "code",
   "execution_count": 171,
   "id": "4ceff8f8-50f9-44c5-8175-adfa11ebc220",
   "metadata": {},
   "outputs": [
    {
     "name": "stdin",
     "output_type": "stream",
     "text": [
      "a :  10\n",
      "b :  2\n"
     ]
    },
    {
     "name": "stdout",
     "output_type": "stream",
     "text": [
      "10는 2로 나누어 떨어진다.\n",
      "나눠 떨어짐\n"
     ]
    }
   ],
   "source": [
    "# 1\n",
    "\n",
    "try :\n",
    "    a = int(input(\"a : \"))\n",
    "    b = int(input(\"b : \"))\n",
    "\n",
    "    if a % b == 0 :\n",
    "        print(\"{}는 {}로 나누어 떨어진다.\" .format(a, b))\n",
    "    else :\n",
    "        print(\"{}를 {}로 나누면 나머지가 {}이 된다.\" .format(a, b, a % b))\n",
    "        \n",
    "    if a % b :\n",
    "        print(\"나눠 떨어지지 않음\")\n",
    "    else :\n",
    "        print(\"나눠 떨어짐\")\n",
    "        \n",
    "except ZeroDivisionError :\n",
    "    print(\"b는0이 될 수 없습니다.\")\n",
    "except ValueError :\n",
    "    print(\"숫자만 입력할 수 있습니다.\")"
   ]
  },
  {
   "cell_type": "code",
   "execution_count": 3,
   "id": "3408d7aa-9e59-4715-abbe-28d775a0adb5",
   "metadata": {},
   "outputs": [
    {
     "name": "stdin",
     "output_type": "stream",
     "text": [
      "a :  1\n",
      "b :  2\n",
      "c :  3\n"
     ]
    },
    {
     "name": "stdout",
     "output_type": "stream",
     "text": [
      "가장 작은 값은 a의 1\n",
      "가장 작은 값은 1이다.\n",
      "가장 작은 값은 a의 1 이다.\n"
     ]
    }
   ],
   "source": [
    "# 2\n",
    "\n",
    "a = int(input(\"a : \"))\n",
    "b = int(input(\"b : \"))\n",
    "c = int(input(\"c : \"))\n",
    "\n",
    "if a < b :\n",
    "    if a < c and a != c :\n",
    "        print(\"가장 작은 값은 a의\", a)\n",
    "    elif c < a and a != c:\n",
    "        print(\"가장 작은 값은 c의\", c)\n",
    "    elif a == c : \n",
    "        print(\"a와 c의 값은 같으며 가장 작은 {}이다\" .format(a))\n",
    "elif b < a :\n",
    "    if b < c and b != c :\n",
    "        print(\"가장 작은 값은 \", b)\n",
    "    elif c < b and b != c :\n",
    "        print(\"가장 작은 값은 \", c)\n",
    "    elif b == c : \n",
    "        print(\"b와 c의 값은 같으며 가장 작은 {}이다\" .format(b))\n",
    "elif a == b :\n",
    "    if a < c and a != c :\n",
    "        print(\"a와 b의 값은 같으며 가장 작은 {}이다\" .format(a))\n",
    "    elif c < a and a != c:\n",
    "        print(\"가장 작은 값은 c의\", c)\n",
    "    elif a == c : \n",
    "        print(\"a와 b,c의 값은 같으며 가장 작은 {}이다\" .format(a))\n",
    "        \n",
    "list_a = [a, b, c]\n",
    "print(\"가장 작은 값은 {}이다.\" .format(min(list_a)))\n",
    "\n",
    "dic_a = {'a' : a, 'b' : b, 'c' : c}\n",
    "print(\"가장 작은 값은 {}의 {} 이다.\" .format(min(dic_a), dic_a[min(dic_a)]))"
   ]
  },
  {
   "cell_type": "code",
   "execution_count": 181,
   "id": "d71445cb-0ad1-403e-a2dd-daad00ec2b0a",
   "metadata": {},
   "outputs": [
    {
     "name": "stdin",
     "output_type": "stream",
     "text": [
      " 100 121 1312 123 123 12344 1439\n"
     ]
    },
    {
     "name": "stdout",
     "output_type": "stream",
     "text": [
      "100\n"
     ]
    }
   ],
   "source": [
    "# num_list = list(map(int, num_list.split(' ')))\n",
    "num_list = list(map(int, input().split(' ')))\n",
    "answer = num_list[0]\n",
    "\n",
    "for i in num_list[1:]:\n",
    "    if answer > i :\n",
    "        answer = i\n",
    "print(answer)"
   ]
  },
  {
   "cell_type": "code",
   "execution_count": 183,
   "id": "02f77c9e-1c0e-4994-9132-3df6190528d4",
   "metadata": {},
   "outputs": [
    {
     "name": "stdout",
     "output_type": "stream",
     "text": [
      "2 4 6 8 10 12 14 16 18 20 22 24 26 28 30 32 34 36 38 40 42 44 46 48 50 "
     ]
    }
   ],
   "source": [
    "# 3\n",
    "\n",
    "for i in range(2, 51, 2) :\n",
    "    print(i, end=' ')"
   ]
  },
  {
   "cell_type": "code",
   "execution_count": 168,
   "id": "57ca8a12-52fd-48f2-b073-4c82b897c304",
   "metadata": {},
   "outputs": [
    {
     "name": "stdout",
     "output_type": "stream",
     "text": [
      "364\n",
      "11 11\n",
      "22 33\n",
      "23 56\n",
      "99 155\n",
      "81 236\n",
      "93 329\n",
      "35 364\n"
     ]
    }
   ],
   "source": [
    "# 4\n",
    "\n",
    "list_a = [11, 22, 23, 99, 81, 93, 35]\n",
    "sumA = 0\n",
    "\n",
    "print(sum(list_a))\n",
    "\n",
    "for i in list_a :\n",
    "    sumA += i\n",
    "    print(i, sumA)"
   ]
  },
  {
   "cell_type": "code",
   "execution_count": 169,
   "id": "4a79569d-f3bc-432c-8d55-c816ce4465e5",
   "metadata": {},
   "outputs": [
    {
     "name": "stdout",
     "output_type": "stream",
     "text": [
      "15 15\n",
      "30 45\n",
      "45 90\n",
      "60 150\n",
      "75 225\n",
      "90 315\n"
     ]
    }
   ],
   "source": [
    "# 5\n",
    "\n",
    "sumA = 0\n",
    "for i in range(1, 101) :\n",
    "    if i % 3 == 0 and i % 5 == 0 and i >= 5 :\n",
    "        sumA += i\n",
    "        print(i, sumA)"
   ]
  },
  {
   "cell_type": "code",
   "execution_count": 176,
   "id": "3026c34c-1a79-4f43-ba64-8e03760051b8",
   "metadata": {},
   "outputs": [
    {
     "name": "stdin",
     "output_type": "stream",
     "text": [
      " 1   2   3   4\n"
     ]
    },
    {
     "name": "stdout",
     "output_type": "stream",
     "text": [
      "['1', '2', '3', '4']\n"
     ]
    },
    {
     "data": {
      "text/plain": [
       "0"
      ]
     },
     "execution_count": 176,
     "metadata": {},
     "output_type": "execute_result"
    }
   ],
   "source": [
    "# input 입력 계속 받기\n",
    "# split(\" \") 공백 만큼 나눈다\n",
    "# 'abcde'.find('a') 'abcde'에서 'a' 위치를 찾아 반환\n",
    "# map(변환 타입, list이름.split(''))\n",
    "# list(map(변환 타입, list이름.split('')))\n",
    "num_list = input().split(\"   \")   # num_list.split()\n",
    "print(num_list)\n",
    "'abcde'.find('a')"
   ]
  }
 ],
 "metadata": {
  "kernelspec": {
   "display_name": "Python 3 (ipykernel)",
   "language": "python",
   "name": "python3"
  },
  "language_info": {
   "codemirror_mode": {
    "name": "ipython",
    "version": 3
   },
   "file_extension": ".py",
   "mimetype": "text/x-python",
   "name": "python",
   "nbconvert_exporter": "python",
   "pygments_lexer": "ipython3",
   "version": "3.10.9"
  }
 },
 "nbformat": 4,
 "nbformat_minor": 5
}
