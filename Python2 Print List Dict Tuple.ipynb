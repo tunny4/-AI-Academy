{
 "cells": [
  {
   "cell_type": "markdown",
   "id": "621a8d2e-155e-41cf-ae0d-814174ec74ba",
   "metadata": {
    "tags": []
   },
   "source": [
    "### 변수\n",
    "\n",
    "print함수를 제대로 쓰기 위해서는 변수에대한 이해가 필요하다.\n",
    "프로그램이 실행되는 동안 값이 바뀔 수 있는 값\n",
    "* '=' 할당 연산자, 대입 연산자\n",
    "* 할당 연산자의 오른쪽에는 변수, 상수, 수식, 값을 반환하는 함수가 올 수 있다.\n",
    "* 변수는 메인 메모리에 저장된다. (메모리는 1byte의 공간으로 이루어져있다.)\n",
    "* 정수= integer, 실수 = float, 문자 = string, Boolean=true또는 false\n",
    "\n",
    "### print\n",
    "\n",
    "* %d decimal, %f float, %s string\n",
    "* :.2f 소숫점 둘째 자리까지 출력\n",
    "* :>10.2f 총 10칸의 자리에 우측출력 (기본)\n",
    "* :<10.2f 총 10칸의 자리에 좌측정렬\n",
    "\n",
    "### 주석\n",
    "\n",
    "* ''' 여러줄 ''', \"\"\" 여러줄 \"\"\"\n",
    "* #한줄, #코드옆\n",
    "* 함수를 만들면 함수위에 역할, 매개변수, 반환값 등 모두 작성해야한다.\n",
    "\n",
    "### 함수 \n",
    "* 소괄호는 함수이다.\n",
    "* 함수는 특별한 기능을 하는 명령어이다.\n",
    "\n",
    "### 식별자\n",
    "* myName= 카멜표기법\n",
    "* my_name\n",
    "\n",
    "### 메소드는 함수이다.\n",
    "\n"
   ]
  },
  {
   "cell_type": "code",
   "execution_count": 5,
   "id": "488c821e-01b3-4c0c-8546-7b7e3cb55d23",
   "metadata": {},
   "outputs": [
    {
     "name": "stdout",
     "output_type": "stream",
     "text": [
      "2732861291856 2732872286448\n"
     ]
    }
   ],
   "source": [
    "# id는 변순의 주소 명을 반환한다.\n",
    "a = \"이름\"\n",
    "b = \"이름\"\n",
    "print(id(a), id(b))c"
   ]
  },
  {
   "cell_type": "code",
   "execution_count": 2,
   "id": "e948ad61-c326-48b0-9118-02951a6e9d34",
   "metadata": {
    "tags": []
   },
   "outputs": [
    {
     "name": "stdout",
     "output_type": "stream",
     "text": [
      "10 20.500000 가\n",
      "10.00      가\n"
     ]
    }
   ],
   "source": [
    "print(\"%d %f %s\" %(10.5, 20.5, \"가\"))\n",
    "\n",
    "print(\"{0:<10.2f} {1}\".format(10, \"가\"))"
   ]
  },
  {
   "cell_type": "code",
   "execution_count": 19,
   "id": "aee7365f-2ad0-497e-b3f3-88fef5f340eb",
   "metadata": {},
   "outputs": [
    {
     "data": {
      "text/plain": [
       "20"
      ]
     },
     "execution_count": 19,
     "metadata": {},
     "output_type": "execute_result"
    }
   ],
   "source": [
    "'''\n",
    "a는 10\n",
    "b는 20\n",
    "'''\n",
    "\n",
    "\"\"\"\n",
    "a는 10\n",
    "b는 20\n",
    "\"\"\"\n",
    "\n",
    "# a는 10\n",
    "a = 10\n",
    "b = 20 # b는 20\n",
    "\n",
    "a\n",
    "b"
   ]
  },
  {
   "cell_type": "code",
   "execution_count": 20,
   "id": "54a87a33-24a8-41e1-98bb-84ff115b3cea",
   "metadata": {},
   "outputs": [
    {
     "name": "stdout",
     "output_type": "stream",
     "text": [
      "가로 30, 세로 60인 사각형의 면적은 1800입니다\n"
     ]
    }
   ],
   "source": [
    "'''\n",
    "2.3 2.13 2.22\n",
    "width와 height라는 변수에 각각 30, 60 값을 할당한 후 이 두 변수를 이용하여 다음과 같이 사각형의 면적을 구하는 프로그램\n",
    "'''\n",
    "width = 30\n",
    "height = 60\n",
    "area = width * height\n",
    "print('가로 30, 세로 60인 사각형의 면적은 {}입니다' .format(area))"
   ]
  },
  {
   "cell_type": "code",
   "execution_count": 28,
   "id": "18f00a12-2c3b-4198-8841-faf44c4cc533",
   "metadata": {},
   "outputs": [
    {
     "name": "stdin",
     "output_type": "stream",
     "text": [
      "반지름을 입력하세요 :  11\n"
     ]
    },
    {
     "name": "stdout",
     "output_type": "stream",
     "text": [
      "반지름이 11.0인 원의 둘레는 69.115024이며 원의 면적은 380.132632000000001입니다\n"
     ]
    }
   ],
   "source": [
    "# 사용자로부터 반지름 값을 입력받아 원의 둘레와 면적을 출력하라\n",
    "\n",
    "pi = 3.141592\n",
    "radious = float(input('반지름을 입력하세요 : '))\n",
    "\n",
    "print('반지름이 {}인 원의 둘레는 {}이며 원의 면적은 {:.15f}입니다' .format(radious, 2*pi*radious, pi*(radious**2)))"
   ]
  },
  {
   "cell_type": "code",
   "execution_count": 27,
   "id": "6b4fd340-1f4d-4d60-a770-3821d6457340",
   "metadata": {},
   "outputs": [
    {
     "name": "stdin",
     "output_type": "stream",
     "text": [
      "a를 입력하세요 :  4\n",
      "b를 입력하세요 :  2\n"
     ]
    },
    {
     "name": "stdout",
     "output_type": "stream",
     "text": [
      "4를 2로 나눈 몫은 2이며 나머지는 0입니다\n"
     ]
    }
   ],
   "source": [
    "# 사용자로 부터 2개의 정수 a,b를 입력받아 a를 b로 나눈 몫과 나머지를 출력\n",
    "\n",
    "a = int(input(\"a를 입력하세요 : \"))\n",
    "b = int(input(\"b를 입력하세요 : \"))\n",
    "\n",
    "print(\"{}를 {}로 나눈 몫은 {}이며 나머지는 {}입니다\" .format(a,b,a/b,a%b))"
   ]
  },
  {
   "cell_type": "markdown",
   "id": "95dc6e94-9f25-48f0-9eeb-42d047241689",
   "metadata": {},
   "source": [
    "# 리스트\n",
    "\n",
    "파이썬은 자료구조를 가장 다양하게 지원한다. (Data structure) 그 자료구조 중 가장 중요한 것이 리스트이다.\n",
    "\n",
    "* 리스트이름 = [요소1, 요소2, 요소3 ...]\n",
    "* 인덱스는 0부터 n-1\n",
    "* 원소들의 자료형을 복합적으로 사용할 수있다.\n",
    "* 리스트안에 리스트도 넣을 수 있다.\n",
    "* list = [1, 2, 3] // tuple = (1, 2, 3)\n",
    "* 인덱싱, 슬라이싱, 주요 멤버함수  ***중요***\n",
    "* len(리스트) = 리스트 요소의 개수 (length)\n",
    "* append() 새로운 요소 삽입  \n",
    "   - 리스트이름.append(요소)\n",
    "* del 특정 인덱스의 요소 삭제 \n",
    "   - del 리스트이름(인덱스)\n",
    "* remove() 요소 삭제 \n",
    "   - 리스트이름.remove(요소) (요소값보다 변수를 넣어 값을 찾아서 삭제하는 경우가 많다.)\n",
    "* in, not in 멤버 연산자 ****중요****\n",
    "   - 요소가 존재하는지 불 연산자로 반환하는 연산자\n",
    "   - 요소 in 리스트 이름\n",
    "   - 요소 not in 리스트 이름\n",
    "* list의 내장함수 min(), max(), sum() 최소, 최대, 합 연산 가능\n",
    "   - min(리스트이름), max(리스트이름), sum(리스트이름)   (a.함수 = a의 멤버함수)\n",
    "* 음수 인덱스 - 역순으로 -1, -2, -3 ...\n",
    "* sort() 함수 \n",
    "   - 리스트이름.sort()  //오름차순 정렬\n",
    "   - 리스트이름.sort(reverse = true) //내림차순 정렬\n",
    "* 리스트 사이에는 더하기 연산자가 사용 가능, 빼기, 곱하기 나누기 연산자는 사용 불가\n",
    "   - listA + listB\n",
    "\n",
    "* 리스트 슬라이싱\n",
    "   - 리스트내의 항목을 특정한 구간별로 선택하여 잘라내는 기능\n",
    "   - 리스트 이름[start:end] \n",
    "   - start부터 end-1까지 자른다\n",
    "   - 공백이면 끝까지 자른다 (리스트 이름[:] 이면 처음부터 끝까지)\n",
    "   - 리스트 이름[start:end:step]  start부터 end-1까지 step만큼 건너뛰며 슬라이싱\n",
    "   \n",
    "   "
   ]
  },
  {
   "cell_type": "code",
   "execution_count": 5,
   "id": "e52ca286-b92c-48f8-a232-8d8162589d14",
   "metadata": {},
   "outputs": [
    {
     "data": {
      "text/plain": [
       "['A', 'B', 'C', 'D', 'E', 'F']"
      ]
     },
     "execution_count": 5,
     "metadata": {},
     "output_type": "execute_result"
    }
   ],
   "source": [
    "list1 = list() # 빈 리스트 생성\n",
    "list2 = []     # 빈 리스트 생성2 ****중요****\n",
    "list3 = list((1, 2, 3)) # 튜플로부터 리스트 생성\n",
    "list4 = list(range(1, 10)) # range() 함수로부터 리스트 생성 (1부터 9까지)\n",
    "list5 = list('ABCDEF') # 문자열로부터 리스트 생성 (문자열도 순서가 있다)\n",
    "\n",
    "list3\n",
    "list4\n",
    "list5"
   ]
  },
  {
   "cell_type": "code",
   "execution_count": 54,
   "id": "65bd94d2-70ff-4ed6-b3f7-acf5fb4adcb4",
   "metadata": {},
   "outputs": [
    {
     "data": {
      "text/plain": [
       "1"
      ]
     },
     "execution_count": 54,
     "metadata": {},
     "output_type": "execute_result"
    }
   ],
   "source": [
    "a_list = ['a', 'b', 'c', 'd', 'e']\n",
    "a_list.index('a')\n",
    "a_list.index('b')\n",
    "# a_list.index('x')"
   ]
  },
  {
   "cell_type": "code",
   "execution_count": 12,
   "id": "607efbdd-acbd-4232-846e-363b2d32a5fe",
   "metadata": {},
   "outputs": [
    {
     "data": {
      "text/plain": [
       "2"
      ]
     },
     "execution_count": 12,
     "metadata": {},
     "output_type": "execute_result"
    }
   ],
   "source": [
    "b_list = ['a', 'b', 'c', 'a', 'b', 'a']\n",
    "b_list.count('a')\n",
    "b_list.count('b')"
   ]
  },
  {
   "cell_type": "code",
   "execution_count": 14,
   "id": "a6aa3346-dbbb-4e58-8877-8be430c31358",
   "metadata": {},
   "outputs": [
    {
     "data": {
      "text/plain": [
       "['a', 'b', 'c', 1, 2, 3, 'd']"
      ]
     },
     "execution_count": 14,
     "metadata": {},
     "output_type": "execute_result"
    }
   ],
   "source": [
    "list1 = ['a', 'b', 'c']\n",
    "list2 = [1, 2, 3]\n",
    "list1.extend(list2)\n",
    "list1\n",
    "\n",
    "list1.extend('d')\n",
    "list1"
   ]
  },
  {
   "cell_type": "code",
   "execution_count": 16,
   "id": "67885037-2e70-4e38-83ed-92d4fd7c696a",
   "metadata": {},
   "outputs": [
    {
     "data": {
      "text/plain": [
       "['a', 'b', 'c', 'd']"
      ]
     },
     "execution_count": 16,
     "metadata": {},
     "output_type": "execute_result"
    }
   ],
   "source": [
    "list1 = ['a', 'c', 'd']\n",
    "list1.insert(1, 'b')\n",
    "list1"
   ]
  },
  {
   "cell_type": "code",
   "execution_count": 19,
   "id": "ec5cd52b-f815-4c2c-b1e5-32991f91ed1e",
   "metadata": {},
   "outputs": [
    {
     "data": {
      "text/plain": [
       "['a', 'c', 'd']"
      ]
     },
     "execution_count": 19,
     "metadata": {},
     "output_type": "execute_result"
    }
   ],
   "source": [
    "list1 = ['a', 'b', 'c', 'b', 'd']\n",
    "list1.remove('b')\n",
    "list1\n",
    "\n",
    "list1.remove('b')\n",
    "list1"
   ]
  },
  {
   "cell_type": "code",
   "execution_count": 24,
   "id": "e5111b5f-ed45-4f89-a2fd-fe250e05f57a",
   "metadata": {},
   "outputs": [
    {
     "data": {
      "text/plain": [
       "['a', 'c', 'd']"
      ]
     },
     "execution_count": 24,
     "metadata": {},
     "output_type": "execute_result"
    }
   ],
   "source": [
    "list1 = ['a', 'b', 'c', 'd']\n",
    "list1.pop()\n",
    "\n",
    "list1\n",
    "\n",
    "list1 = ['a', 'b', 'c', 'd']\n",
    "list1.pop(1)\n",
    "\n",
    "list1"
   ]
  },
  {
   "cell_type": "code",
   "execution_count": 26,
   "id": "8a49bbcf-5fab-4fd7-808f-d74d458d3206",
   "metadata": {},
   "outputs": [
    {
     "data": {
      "text/plain": [
       "['a', 'b', 'c']"
      ]
     },
     "execution_count": 26,
     "metadata": {},
     "output_type": "execute_result"
    }
   ],
   "source": [
    "list1 = ['a', 'b', 'c', 'd']\n",
    "list1.remove(list1[-1])\n",
    "list1"
   ]
  },
  {
   "cell_type": "code",
   "execution_count": 28,
   "id": "458cffca-8fab-4b1c-a465-379d8dbd2d68",
   "metadata": {},
   "outputs": [
    {
     "data": {
      "text/plain": [
       "[40, 30, 20, 10]"
      ]
     },
     "execution_count": 28,
     "metadata": {},
     "output_type": "execute_result"
    }
   ],
   "source": [
    "list1 = [10, 20, 30, 40]\n",
    "list1.reverse()\n",
    "list1"
   ]
  },
  {
   "cell_type": "markdown",
   "id": "51ca459c-c3a4-4a3b-b4eb-49d1d732c984",
   "metadata": {},
   "source": [
    "# 딕셔너리, 튜플, 집합\n",
    "\n",
    "* 딕셔너리\n",
    "   - 키와 값 2개로 이루어 졌다.\n",
    "   - a = {키1 : 값1, 키2 : 값2, 키3 : 값3}\n",
    "   - a[키4] = 값4  //새로운 키:값 항목 삽입\n",
    "   - a[키2] = 값5  //키2에 해당하는 값 수정\n",
    "   - del a[키]     //키:값 항목 삭제\n",
    "   - 순서가 없어서 슬라이싱을 지원하지 않는다\n",
    "   \n",
    "* 튜플\n",
    "   - 여러 개의 요소를 가지는 컬렉션 자료형\n",
    "   - 값을 변경 할 수 없는 리스트\n",
    "   - 패킹 : 하나의 변수에 여러 개의 값을 넣는 것\n",
    "   - 언패킹 : 패킹된 변수로부터 여러 개의 값을 개별 변수로 꺼내는 것\n",
    "   "
   ]
  },
  {
   "cell_type": "code",
   "execution_count": 35,
   "id": "8e5333a3-e4b5-4c7a-b9e4-3f94e3d36498",
   "metadata": {},
   "outputs": [
    {
     "data": {
      "text/plain": [
       "6500"
      ]
     },
     "execution_count": 35,
     "metadata": {},
     "output_type": "execute_result"
    }
   ],
   "source": [
    "capital_dic = {'Korea' : 'Seoul', 'China' : 'Beijing', 'USA' : 'Washington Dc'}\n",
    "capital_dic['Korea']\n",
    "capital_dic['China']\n",
    "capital_dic['USA']\n",
    "\n",
    "fruits_dic = {'apple' : 5000, 'banana' : 4000, 'grape' : 5300, 'melon' : 6500}\n",
    "fruits_dic['apple']\n",
    "fruits_dic['banana']\n",
    "fruits_dic['grape']\n",
    "fruits_dic['melon']"
   ]
  },
  {
   "cell_type": "code",
   "execution_count": 49,
   "id": "09f8577c-77de-428b-a7d9-bf84d2f08d33",
   "metadata": {},
   "outputs": [
    {
     "name": "stdin",
     "output_type": "stream",
     "text": [
      "두 정수를 입력하세요 :  1 2\n"
     ]
    },
    {
     "name": "stdout",
     "output_type": "stream",
     "text": [
      "두 정수 1와 2의 합은 3입니다\n"
     ]
    }
   ],
   "source": [
    "a, b = input(\"두 정수를 입력하세요 : \").split()\n",
    "a = int(a)\n",
    "b = int(b)\n",
    "print(\"두 정수 {}와 {}의 합은 {}입니다\" .format(a, b, a + b))"
   ]
  },
  {
   "cell_type": "code",
   "execution_count": 50,
   "id": "0f031baa-dd06-40f9-84db-43e6e3ad330a",
   "metadata": {},
   "outputs": [
    {
     "name": "stdin",
     "output_type": "stream",
     "text": [
      "두 실수를 입력하세요 :  12.1 11.1\n"
     ]
    },
    {
     "name": "stdout",
     "output_type": "stream",
     "text": [
      "두 실수 12.1와 11.1의 곱은 134.31입니다\n"
     ]
    }
   ],
   "source": [
    "a, b = input(\"두 실수를 입력하세요 : \").split()\n",
    "a = float(a)\n",
    "b = float(b)\n",
    "print(\"두 실수 {}와 {}의 곱은 {}입니다\" .format(a, b, a * b))"
   ]
  },
  {
   "cell_type": "code",
   "execution_count": 48,
   "id": "32ae4a7d-71bd-400e-99f7-63b4668e8fb8",
   "metadata": {},
   "outputs": [
    {
     "name": "stdout",
     "output_type": "stream",
     "text": [
      "10\n",
      "50\n",
      "50\n",
      "[30, 40, 50]\n",
      "[10, 20, 30, 40]\n",
      "[20, 40]\n"
     ]
    }
   ],
   "source": [
    "numbers = [10, 20, 30, 40, 50]\n",
    "print(numbers[0])\n",
    "print(numbers[len(numbers)-1])\n",
    "print(numbers[-1])\n",
    "print(numbers[2:5])\n",
    "print(numbers[:4])\n",
    "print(numbers[1:4:2])\n"
   ]
  },
  {
   "cell_type": "code",
   "execution_count": 66,
   "id": "d1a83fd6-d100-4145-b35d-7895aa45e802",
   "metadata": {},
   "outputs": [
    {
     "name": "stdout",
     "output_type": "stream",
     "text": [
      "['IronMan', 'CaptinAmerica', 'Thor', 'Hulk', 'Blackwidow', 'Hawkeye']\n",
      "['IronMan', 'CaptinAmerica', 'Thor', 'Hulk', 'Hawkeye']\n",
      "3\n",
      "['Hulk', 'Hawkeye']\n",
      "['CaptinAmerica', 'Hawkeye', 'Hulk', 'IronMan', 'Thor']\n",
      "5\n"
     ]
    }
   ],
   "source": [
    "marvelHeroes = ['IronMan', 'CaptinAmerica', 'Thor', 'Hulk', 'Blackwidow']\n",
    "\n",
    "marvelHeroes.append('Hawkeye')\n",
    "print(marvelHeroes)\n",
    "marvelHeroes.remove('Blackwidow')\n",
    "print(marvelHeroes)\n",
    "print(marvelHeroes.index('Hulk'))\n",
    "print(marvelHeroes[3:])\n",
    "marvelHeroes.sort()\n",
    "print(marvelHeroes)\n",
    "print(len(marvelHeroes))"
   ]
  },
  {
   "cell_type": "code",
   "execution_count": 1,
   "id": "1c0b5a58-d9c0-4c19-a583-3f078c4ea901",
   "metadata": {},
   "outputs": [
    {
     "name": "stdout",
     "output_type": "stream",
     "text": [
      "[1, 2, 3]\n",
      "1\n",
      "{'apple': [1, 2, 3], 'banana': ['yellow', 'sweet', 'long'], 'orange': [4, 5, 6]}\n"
     ]
    }
   ],
   "source": [
    "fruit = {'apple':[1, 2, 3], 'banana':['yellow', 'sweet', 'long']}\n",
    "\n",
    "print(fruit['apple'])\n",
    "print(fruit['apple'][0])\n",
    "fruit['orange'] = [4, 5, 6]\n",
    "print(fruit)"
   ]
  }
 ],
 "metadata": {
  "kernelspec": {
   "display_name": "Python 3 (ipykernel)",
   "language": "python",
   "name": "python3"
  },
  "language_info": {
   "codemirror_mode": {
    "name": "ipython",
    "version": 3
   },
   "file_extension": ".py",
   "mimetype": "text/x-python",
   "name": "python",
   "nbconvert_exporter": "python",
   "pygments_lexer": "ipython3",
   "version": "3.10.9"
  }
 },
 "nbformat": 4,
 "nbformat_minor": 5
}
