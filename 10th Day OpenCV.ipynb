{
 "cells": [
  {
   "cell_type": "code",
   "execution_count": 2,
   "id": "452d5267-c347-4eac-9edc-f78cb5f6f849",
   "metadata": {},
   "outputs": [],
   "source": [
    "import os\n",
    "import cv2"
   ]
  },
  {
   "cell_type": "code",
   "execution_count": 3,
   "id": "2acc4b0c-4517-4af1-a3b3-e1d5a3ced593",
   "metadata": {},
   "outputs": [],
   "source": [
    "current_directory = os.getcwd() # 현재 디렉토리를 알아낸다."
   ]
  },
  {
   "cell_type": "code",
   "execution_count": 5,
   "id": "4e488961-9f7f-4ee9-b5ea-f0805b176380",
   "metadata": {},
   "outputs": [],
   "source": [
    "if not os.path.exists(os.path.join(current_directory, \"images\")) :  # 현재 디렉토리 경로에 images 폴더가 있는지 확인\n",
    "    os.mkdir(\"images\") # 없다면 images 폴더 생성"
   ]
  },
  {
   "cell_type": "code",
   "execution_count": 6,
   "id": "39c9ee49-00ca-4ac9-a489-9f70b5ba3a16",
   "metadata": {},
   "outputs": [],
   "source": [
    "image = cv2.imread(\"./image.jpg\", cv2.IMREAD_COLOR)\n",
    "height, width, channel = image.shape"
   ]
  },
  {
   "cell_type": "code",
   "execution_count": 7,
   "id": "b5eb450f-777f-43a4-84fb-0791e111ee56",
   "metadata": {},
   "outputs": [],
   "source": [
    "# 이미지를 10도씩 회전시키면서 새로운 이미지를 만들어 저장함 (데이터 증강)\n",
    "for angle in range(0, 360, 10) : \n",
    "    rotation_matrix = cv2.getRotationMatrix2D((width/2, height/2), angle, 1)\n",
    "    rotated_image = cv2.warpAffine(image, rotation_matrix, (width, height), borderMode = cv2.BORDER_REPLICATE )\n",
    "    cv2.imwrite(\"./images/rotated_image_%d.jpg\" %angle, rotated_image)"
   ]
  }
 ],
 "metadata": {
  "kernelspec": {
   "display_name": "Python 3 (ipykernel)",
   "language": "python",
   "name": "python3"
  },
  "language_info": {
   "codemirror_mode": {
    "name": "ipython",
    "version": 3
   },
   "file_extension": ".py",
   "mimetype": "text/x-python",
   "name": "python",
   "nbconvert_exporter": "python",
   "pygments_lexer": "ipython3",
   "version": "3.11.4"
  }
 },
 "nbformat": 4,
 "nbformat_minor": 5
}
