{
 "cells": [
  {
   "cell_type": "code",
   "execution_count": 1,
   "id": "1b8defd3-763a-41e2-a77f-f804d8b440e0",
   "metadata": {},
   "outputs": [],
   "source": [
    "from sklearn.datasets import load_breast_cancer\n",
    "import pandas as pd\n",
    "import numpy as np"
   ]
  },
  {
   "cell_type": "code",
   "execution_count": 2,
   "id": "abd06e1f-4c65-444e-9ddf-d30d91714350",
   "metadata": {
    "scrolled": true,
    "tags": []
   },
   "outputs": [],
   "source": [
    "breast = load_breast_cancer()\n",
    "df = pd.DataFrame(breast.data, columns=breast.feature_names)\n",
    "df['diagnosis'] = breast.target"
   ]
  },
  {
   "cell_type": "code",
   "execution_count": 3,
   "id": "028bcb5a-4c74-43c1-aa21-70b9ddce6ab6",
   "metadata": {},
   "outputs": [
    {
     "data": {
      "text/plain": [
       "1    357\n",
       "0    212\n",
       "Name: diagnosis, dtype: int64"
      ]
     },
     "execution_count": 3,
     "metadata": {},
     "output_type": "execute_result"
    }
   ],
   "source": [
    "df['diagnosis'].value_counts()"
   ]
  },
  {
   "cell_type": "raw",
   "id": "b36693e5-f7f7-433e-b806-8ef0e18418ac",
   "metadata": {},
   "source": [
    "from sklearn.model_selection import train_test_split\n",
    "\n",
    "X = df.iloc[:, :-1].values\n",
    "y = df.iloc[:, -1].values\n",
    "\n",
    "# train:test = 8:2로 나누면 같은 시험지로 재시험을 치는 격이라서 train을 한번 더 쪼개서 train:validation = 8:2로 만들어 줌.\n",
    "# 결국 전체 데이터가 6:2:2로 3등분\n",
    "\n",
    "# train->Scaler->Model / validation->transform / test->transform\n",
    "\n",
    "# validation셋이 모델 선정의 기준이 됨. 하이퍼파라미터를 조정해서 가장 나은 모델 선택 (튜닝)\n",
    "# 최종적으로 test셋과 비교해서 모델을 평가함\n",
    "# stratify=y : y값이 각 덩어리마다 골고루 나눠지게끔 해준다.\n",
    "\n",
    "# 데이터를 3등분 해줌\n",
    "X_train, X_test, y_train, y_test = train_test_split(X, y, test_size=0.2, stratify=y, random_state=1)\n",
    "X_train, X_val, y_train, y_val = train_test_split(X_train, y_train, test_size=0.2, stratify=y_train, random_state=1)\n",
    "\n",
    "# (심화) 그런데 validation셋이 어떤 특정 모델에 유리하게 선정된다면? k겹 교차검증을 한다."
   ]
  },
  {
   "cell_type": "code",
   "execution_count": 4,
   "id": "130a56e2",
   "metadata": {},
   "outputs": [],
   "source": [
    "from sklearn.model_selection import train_test_split, StratifiedKFold\n",
    "\n",
    "X = df.iloc[:, :-1].values\n",
    "y = df.iloc[:, -1].values\n",
    "\n",
    "X_train, X_test, y_train, y_test = train_test_split(X, y, test_size=0.2, stratify=y, random_state=1)"
   ]
  },
  {
   "cell_type": "code",
   "execution_count": 5,
   "id": "cbfdb917-d10f-473e-8180-ba3807f8da4b",
   "metadata": {},
   "outputs": [],
   "source": [
    "# k겹 교차검증(KFold Cross Validation) - 검증의 신뢰성을 위해 검증기관을 여러 개 두는 것.\n",
    "# train을 k등분해서 돌아가면서 한 부분씩 validation으로 해서 총 k번 검증한다. k회 검증 점수의 평균을 내서 교차검증 정확도를 알아본다.\n",
    "from sklearn.model_selection import train_test_split, StratifiedKFold\n",
    "\n",
    "X = df.iloc[:, :-1].values\n",
    "y = df.iloc[:, -1].values\n",
    "\n",
    "X_train, X_test, y_train, y_test = train_test_split(X, y, test_size=0.2, stratify=y, random_state=1)\n",
    "\n",
    "# 데이터 분할 기계 생성 -> 분할(split) 실행\n",
    "# shuffle: train을 한 번 섞은 뒤 분할 / false면 stratify가 동작하지 않을 수도 있다..?\n",
    "kfold = StratifiedKFold(n_splits=10, shuffle=True, random_state=1).split(X_train, y_train)"
   ]
  },
  {
   "cell_type": "code",
   "execution_count": 6,
   "id": "39700d8d-1262-41c9-a0f8-4d3d4f4ee912",
   "metadata": {
    "scrolled": true,
    "tags": []
   },
   "outputs": [
    {
     "data": {
      "text/plain": [
       "<generator object _BaseKFold.split at 0x000001F9CBF1A740>"
      ]
     },
     "execution_count": 6,
     "metadata": {},
     "output_type": "execute_result"
    }
   ],
   "source": [
    "kfold # generator 객체    "
   ]
  },
  {
   "cell_type": "raw",
   "id": "f21caf27-8e70-4595-aee0-48fd86779a56",
   "metadata": {},
   "source": [
    "from sklearn.preprocessing import StandardScaler\n",
    "from sklearn.decomposition import PCA # 자료가 학습에 충분하지 않아서 (충분하려면 10^(컬럼 수)개는 되어야 함) 차원 축소해주기\n",
    "from sklearn.linear_model import LogisticRegression # 이름은 로지스틱회귀인데 하는 일은 분류(Classification)이다.\n",
    "\n",
    "# k회 검증 점수를 담을 리스트 생성\n",
    "cvscore = []\n",
    "\n",
    "# 종양이 양성인지 악성인지 알고싶은 것이니까 분류문제임\n",
    "\n",
    "# enumerate로 packing했으므로 i, kfold로 unpacking하고, kfold에서 다시 (train, val)로 unpacking\n",
    "for i, (train, val) in enumerate(kfold): # kfold는 iterator로 사용 가능, 한번 꺼내면 유지되지 않고 날아감\n",
    "    scaler = StandardScaler()\n",
    "    X_train_sc = scaler.fit_transform(X_train[train]) # 스케일링된 X_train\n",
    "    X_val_sc = scaler.transform(X_train[val]) # 스케일링된 X_val\n",
    "    \n",
    "    pca = PCA(n_components=2) # 2차원으로 축소시킴\n",
    "    X_train_sc = pca.fit_transform(X_train_sc)\n",
    "    X_val_sc = pca.transform(X_val_sc)\n",
    "    \n",
    "    model = LogisticRegression(solver='liblinear', random_state=1)\n",
    "    model.fit(X_train_sc, y_train[train]) # (1단계) 훈련 데이터로 학습시키기\n",
    "    \n",
    "    # p_val = model.predict(X_val_sc) # (2단계) 학습을 토대로 y_train[val]의 값을 예측해 보기\n",
    "    # score(y_train[val], p_val) # (3단계) 실제 y_train[val]과 비교해서 모델의 점수 산정 -> 평균 내기\n",
    "    score = model.score(X_val_sc, y_train[val]) # model에서 위 과정의 predict와 score를 한 번에 할 수 있다.\n",
    "    cvscore.append(score)\n",
    "    print(f\"폴드{i+1}. 정확도: {score}\")\n",
    "    \n",
    "print(\"\\nCV 정확도:\", np.mean(cvscore))"
   ]
  },
  {
   "cell_type": "code",
   "execution_count": 7,
   "id": "a0276fb8",
   "metadata": {},
   "outputs": [
    {
     "name": "stdout",
     "output_type": "stream",
     "text": [
      "폴드 1. 정확도: 1.0\n",
      "폴드 2. 정확도: 0.9347826086956522\n",
      "폴드 3. 정확도: 0.9130434782608695\n",
      "폴드 4. 정확도: 0.9347826086956522\n",
      "폴드 5. 정확도: 0.9782608695652174\n",
      "폴드 6. 정확도: 0.9333333333333333\n",
      "폴드 7. 정확도: 0.9333333333333333\n",
      "폴드 8. 정확도: 0.9777777777777777\n",
      "폴드 9. 정확도: 0.9555555555555556\n",
      "폴드 10. 정확도: 0.9333333333333333\n",
      "\n",
      " CV 정확도: 0.9494202898550725\n"
     ]
    }
   ],
   "source": [
    "from sklearn.preprocessing import StandardScaler\n",
    "from sklearn.decomposition import PCA # 차원축소(데이터가 너무 적음)\n",
    "from sklearn.linear_model import LogisticRegression\n",
    "\n",
    "kfold = StratifiedKFold(n_splits=10, shuffle=True, random_state=1).split(X_train, y_train)\n",
    "cvscore = []\n",
    "\n",
    "\n",
    "for i, (train, val) in enumerate(kfold):\n",
    "\n",
    "#스케일링    \n",
    "    scaler = StandardScaler()\n",
    "    X_train_sc = scaler.fit_transform(X_train[train])\n",
    "    X_val_sc = scaler.transform(X_train[val])\n",
    "    \n",
    "    \n",
    "#차원축소    \n",
    "    pca = PCA(n_components=2)\n",
    "    X_train_sc = pca.fit_transform(X_train_sc)\n",
    "    X_val_sc = pca.transform(X_val_sc)\n",
    "    \n",
    "#모델학습...    \n",
    "    model = LogisticRegression(solver='liblinear', random_state=1)\n",
    "    model.fit(X_train_sc, y_train[train])\n",
    "    # p_val = model.predict(X_val_sc)\n",
    "    score = model.score(X_val_sc, y_train[val])\n",
    "    cvscore.append(score)\n",
    "    print(f\"폴드 {i+1}. 정확도: {score}\")\n",
    "print(\"\\n CV 정확도:\", np.mean(cvscore))"
   ]
  },
  {
   "cell_type": "code",
   "execution_count": 24,
   "id": "444b9e08",
   "metadata": {},
   "outputs": [
    {
     "name": "stdout",
     "output_type": "stream",
     "text": [
      "\n",
      " CV 정확도: 0.9494202898550725\n"
     ]
    }
   ],
   "source": [
    "from sklearn.model_selection import cross_val_score\n",
    "from sklearn.pipeline import make_pipeline\n",
    "\n",
    "\n",
    "#make_pipeline(스케일링 모듈, 차원축소 모듈, 모델학습 모듈 넣기,)\n",
    "lr_pipe=make_pipeline(StandardScaler(),\n",
    "                      PCA(n_components=2), \n",
    "                      LogisticRegression(solver='liblinear', \n",
    "                                         #penalty='l2',\n",
    "                                         random_state=1))\n",
    "\n",
    "#fit할 때는 lr_pipe.fit(X_train, y_train)\n",
    "#predict 할 때는 lr_pipe.predict(X_test)\n",
    "\n",
    "\n",
    "#cross_val_score(estimator=ㅣr_pipe, X=?, y=?, cv=?)\n",
    "cvsore=cross_val_score(estimator=lr_pipe, X=X_train, y=y_train, cv=10, n_jobs=-1) #estimator 추정기\n",
    "\n",
    "#cv=10 10개 복제함. 10조각을 내서 10개의 k폴더를 생성람\n",
    "\n",
    "#score=f1_score\n",
    "#mean_squared_error(y,p)\n",
    "#(실제값, 예측값)\n",
    "\n",
    "\n",
    "#엔잡스가 1으로 하면 차례대로 갈 것, 10개면 병렬로 한꺼번에 됨.\n",
    "\n",
    "print(\"\\n CV 정확도:\", np.mean(cvscore))"
   ]
  },
  {
   "cell_type": "markdown",
   "id": "bde0b7ef",
   "metadata": {},
   "source": []
  },
  {
   "cell_type": "code",
   "execution_count": 25,
   "id": "38c1b147-9680-48e3-b033-0407514f2c4d",
   "metadata": {},
   "outputs": [
    {
     "name": "stdout",
     "output_type": "stream",
     "text": [
      "CV 정확도: 0.973623188405797\n"
     ]
    }
   ],
   "source": [
    "from sklearn.model_selection import cross_val_score\n",
    "from sklearn.pipeline import make_pipeline\n",
    "\n",
    "# 머신러닝 파이프라인\n",
    "# 파이프 라인 : 한쪽 입구에 데이터를 넣으면 통로를 따라 쭉 흘러가면서 \n",
    "#               스케일링, 차원축소, 모델학습 하는 일련의 과정이 \n",
    "#               유기적으로 연결돼서 자동화 된것 -> 최종 결과만 툭 나오는 것\n",
    "# 스케일링, 차원축소, 모델학습 순서대로 넣기\n",
    "\n",
    "lr_pipe = make_pipeline(StandardScaler(),\n",
    "                        # PCA(n_components=2),\n",
    "                        LogisticRegression(solver='liblinear', random_state=1, penalty='l2')) # 규제항: ridge (손실함수와 만나는 접점이 최소)\n",
    "# model = LogisticRegression(solver='liblinear', random_state=1)\n",
    "\n",
    "# lr_pipe.fit(X_train, y_train)\n",
    "# lr_pipe.predict(X_test)\n",
    "\n",
    "cvscore = cross_val_score(estimator=lr_pipe, X=X_train, y=y_train, cv=10, n_jobs=-1)\n",
    "\n",
    "# n_jobs=-1: 연산에 모든 프로세스 사용\n",
    "\n",
    "print(\"CV 정확도:\", np.mean(cvscore))"
   ]
  },
  {
   "cell_type": "code",
   "execution_count": 26,
   "id": "18fbf2e5",
   "metadata": {},
   "outputs": [],
   "source": [
    "from sklearn.model_selection import learning_curve\n",
    "\n",
    "# 학습곡선 그리기\n",
    "# lr_pipe = make_pipeline(StandardScaler(),\n",
    "#                         PCA(n_components=2),\n",
    "#                         LogisticRegression(solver='liblinear', random_state=1))\n",
    "\n",
    "# 100번의 단계를 10번씩 수행해서 2차원 배열이 된다.\n",
    "\n",
    "sizes, train_score, val_score = learning_curve(estimator=lr_pipe, X=X_train, y=y_train, train_sizes=np.linspace(0.01, 1.0, 10), cv=10, n_jobs=-1)\n"
   ]
  },
  {
   "cell_type": "code",
   "execution_count": 10,
   "id": "dff741b8",
   "metadata": {},
   "outputs": [
    {
     "data": {
      "text/plain": [
       "(455, 30)"
      ]
     },
     "execution_count": 10,
     "metadata": {},
     "output_type": "execute_result"
    }
   ],
   "source": [
    "X_train.shape"
   ]
  },
  {
   "cell_type": "code",
   "execution_count": 11,
   "id": "2a8f5e49",
   "metadata": {},
   "outputs": [
    {
     "data": {
      "text/plain": [
       "array([[       nan,        nan,        nan,        nan,        nan,\n",
       "               nan,        nan,        nan,        nan,        nan],\n",
       "       [0.87755102, 1.        , 1.        , 1.        , 1.        ,\n",
       "        1.        , 1.        , 1.        , 1.        , 1.        ],\n",
       "       [0.92553191, 0.95744681, 0.95744681, 0.94680851, 0.94680851,\n",
       "        0.94680851, 0.94680851, 0.94680851, 0.94680851, 0.94680851],\n",
       "       [0.9352518 , 0.96402878, 0.96402878, 0.9352518 , 0.9352518 ,\n",
       "        0.9352518 , 0.9352518 , 0.9352518 , 0.9352518 , 0.9352518 ],\n",
       "       [0.94565217, 0.97282609, 0.96195652, 0.94021739, 0.96195652,\n",
       "        0.94565217, 0.94565217, 0.94565217, 0.94565217, 0.94565217],\n",
       "       [0.95196507, 0.97379913, 0.9650655 , 0.9650655 , 0.95633188,\n",
       "        0.96069869, 0.95633188, 0.95633188, 0.95633188, 0.95633188],\n",
       "       [0.95985401, 0.96715328, 0.96350365, 0.96350365, 0.95620438,\n",
       "        0.95985401, 0.97080292, 0.96715328, 0.96715328, 0.96715328],\n",
       "       [0.95611285, 0.96238245, 0.96238245, 0.95924765, 0.95297806,\n",
       "        0.95611285, 0.96238245, 0.96865204, 0.96865204, 0.96865204],\n",
       "       [0.95604396, 0.95879121, 0.95604396, 0.95604396, 0.9478022 ,\n",
       "        0.9478022 , 0.95054945, 0.9532967 , 0.96428571, 0.96428571],\n",
       "       [0.95354523, 0.95599022, 0.95599022, 0.94865526, 0.94865526,\n",
       "        0.94865526, 0.95843521, 0.95599022, 0.95843521, 0.95110024]])"
      ]
     },
     "execution_count": 11,
     "metadata": {},
     "output_type": "execute_result"
    }
   ],
   "source": [
    "train_score"
   ]
  },
  {
   "cell_type": "code",
   "execution_count": 12,
   "id": "4e0735d0",
   "metadata": {},
   "outputs": [
    {
     "data": {
      "text/plain": [
       "array([[       nan,        nan,        nan,        nan,        nan,\n",
       "               nan,        nan,        nan,        nan,        nan],\n",
       "       [0.91304348, 0.86956522, 0.89130435, 0.95652174, 0.89130435,\n",
       "        0.95555556, 0.95555556, 0.91111111, 0.91111111, 0.93333333],\n",
       "       [0.93478261, 0.93478261, 0.93478261, 0.97826087, 0.84782609,\n",
       "        0.97777778, 0.91111111, 0.95555556, 0.91111111, 0.95555556],\n",
       "       [0.95652174, 0.93478261, 0.93478261, 0.97826087, 0.91304348,\n",
       "        0.95555556, 0.95555556, 0.93333333, 0.91111111, 0.95555556],\n",
       "       [0.97826087, 0.93478261, 0.93478261, 1.        , 0.89130435,\n",
       "        0.95555556, 0.95555556, 0.93333333, 0.93333333, 0.95555556],\n",
       "       [0.95652174, 0.93478261, 0.95652174, 0.93478261, 0.91304348,\n",
       "        0.97777778, 0.93333333, 0.93333333, 0.93333333, 0.95555556],\n",
       "       [0.97826087, 0.93478261, 0.95652174, 0.97826087, 0.91304348,\n",
       "        0.97777778, 0.93333333, 0.93333333, 0.93333333, 0.95555556],\n",
       "       [0.97826087, 0.93478261, 0.95652174, 0.97826087, 0.91304348,\n",
       "        0.97777778, 0.93333333, 0.93333333, 0.93333333, 0.95555556],\n",
       "       [0.97826087, 0.93478261, 0.95652174, 0.95652174, 0.91304348,\n",
       "        0.95555556, 0.93333333, 0.95555556, 0.93333333, 0.95555556],\n",
       "       [0.97826087, 0.93478261, 0.95652174, 0.93478261, 0.91304348,\n",
       "        0.95555556, 0.93333333, 0.95555556, 0.93333333, 0.95555556]])"
      ]
     },
     "execution_count": 12,
     "metadata": {},
     "output_type": "execute_result"
    }
   ],
   "source": [
    "val_score"
   ]
  },
  {
   "cell_type": "code",
   "execution_count": 78,
   "id": "b2b042b9",
   "metadata": {},
   "outputs": [
    {
     "data": {
      "text/plain": [
       "(10, 10)"
      ]
     },
     "execution_count": 78,
     "metadata": {},
     "output_type": "execute_result"
    }
   ],
   "source": [
    "val_score.shape #(train_sizes, cv)"
   ]
  },
  {
   "cell_type": "code",
   "execution_count": 27,
   "id": "cdf4a3e9",
   "metadata": {
    "scrolled": true
   },
   "outputs": [
    {
     "data": {
      "image/png": "[encoded data removed]",
      "text/plain": [
       "<Figure size 640x480 with 1 Axes>"
      ]
     },
     "metadata": {},
     "output_type": "display_data"
    }
   ],
   "source": [
    "import matplotlib.pyplot as plt\n",
    "\n",
    "# 학습곡선은 학습이 얼마나 됐는지 확인하기 위해서 그리는 것이다.\n",
    "\n",
    "# 첫번째 ~ 100번째 10번 시행했을 때 각각의 평균\n",
    "\n",
    "train_mean = np.mean(train_score, axis=1)\n",
    "val_mean = np.mean(val_score, axis=1)\n",
    "\n",
    "# 교차 검증한 10개 값의 표준편차\n",
    "\n",
    "train_std = np.std(train_score, axis=1)\n",
    "val_std = np.std(val_score, axis=1)\n",
    "\n",
    "plt.figure()\n",
    "\n",
    "# train_score에 대한 학습곡선과 표준편차 밴드 표현\n",
    "\n",
    "plt.plot(sizes, train_mean)\n",
    "plt.fill_between(sizes, train_mean+train_std, train_mean-train_std, alpha=0.2) # x축, y축 최대, y축 최소\n",
    "\n",
    "# val_score에 대한 학습곡선과 표준편차 밴드 표현\n",
    "\n",
    "plt.plot(sizes, val_mean)\n",
    "plt.fill_between(sizes, val_mean+val_std, val_mean-val_std, alpha=0.2) # x축, y축 최대, y축 최소\n",
    "\n",
    "plt.show()"
   ]
  },
  {
   "cell_type": "code",
   "execution_count": 28,
   "id": "1471103f",
   "metadata": {},
   "outputs": [],
   "source": [
    "#np.logspace(start, stop,n, base=10)\n",
    "\n",
    "C_range=np.logspace(-3, 2, 6) \n",
    "\n",
    "#6은 -3과 2 사이 숫자 개수이다."
   ]
  },
  {
   "cell_type": "code",
   "execution_count": 29,
   "id": "53d724f8",
   "metadata": {},
   "outputs": [
    {
     "data": {
      "text/plain": [
       "(10, 10)"
      ]
     },
     "execution_count": 29,
     "metadata": {},
     "output_type": "execute_result"
    }
   ],
   "source": [
    "train_score.shape"
   ]
  },
  {
   "cell_type": "code",
   "execution_count": 30,
   "id": "692d7f66",
   "metadata": {},
   "outputs": [],
   "source": [
    "#검증 곡선\n",
    "\n",
    "\n",
    "from sklearn.model_selection import validation_curve\n",
    "\n",
    "C_range = np.logspace(-3, 2, 6, base=10) # 밑이 10 -> 10 ** start, 10 ** stop\n",
    "\n",
    "# lr_pipe = make_pipeline(StandardScaler(),\n",
    "#                         PCA(n_components=2),\n",
    "#                         LogisticRegression(solver='liblinear', random_state=1))\n",
    "\n",
    "# C는 6개, cv는 10겹\n",
    "\n",
    "train_score, val_score = validation_curve(estimator=lr_pipe, X=X_train, y=y_train,\n",
    "                                                 param_name='logisticregression__C', param_range=C_range, cv=10, n_jobs=-1)"
   ]
  },
  {
   "cell_type": "code",
   "execution_count": 17,
   "id": "e75efbb1",
   "metadata": {},
   "outputs": [
    {
     "data": {
      "image/png": "[encoded data removed]",
      "text/plain": [
       "<Figure size 640x480 with 1 Axes>"
      ]
     },
     "metadata": {},
     "output_type": "display_data"
    }
   ],
   "source": [
    "import matplotlib.pyplot as plt\n",
    "\n",
    "# validation_curve 시각화\n",
    "\n",
    "train_mean = np.mean(train_score, axis=1)\n",
    "val_mean = np.mean(val_score, axis=1)\n",
    "\n",
    "# 교차 검증한 10개 값의 표준편차\n",
    "train_std = np.std(train_score, axis=1)\n",
    "val_std = np.std(val_score, axis=1)\n",
    "\n",
    "plt.figure()\n",
    "# train_score에 대한 학습곡선과 표준편차 밴드 표현\n",
    "plt.plot(C_range, train_mean)\n",
    "plt.fill_between(C_range, train_mean+train_std, train_mean-train_std, alpha=0.2) # x축, y축 최대, y축 최소\n",
    "\n",
    "# val_score에 대한 학습곡선과 표준편차 밴드 표현\n",
    "plt.plot(C_range, val_mean)\n",
    "plt.fill_between(C_range, val_mean+val_std, val_mean-val_std, alpha=0.2) # x축, y축 최대, y축 최소\n",
    "\n",
    "plt.xscale(\"log\")\n",
    "plt.show()"
   ]
  },
  {
   "cell_type": "code",
   "execution_count": 18,
   "id": "36adbcad",
   "metadata": {},
   "outputs": [],
   "source": [
    "from sklearn.model_selection import GridSearchCV\n",
    "from sklearn.svm import SVC\n",
    "\n",
    "svc_pipe = make_pipeline(StandardScaler(), SVC(random_state=1))\n",
    "C_range = np.logspace(-4, 3, 8)\n",
    "gamma_range = np.logspace(-4, 3, 8)#-4승부터 3승까지\n",
    "param_grid = [{'svc__C': C_range, 'svc__kernel': ['linear']}, {'svc__C': C_range, 'svc__gamma': gamma_range, 'svc__kernel': ['rbf']}]\n",
    "\n",
    "gs = GridSearchCV(estimator=svc_pipe, param_grid=param_grid, scoring=\"accuracy\", cv=10, n_jobs=-1) #scoring: 최적의 값을 찾을 때 무엇을 보고 찾을 것인가"
   ]
  },
  {
   "cell_type": "code",
   "execution_count": 19,
   "id": "23f33f1f",
   "metadata": {},
   "outputs": [],
   "source": [
    "gs = gs.fit(X_train, y_train)"
   ]
  },
  {
   "cell_type": "code",
   "execution_count": 20,
   "id": "dfcfa398",
   "metadata": {},
   "outputs": [
    {
     "data": {
      "text/plain": [
       "0.9758454106280192"
      ]
     },
     "execution_count": 20,
     "metadata": {},
     "output_type": "execute_result"
    }
   ],
   "source": [
    "gs.best_score_"
   ]
  },
  {
   "cell_type": "code",
   "execution_count": 21,
   "id": "0af9d05a",
   "metadata": {},
   "outputs": [
    {
     "data": {
      "text/html": [
       "<style>#sk-container-id-1 {color: black;}#sk-container-id-1 pre{padding: 0;}#sk-container-id-1 div.sk-toggleable {background-color: white;}#sk-container-id-1 label.sk-toggleable__label {cursor: pointer;display: block;width: 100%;margin-bottom: 0;padding: 0.3em;box-sizing: border-box;text-align: center;}#sk-container-id-1 label.sk-toggleable__label-arrow:before {content: \"▸\";float: left;margin-right: 0.25em;color: #696969;}#sk-container-id-1 label.sk-toggleable__label-arrow:hover:before {color: black;}#sk-container-id-1 div.sk-estimator:hover label.sk-toggleable__label-arrow:before {color: black;}#sk-container-id-1 div.sk-toggleable__content {max-height: 0;max-width: 0;overflow: hidden;text-align: left;background-color: #f0f8ff;}#sk-container-id-1 div.sk-toggleable__content pre {margin: 0.2em;color: black;border-radius: 0.25em;background-color: #f0f8ff;}#sk-container-id-1 input.sk-toggleable__control:checked~div.sk-toggleable__content {max-height: 200px;max-width: 100%;overflow: auto;}#sk-container-id-1 input.sk-toggleable__control:checked~label.sk-toggleable__label-arrow:before {content: \"▾\";}#sk-container-id-1 div.sk-estimator input.sk-toggleable__control:checked~label.sk-toggleable__label {background-color: #d4ebff;}#sk-container-id-1 div.sk-label input.sk-toggleable__control:checked~label.sk-toggleable__label {background-color: #d4ebff;}#sk-container-id-1 input.sk-hidden--visually {border: 0;clip: rect(1px 1px 1px 1px);clip: rect(1px, 1px, 1px, 1px);height: 1px;margin: -1px;overflow: hidden;padding: 0;position: absolute;width: 1px;}#sk-container-id-1 div.sk-estimator {font-family: monospace;background-color: #f0f8ff;border: 1px dotted black;border-radius: 0.25em;box-sizing: border-box;margin-bottom: 0.5em;}#sk-container-id-1 div.sk-estimator:hover {background-color: #d4ebff;}#sk-container-id-1 div.sk-parallel-item::after {content: \"\";width: 100%;border-bottom: 1px solid gray;flex-grow: 1;}#sk-container-id-1 div.sk-label:hover label.sk-toggleable__label {background-color: #d4ebff;}#sk-container-id-1 div.sk-serial::before {content: \"\";position: absolute;border-left: 1px solid gray;box-sizing: border-box;top: 0;bottom: 0;left: 50%;z-index: 0;}#sk-container-id-1 div.sk-serial {display: flex;flex-direction: column;align-items: center;background-color: white;padding-right: 0.2em;padding-left: 0.2em;position: relative;}#sk-container-id-1 div.sk-item {position: relative;z-index: 1;}#sk-container-id-1 div.sk-parallel {display: flex;align-items: stretch;justify-content: center;background-color: white;position: relative;}#sk-container-id-1 div.sk-item::before, #sk-container-id-1 div.sk-parallel-item::before {content: \"\";position: absolute;border-left: 1px solid gray;box-sizing: border-box;top: 0;bottom: 0;left: 50%;z-index: -1;}#sk-container-id-1 div.sk-parallel-item {display: flex;flex-direction: column;z-index: 1;position: relative;background-color: white;}#sk-container-id-1 div.sk-parallel-item:first-child::after {align-self: flex-end;width: 50%;}#sk-container-id-1 div.sk-parallel-item:last-child::after {align-self: flex-start;width: 50%;}#sk-container-id-1 div.sk-parallel-item:only-child::after {width: 0;}#sk-container-id-1 div.sk-dashed-wrapped {border: 1px dashed gray;margin: 0 0.4em 0.5em 0.4em;box-sizing: border-box;padding-bottom: 0.4em;background-color: white;}#sk-container-id-1 div.sk-label label {font-family: monospace;font-weight: bold;display: inline-block;line-height: 1.2em;}#sk-container-id-1 div.sk-label-container {text-align: center;}#sk-container-id-1 div.sk-container {/* jupyter's `normalize.less` sets `[hidden] { display: none; }` but bootstrap.min.css set `[hidden] { display: none !important; }` so we also need the `!important` here to be able to override the default hidden behavior on the sphinx rendered scikit-learn.org. See: https://github.com/scikit-learn/scikit-learn/issues/21755 */display: inline-block !important;position: relative;}#sk-container-id-1 div.sk-text-repr-fallback {display: none;}</style><div id=\"sk-container-id-1\" class=\"sk-top-container\"><div class=\"sk-text-repr-fallback\"><pre>Pipeline(steps=[(&#x27;standardscaler&#x27;, StandardScaler()),\n",
       "                (&#x27;svc&#x27;, SVC(C=10.0, gamma=0.001, random_state=1))])</pre><b>In a Jupyter environment, please rerun this cell to show the HTML representation or trust the notebook. <br />On GitHub, the HTML representation is unable to render, please try loading this page with nbviewer.org.</b></div><div class=\"sk-container\" hidden><div class=\"sk-item sk-dashed-wrapped\"><div class=\"sk-label-container\"><div class=\"sk-label sk-toggleable\"><input class=\"sk-toggleable__control sk-hidden--visually\" id=\"sk-estimator-id-1\" type=\"checkbox\" ><label for=\"sk-estimator-id-1\" class=\"sk-toggleable__label sk-toggleable__label-arrow\">Pipeline</label><div class=\"sk-toggleable__content\"><pre>Pipeline(steps=[(&#x27;standardscaler&#x27;, StandardScaler()),\n",
       "                (&#x27;svc&#x27;, SVC(C=10.0, gamma=0.001, random_state=1))])</pre></div></div></div><div class=\"sk-serial\"><div class=\"sk-item\"><div class=\"sk-estimator sk-toggleable\"><input class=\"sk-toggleable__control sk-hidden--visually\" id=\"sk-estimator-id-2\" type=\"checkbox\" ><label for=\"sk-estimator-id-2\" class=\"sk-toggleable__label sk-toggleable__label-arrow\">StandardScaler</label><div class=\"sk-toggleable__content\"><pre>StandardScaler()</pre></div></div></div><div class=\"sk-item\"><div class=\"sk-estimator sk-toggleable\"><input class=\"sk-toggleable__control sk-hidden--visually\" id=\"sk-estimator-id-3\" type=\"checkbox\" ><label for=\"sk-estimator-id-3\" class=\"sk-toggleable__label sk-toggleable__label-arrow\">SVC</label><div class=\"sk-toggleable__content\"><pre>SVC(C=10.0, gamma=0.001, random_state=1)</pre></div></div></div></div></div></div></div>"
      ],
      "text/plain": [
       "Pipeline(steps=[('standardscaler', StandardScaler()),\n",
       "                ('svc', SVC(C=10.0, gamma=0.001, random_state=1))])"
      ]
     },
     "execution_count": 21,
     "metadata": {},
     "output_type": "execute_result"
    }
   ],
   "source": [
    "gs.best_estimator_"
   ]
  },
  {
   "cell_type": "code",
   "execution_count": 22,
   "id": "891e883c",
   "metadata": {},
   "outputs": [
    {
     "data": {
      "text/plain": [
       "{'svc__C': 10.0, 'svc__gamma': 0.001, 'svc__kernel': 'rbf'}"
      ]
     },
     "execution_count": 22,
     "metadata": {},
     "output_type": "execute_result"
    }
   ],
   "source": [
    "gs.best_params_"
   ]
  },
  {
   "cell_type": "markdown",
   "id": "3202bf78",
   "metadata": {},
   "source": [
    "lr_gs=GridSearchCV(estimator=LogisticRegression, cv=2)\n",
    "svc_gs= GridSearchCV(estimator=SVC)\n",
    "forest_gs=...\n",
    "\n",
    "lr_score=cross_val_score(estimator=lr_gs, cv=5)#교차검증하는 함수\n",
    "svc_score=cross_val_score(estimator=svc_gs)\n",
    "forest_score =cross_val_score(estimator=forest_gs)"
   ]
  }
 ],
 "metadata": {
  "kernelspec": {
   "display_name": "Python 3 (ipykernel)",
   "language": "python",
   "name": "python3"
  },
  "language_info": {
   "codemirror_mode": {
    "name": "ipython",
    "version": 3
   },
   "file_extension": ".py",
   "mimetype": "text/x-python",
   "name": "python",
   "nbconvert_exporter": "python",
   "pygments_lexer": "ipython3",
   "version": "3.11.4"
  }
 },
 "nbformat": 4,
 "nbformat_minor": 5
}
