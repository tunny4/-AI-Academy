{
 "cells": [
  {
   "cell_type": "code",
   "execution_count": 1,
   "id": "70f91bd9-9dfb-41d9-9c0d-bb9be63f8816",
   "metadata": {},
   "outputs": [
    {
     "name": "stdout",
     "output_type": "stream",
     "text": [
      "Collecting pyprind\n",
      "  Downloading PyPrind-2.11.3-py2.py3-none-any.whl (8.4 kB)\n",
      "Installing collected packages: pyprind\n",
      "Successfully installed pyprind-2.11.3\n"
     ]
    }
   ],
   "source": [
    "!pip install pyprind"
   ]
  },
  {
   "cell_type": "code",
   "execution_count": 4,
   "id": "ff73e47f-01c8-4bea-b695-7e87ec855eb5",
   "metadata": {},
   "outputs": [
    {
     "name": "stderr",
     "output_type": "stream",
     "text": [
      "C:\\Users\\PC\\AppData\\Local\\Temp\\ipykernel_4780\\2283992236.py:17: FutureWarning: The frame.append method is deprecated and will be removed from pandas in a future version. Use pandas.concat instead.\n",
      "  df = df.append([[txt, labels[l]]],\n",
      "0% [##############################] 100% | ETA: 00:00:00\n",
      "Total time elapsed: 00:00:45\n"
     ]
    }
   ],
   "source": [
    "import pyprind\n",
    "import pandas as pd\n",
    "import os\n",
    "\n",
    "basepath = 'aclImdb'\n",
    "\n",
    "labels = {'pos': 1, 'neg': 0}\n",
    "pbar = pyprind.ProgBar(50000)\n",
    "df = pd.DataFrame()\n",
    "for s in ('test', 'train'):\n",
    "    for l in ('pos', 'neg'):\n",
    "        path = os.path.join(basepath, s, l)\n",
    "        for file in sorted(os.listdir(path)):\n",
    "            with open(os.path.join(path, file), \n",
    "                      'r', encoding='utf-8') as infile:\n",
    "                txt = infile.read()\n",
    "            df = df.append([[txt, labels[l]]], \n",
    "                           ignore_index=True)\n",
    "            pbar.update()\n",
    "df.columns = ['review', 'sentiment']"
   ]
  },
  {
   "cell_type": "code",
   "execution_count": 5,
   "id": "c26575ad-2ad1-4427-9c8f-aabbdc26cc87",
   "metadata": {},
   "outputs": [
    {
     "data": {
      "text/html": [
       "<div>\n",
       "<style scoped>\n",
       "    .dataframe tbody tr th:only-of-type {\n",
       "        vertical-align: middle;\n",
       "    }\n",
       "\n",
       "    .dataframe tbody tr th {\n",
       "        vertical-align: top;\n",
       "    }\n",
       "\n",
       "    .dataframe thead th {\n",
       "        text-align: right;\n",
       "    }\n",
       "</style>\n",
       "<table border=\"1\" class=\"dataframe\">\n",
       "  <thead>\n",
       "    <tr style=\"text-align: right;\">\n",
       "      <th></th>\n",
       "      <th>review</th>\n",
       "      <th>sentiment</th>\n",
       "    </tr>\n",
       "  </thead>\n",
       "  <tbody>\n",
       "    <tr>\n",
       "      <th>0</th>\n",
       "      <td>I went and saw this movie last night after bei...</td>\n",
       "      <td>1</td>\n",
       "    </tr>\n",
       "    <tr>\n",
       "      <th>1</th>\n",
       "      <td>Actor turned director Bill Paxton follows up h...</td>\n",
       "      <td>1</td>\n",
       "    </tr>\n",
       "    <tr>\n",
       "      <th>2</th>\n",
       "      <td>As a recreational golfer with some knowledge o...</td>\n",
       "      <td>1</td>\n",
       "    </tr>\n",
       "    <tr>\n",
       "      <th>3</th>\n",
       "      <td>I saw this film in a sneak preview, and it is ...</td>\n",
       "      <td>1</td>\n",
       "    </tr>\n",
       "    <tr>\n",
       "      <th>4</th>\n",
       "      <td>Bill Paxton has taken the true story of the 19...</td>\n",
       "      <td>1</td>\n",
       "    </tr>\n",
       "    <tr>\n",
       "      <th>...</th>\n",
       "      <td>...</td>\n",
       "      <td>...</td>\n",
       "    </tr>\n",
       "    <tr>\n",
       "      <th>49995</th>\n",
       "      <td>Towards the end of the movie, I felt it was to...</td>\n",
       "      <td>0</td>\n",
       "    </tr>\n",
       "    <tr>\n",
       "      <th>49996</th>\n",
       "      <td>This is the kind of movie that my enemies cont...</td>\n",
       "      <td>0</td>\n",
       "    </tr>\n",
       "    <tr>\n",
       "      <th>49997</th>\n",
       "      <td>I saw 'Descent' last night at the Stockholm Fi...</td>\n",
       "      <td>0</td>\n",
       "    </tr>\n",
       "    <tr>\n",
       "      <th>49998</th>\n",
       "      <td>Some films that you pick up for a pound turn o...</td>\n",
       "      <td>0</td>\n",
       "    </tr>\n",
       "    <tr>\n",
       "      <th>49999</th>\n",
       "      <td>This is one of the dumbest films, I've ever se...</td>\n",
       "      <td>0</td>\n",
       "    </tr>\n",
       "  </tbody>\n",
       "</table>\n",
       "<p>50000 rows × 2 columns</p>\n",
       "</div>"
      ],
      "text/plain": [
       "                                                  review  sentiment\n",
       "0      I went and saw this movie last night after bei...          1\n",
       "1      Actor turned director Bill Paxton follows up h...          1\n",
       "2      As a recreational golfer with some knowledge o...          1\n",
       "3      I saw this film in a sneak preview, and it is ...          1\n",
       "4      Bill Paxton has taken the true story of the 19...          1\n",
       "...                                                  ...        ...\n",
       "49995  Towards the end of the movie, I felt it was to...          0\n",
       "49996  This is the kind of movie that my enemies cont...          0\n",
       "49997  I saw 'Descent' last night at the Stockholm Fi...          0\n",
       "49998  Some films that you pick up for a pound turn o...          0\n",
       "49999  This is one of the dumbest films, I've ever se...          0\n",
       "\n",
       "[50000 rows x 2 columns]"
      ]
     },
     "execution_count": 5,
     "metadata": {},
     "output_type": "execute_result"
    }
   ],
   "source": [
    "df"
   ]
  },
  {
   "cell_type": "code",
   "execution_count": 8,
   "id": "452a51e2-c42c-43f1-b984-9ac886346391",
   "metadata": {},
   "outputs": [],
   "source": [
    "df.to_csv('movie_data.csv', index = False, encoding = 'utf-8')"
   ]
  },
  {
   "cell_type": "markdown",
   "id": "afea9d09-889b-4efc-be94-f14bae32fa48",
   "metadata": {},
   "source": [
    "BoW (Bag of Word)"
   ]
  },
  {
   "cell_type": "code",
   "execution_count": 31,
   "id": "6e5a317c-cab0-4528-84d4-948a65d7033f",
   "metadata": {},
   "outputs": [],
   "source": [
    "# CntVec : 단어의 순서는 신경안쓴다. 통틀어 몇번나왔는지\n",
    "# 문맥파악 x, 단어의 등장 빈도 -> 분위기 파악 정도 (긍정적인 단어가 몇번 나왔는지, 전문용어가 몇번 나왔는지), 스팸메일분류\n",
    "# 최초 언어모델\n",
    "\n",
    "import numpy as np\n",
    "from sklearn.feature_extraction.text import CountVectorizer\n",
    "\n",
    "sentence = ['The apple is delicious.', 'The banana is sweet.', 'One apple and two banana please.']\n",
    "CntVec = CountVectorizer()\n",
    "bag = CntVec.fit_transform(sentence)"
   ]
  },
  {
   "cell_type": "code",
   "execution_count": 32,
   "id": "674bb95e-d72c-495d-aee2-13f131a73784",
   "metadata": {
    "tags": []
   },
   "outputs": [
    {
     "data": {
      "text/plain": [
       "{'the': 8,\n",
       " 'apple': 1,\n",
       " 'is': 4,\n",
       " 'delicious': 3,\n",
       " 'banana': 2,\n",
       " 'sweet': 7,\n",
       " 'one': 5,\n",
       " 'and': 0,\n",
       " 'two': 9,\n",
       " 'please': 6}"
      ]
     },
     "execution_count": 32,
     "metadata": {},
     "output_type": "execute_result"
    }
   ],
   "source": [
    "CntVec.vocabulary_ # 문장 분해, 고유번호 부여, CntVec이 만든 사전"
   ]
  },
  {
   "cell_type": "code",
   "execution_count": 33,
   "id": "d426584a-eb29-4eb9-8875-20db69c16f23",
   "metadata": {},
   "outputs": [],
   "source": [
    "tmp = bag.toarray()"
   ]
  },
  {
   "cell_type": "code",
   "execution_count": 35,
   "id": "4b34318a-a101-497e-8995-403b3d618fa1",
   "metadata": {},
   "outputs": [
    {
     "data": {
      "text/plain": [
       "array([[0, 1, 0, 1, 1, 0, 0, 0, 1, 0],\n",
       "       [0, 0, 1, 0, 1, 0, 0, 1, 1, 0],\n",
       "       [1, 1, 1, 0, 0, 1, 1, 0, 0, 1]], dtype=int64)"
      ]
     },
     "execution_count": 35,
     "metadata": {},
     "output_type": "execute_result"
    }
   ],
   "source": [
    "tmp"
   ]
  },
  {
   "cell_type": "code",
   "execution_count": null,
   "id": "aafe6367-e3ab-498f-a02b-ff92e1cc474d",
   "metadata": {},
   "outputs": [],
   "source": [
    "CntVec.transform(['How are you?']).toarray"
   ]
  },
  {
   "cell_type": "code",
   "execution_count": 34,
   "id": "08b2cfc5-1204-4e9e-9ffc-a655da00a3b4",
   "metadata": {},
   "outputs": [
    {
     "data": {
      "text/plain": [
       "(3, 10)"
      ]
     },
     "execution_count": 34,
     "metadata": {},
     "output_type": "execute_result"
    }
   ],
   "source": [
    "tmp.shape # 등장하는 단어의 위치에 1 \n",
    "          # CntVec : 단어의 순서는 신경안쓴다. 통틀어 몇번나왔는지\n",
    "          # 문맥파악 x, 단어의 등장 빈도 -> 분위기 파악 정도 (긍정적인 단어가 몇번 나왔는지, 전문용어가 몇번 나왔는지), 스팸메일분류\n",
    "          # 최초 언어모델"
   ]
  },
  {
   "cell_type": "raw",
   "id": "b6c2eb60-7029-4c32-bd48-eca89b6a296f",
   "metadata": {},
   "source": [
    "TF-IDF (단어빈도 - 역문서빈도) \n",
    "\n",
    "* TF(t, d) : 단어 t가 문서 d에 등장하는 횟수\n",
    "* DF(t, d) : 단어 t가 포함된 문서 d의 수\n",
    "* IDF(t, d) : n/(1+DF(t, d)) : 전체 문서에서 단어 t가\n",
    "* TF-IDF : TF * IDF : 다른 문서에서는 잘 안쓰이면서 해당 문서에서는 많이 쓰인 단어\n",
    "    - 어떤 특정 단어하나가 그 문서에서 차지하는 중요도\n",
    "    - TF - 단어가 d에서 많이 쓰일 수록 커진다.\n",
    "    - IDF - 단어 t가 다른 문서에 덜 쓰일수록 커진다."
   ]
  },
  {
   "cell_type": "code",
   "execution_count": 37,
   "id": "2e2b5e3c-8e19-4ce2-8240-370c1cac952e",
   "metadata": {},
   "outputs": [
    {
     "data": {
      "text/plain": [
       "array([[0.        , 0.45985353, 0.        , 0.60465213, 0.45985353,\n",
       "        0.        , 0.        , 0.        , 0.45985353, 0.        ],\n",
       "       [0.        , 0.        , 0.45985353, 0.        , 0.45985353,\n",
       "        0.        , 0.        , 0.60465213, 0.45985353, 0.        ],\n",
       "       [0.44036207, 0.3349067 , 0.3349067 , 0.        , 0.        ,\n",
       "        0.44036207, 0.44036207, 0.        , 0.        , 0.44036207]])"
      ]
     },
     "execution_count": 37,
     "metadata": {},
     "output_type": "execute_result"
    }
   ],
   "source": [
    "from sklearn.feature_extraction.text import TfidfTransformer\n",
    "\n",
    "tfidf = TfidfTransformer(use_idf = True, norm = 'l2', smooth_idf = True)\n",
    "\n",
    "tfidf.fit_transform(tmp).toarray()\n",
    "\n",
    "# 문장에서 단어의 중요도. 값이 클수록 중요한단어"
   ]
  },
  {
   "cell_type": "code",
   "execution_count": 44,
   "id": "50722f98-ce7a-40a9-86c3-8b6e7be8b64b",
   "metadata": {},
   "outputs": [],
   "source": [
    "X_train = df.loc[:25000, 'review'].values # 앞 25000개가 train data\n",
    "y_train = df.loc[:25000, 'sentiment'].values \n",
    "X_test = df.loc[25000:, 'review'].values\n",
    "y_test = df.loc[25000:, 'sentiment'].values "
   ]
  },
  {
   "cell_type": "code",
   "execution_count": 47,
   "id": "871106cb-9928-42d1-baf5-50b911b143e7",
   "metadata": {},
   "outputs": [],
   "source": [
    "from sklearn.feature_extraction.text import TfidfVectorizer # count vectorizer와 tfidf transfomer를 합쳐놓은 것\n",
    "from sklearn.linear_model import LogisticRegression\n",
    "from sklearn.pipeline import Pipeline\n",
    "\n",
    "tfidf = TfidfVectorizer(strip_accents = None, lowercase = False, preprocessor = None, stop_words = None, ngram_range = (1, 1)) \n",
    "# strip_accents 악센트, lowercase 대소문자구분, preprocessor 전처리, ngram_range 띄어쓰기 몇개를 한 단어로 볼 것인지\n",
    "\n",
    "# 분류기와 Vectorizer를 Pipeline으로\n",
    "tfidf_lr = Pipeline([('tfidf', tfidf), ('lr', LogisticRegression(solver = 'liblinear', C = 10, penalty = 'l2', random_state = 0))])  "
   ]
  },
  {
   "cell_type": "code",
   "execution_count": 48,
   "id": "22dd2d55-c338-4e94-a94d-207c02e35719",
   "metadata": {},
   "outputs": [
    {
     "data": {
      "text/html": [
       "<style>#sk-container-id-1 {color: black;background-color: white;}#sk-container-id-1 pre{padding: 0;}#sk-container-id-1 div.sk-toggleable {background-color: white;}#sk-container-id-1 label.sk-toggleable__label {cursor: pointer;display: block;width: 100%;margin-bottom: 0;padding: 0.3em;box-sizing: border-box;text-align: center;}#sk-container-id-1 label.sk-toggleable__label-arrow:before {content: \"▸\";float: left;margin-right: 0.25em;color: #696969;}#sk-container-id-1 label.sk-toggleable__label-arrow:hover:before {color: black;}#sk-container-id-1 div.sk-estimator:hover label.sk-toggleable__label-arrow:before {color: black;}#sk-container-id-1 div.sk-toggleable__content {max-height: 0;max-width: 0;overflow: hidden;text-align: left;background-color: #f0f8ff;}#sk-container-id-1 div.sk-toggleable__content pre {margin: 0.2em;color: black;border-radius: 0.25em;background-color: #f0f8ff;}#sk-container-id-1 input.sk-toggleable__control:checked~div.sk-toggleable__content {max-height: 200px;max-width: 100%;overflow: auto;}#sk-container-id-1 input.sk-toggleable__control:checked~label.sk-toggleable__label-arrow:before {content: \"▾\";}#sk-container-id-1 div.sk-estimator input.sk-toggleable__control:checked~label.sk-toggleable__label {background-color: #d4ebff;}#sk-container-id-1 div.sk-label input.sk-toggleable__control:checked~label.sk-toggleable__label {background-color: #d4ebff;}#sk-container-id-1 input.sk-hidden--visually {border: 0;clip: rect(1px 1px 1px 1px);clip: rect(1px, 1px, 1px, 1px);height: 1px;margin: -1px;overflow: hidden;padding: 0;position: absolute;width: 1px;}#sk-container-id-1 div.sk-estimator {font-family: monospace;background-color: #f0f8ff;border: 1px dotted black;border-radius: 0.25em;box-sizing: border-box;margin-bottom: 0.5em;}#sk-container-id-1 div.sk-estimator:hover {background-color: #d4ebff;}#sk-container-id-1 div.sk-parallel-item::after {content: \"\";width: 100%;border-bottom: 1px solid gray;flex-grow: 1;}#sk-container-id-1 div.sk-label:hover label.sk-toggleable__label {background-color: #d4ebff;}#sk-container-id-1 div.sk-serial::before {content: \"\";position: absolute;border-left: 1px solid gray;box-sizing: border-box;top: 0;bottom: 0;left: 50%;z-index: 0;}#sk-container-id-1 div.sk-serial {display: flex;flex-direction: column;align-items: center;background-color: white;padding-right: 0.2em;padding-left: 0.2em;position: relative;}#sk-container-id-1 div.sk-item {position: relative;z-index: 1;}#sk-container-id-1 div.sk-parallel {display: flex;align-items: stretch;justify-content: center;background-color: white;position: relative;}#sk-container-id-1 div.sk-item::before, #sk-container-id-1 div.sk-parallel-item::before {content: \"\";position: absolute;border-left: 1px solid gray;box-sizing: border-box;top: 0;bottom: 0;left: 50%;z-index: -1;}#sk-container-id-1 div.sk-parallel-item {display: flex;flex-direction: column;z-index: 1;position: relative;background-color: white;}#sk-container-id-1 div.sk-parallel-item:first-child::after {align-self: flex-end;width: 50%;}#sk-container-id-1 div.sk-parallel-item:last-child::after {align-self: flex-start;width: 50%;}#sk-container-id-1 div.sk-parallel-item:only-child::after {width: 0;}#sk-container-id-1 div.sk-dashed-wrapped {border: 1px dashed gray;margin: 0 0.4em 0.5em 0.4em;box-sizing: border-box;padding-bottom: 0.4em;background-color: white;}#sk-container-id-1 div.sk-label label {font-family: monospace;font-weight: bold;display: inline-block;line-height: 1.2em;}#sk-container-id-1 div.sk-label-container {text-align: center;}#sk-container-id-1 div.sk-container {/* jupyter's `normalize.less` sets `[hidden] { display: none; }` but bootstrap.min.css set `[hidden] { display: none !important; }` so we also need the `!important` here to be able to override the default hidden behavior on the sphinx rendered scikit-learn.org. See: https://github.com/scikit-learn/scikit-learn/issues/21755 */display: inline-block !important;position: relative;}#sk-container-id-1 div.sk-text-repr-fallback {display: none;}</style><div id=\"sk-container-id-1\" class=\"sk-top-container\"><div class=\"sk-text-repr-fallback\"><pre>Pipeline(steps=[(&#x27;tfidf&#x27;, TfidfVectorizer(lowercase=False)),\n",
       "                (&#x27;lr&#x27;,\n",
       "                 LogisticRegression(C=10, random_state=0, solver=&#x27;liblinear&#x27;))])</pre><b>In a Jupyter environment, please rerun this cell to show the HTML representation or trust the notebook. <br />On GitHub, the HTML representation is unable to render, please try loading this page with nbviewer.org.</b></div><div class=\"sk-container\" hidden><div class=\"sk-item sk-dashed-wrapped\"><div class=\"sk-label-container\"><div class=\"sk-label sk-toggleable\"><input class=\"sk-toggleable__control sk-hidden--visually\" id=\"sk-estimator-id-1\" type=\"checkbox\" ><label for=\"sk-estimator-id-1\" class=\"sk-toggleable__label sk-toggleable__label-arrow\">Pipeline</label><div class=\"sk-toggleable__content\"><pre>Pipeline(steps=[(&#x27;tfidf&#x27;, TfidfVectorizer(lowercase=False)),\n",
       "                (&#x27;lr&#x27;,\n",
       "                 LogisticRegression(C=10, random_state=0, solver=&#x27;liblinear&#x27;))])</pre></div></div></div><div class=\"sk-serial\"><div class=\"sk-item\"><div class=\"sk-estimator sk-toggleable\"><input class=\"sk-toggleable__control sk-hidden--visually\" id=\"sk-estimator-id-2\" type=\"checkbox\" ><label for=\"sk-estimator-id-2\" class=\"sk-toggleable__label sk-toggleable__label-arrow\">TfidfVectorizer</label><div class=\"sk-toggleable__content\"><pre>TfidfVectorizer(lowercase=False)</pre></div></div></div><div class=\"sk-item\"><div class=\"sk-estimator sk-toggleable\"><input class=\"sk-toggleable__control sk-hidden--visually\" id=\"sk-estimator-id-3\" type=\"checkbox\" ><label for=\"sk-estimator-id-3\" class=\"sk-toggleable__label sk-toggleable__label-arrow\">LogisticRegression</label><div class=\"sk-toggleable__content\"><pre>LogisticRegression(C=10, random_state=0, solver=&#x27;liblinear&#x27;)</pre></div></div></div></div></div></div></div>"
      ],
      "text/plain": [
       "Pipeline(steps=[('tfidf', TfidfVectorizer(lowercase=False)),\n",
       "                ('lr',\n",
       "                 LogisticRegression(C=10, random_state=0, solver='liblinear'))])"
      ]
     },
     "execution_count": 48,
     "metadata": {},
     "output_type": "execute_result"
    }
   ],
   "source": [
    "tfidf_lr.fit(X_train, y_train)"
   ]
  },
  {
   "cell_type": "code",
   "execution_count": 50,
   "id": "1162ad28-89a3-4b4a-acae-e03434f9c871",
   "metadata": {},
   "outputs": [
    {
     "data": {
      "text/plain": [
       "array([1, 1, 1, ..., 0, 0, 0], dtype=int64)"
      ]
     },
     "execution_count": 50,
     "metadata": {},
     "output_type": "execute_result"
    }
   ],
   "source": [
    "p_test = tfidf_lr.predict(X_test) # 긍정, 부정 리뷰 분류\n",
    "p_test"
   ]
  },
  {
   "cell_type": "code",
   "execution_count": 53,
   "id": "e7986ec7-1bb5-415b-9155-6f3874450bfd",
   "metadata": {},
   "outputs": [
    {
     "name": "stdout",
     "output_type": "stream",
     "text": [
      "0.87972\n",
      "0.878549214427077\n",
      "[[11117  1383]\n",
      " [ 1624 10876]]\n"
     ]
    }
   ],
   "source": [
    "# 점수 확인\n",
    "\n",
    "from sklearn.metrics import f1_score, confusion_matrix, accuracy_score\n",
    "\n",
    "print(accuracy_score(y_test, p_test)) # 0.8797...\n",
    "print(f1_score(y_test, p_test)) # 0.8785.. \n",
    "print(confusion_matrix(y_test, p_test))"
   ]
  },
  {
   "cell_type": "code",
   "execution_count": null,
   "id": "8add0b4d-ee45-4cd2-a875-f167dd7778b8",
   "metadata": {},
   "outputs": [],
   "source": [
    "가장 고전적인 모델"
   ]
  }
 ],
 "metadata": {
  "kernelspec": {
   "display_name": "Python 3 (ipykernel)",
   "language": "python",
   "name": "python3"
  },
  "language_info": {
   "codemirror_mode": {
    "name": "ipython",
    "version": 3
   },
   "file_extension": ".py",
   "mimetype": "text/x-python",
   "name": "python",
   "nbconvert_exporter": "python",
   "pygments_lexer": "ipython3",
   "version": "3.11.4"
  }
 },
 "nbformat": 4,
 "nbformat_minor": 5
}
