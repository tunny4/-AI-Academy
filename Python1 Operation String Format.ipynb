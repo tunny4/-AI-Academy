{
 "cells": [
  {
   "cell_type": "markdown",
   "id": "d076771b-4411-4d28-bcf8-327beb7185b0",
   "metadata": {},
   "source": [
    "# 창원 AI 아카데미"
   ]
  },
  {
   "cell_type": "raw",
   "id": "62499678-3195-4da2-84f4-45d3ade901d2",
   "metadata": {},
   "source": [
    "### 샵은 글자 크기 \n",
    "\n",
    "* 줄 띄우기는 <br> html 코드가 많이 쓰인다. \n",
    "* </b> 는 굵게"
   ]
  },
  {
   "cell_type": "markdown",
   "id": "10db9880-586d-441d-b39f-1ac7ce280ab6",
   "metadata": {},
   "source": [
    "단축키 \n",
    "* b below 아래에 셀추가\n",
    "* a above 위에 셀추가\n",
    "* m 마크다운으로 변경\n",
    "* y 코드로 변경\n",
    "* dd 삭제\n",
    "* z 되돌리기\n",
    "* s 저장\n",
    "* c 복사 \n",
    "* v 붙여넣기\n",
    "* 위의 단축키는 파란색 ( 셀을 선택 상태 ) 에서만 유효하다\n",
    "* ctrl + enter 실행\n",
    "* shift + enter 실행하면서 셀 생성"
   ]
  },
  {
   "cell_type": "code",
   "execution_count": 15,
   "id": "93f2826c",
   "metadata": {
    "scrolled": true
   },
   "outputs": [
    {
     "name": "stdout",
     "output_type": "stream",
     "text": [
      "Hellow World!\n",
      "Hellow World!\n",
      "Hello World!\n",
      "HelloWorld!\n",
      "100\n",
      "6\n"
     ]
    }
   ],
   "source": [
    "print(\"Hellow World!\")\n",
    "print('Hellow World!')\n",
    "print('Hello', 'World!')\n",
    "print('Hello'+\"World!\")\n",
    "print(100)\n",
    "print(2+4)"
   ]
  },
  {
   "cell_type": "code",
   "execution_count": 4,
   "id": "968f63b2",
   "metadata": {},
   "outputs": [
    {
     "name": "stdout",
     "output_type": "stream",
     "text": [
      "Hello Python!\n",
      "300\n"
     ]
    }
   ],
   "source": [
    "print('Hello Python!')\n",
    "print(100 + 200)"
   ]
  },
  {
   "cell_type": "markdown",
   "id": "2128c301",
   "metadata": {},
   "source": [
    "안녕하세요~<br>\n",
    "저는 홍길동입니다.<br>\n",
    "창원 AI Academy 교육받고 있습니다."
   ]
  },
  {
   "cell_type": "code",
   "execution_count": 7,
   "id": "043cfdc3",
   "metadata": {},
   "outputs": [
    {
     "name": "stdout",
     "output_type": "stream",
     "text": [
      "**********************************\n",
      "안녕하세요~ \n",
      "저는 홍길동입니다.\n",
      "창원 AI Academy에서 교육받고 있습니다\n",
      "**********************************\n",
      "******************************\n",
      "********\n",
      "안녕\n",
      "저는\n",
      "대학\n",
      "*********\n",
      "***********************\n",
      "안녕\n",
      "저는\n",
      "대학\n",
      "***********************\n",
      "안녕\n",
      "안녕\n",
      "안녕\n",
      "안녕\n"
     ]
    }
   ],
   "source": [
    "#p44 1.6\n",
    "print(\"**********************************\")\n",
    "print(\"안녕하세요~ \\n저는 홍길동입니다.\\n창원 AI Academy에서 교육받고 있습니다\")\n",
    "print(\"**********************************\")\n",
    "print(\"*\"*30)\n",
    "print(\"********\",\n",
    "     \"안녕\",\n",
    "     \"저는\",\n",
    "     \"대학\",\n",
    "     \"*********\", sep='\\n')\n",
    "\n",
    "# 따옴표 세번을 누르면 자동으로 묶어진다, 줄바꿈도 적용된다.\n",
    "print('''***********************\n",
    "안녕\n",
    "저는\n",
    "대학\n",
    "***********************''')\n",
    "\n",
    "# 컨트롤을 누른 상태로 위치를 선택하면 커서가 여러개 생긴다. 동일한 곳에 똑같은 것을 작성할때 편리하다\n",
    "print(\"안녕\")\n",
    "\n",
    "print(\"안녕\")\n",
    "\n",
    "print(\"안녕\")\n",
    "\n",
    "print(\"안녕\")\n",
    "\n",
    "# 더블클릭을 하면 단위별로 전체 선택이 된다."
   ]
  },
  {
   "cell_type": "code",
   "execution_count": 8,
   "id": "34263ee2",
   "metadata": {},
   "outputs": [
    {
     "name": "stdout",
     "output_type": "stream",
     "text": [
      "120.0 km\n"
     ]
    }
   ],
   "source": [
    "#p45 1.11\n",
    "\n",
    "print(80 * 1.5, \"km\")"
   ]
  },
  {
   "cell_type": "code",
   "execution_count": 43,
   "id": "e10c8475",
   "metadata": {},
   "outputs": [
    {
     "data": {
      "text/plain": [
       "'라마'"
      ]
     },
     "execution_count": 43,
     "metadata": {},
     "output_type": "execute_result"
    }
   ],
   "source": [
    "# OUT은 셀의 마지막 객체를 받아서 나오는 것\n",
    "\"가나다\"\n",
    "\"라마\""
   ]
  },
  {
   "cell_type": "code",
   "execution_count": 45,
   "id": "eed07483",
   "metadata": {},
   "outputs": [
    {
     "data": {
      "text/plain": [
       "50.010000000000005"
      ]
     },
     "execution_count": 45,
     "metadata": {},
     "output_type": "execute_result"
    }
   ],
   "source": [
    "# 64bit로 계산하기 때문에 소숫점 2째자리 밑의 숫자가 나왔다 이것 때문에 오류가 나기도한다\n",
    "10.002 * 5"
   ]
  },
  {
   "cell_type": "code",
   "execution_count": 48,
   "id": "a376a6f4",
   "metadata": {},
   "outputs": [
    {
     "name": "stdout",
     "output_type": "stream",
     "text": [
      "3\n",
      "3.3333333333333335\n",
      "1\n"
     ]
    }
   ],
   "source": [
    "# 나눗셈, 몫, 나머지\n",
    "print(10//3) \n",
    "print(10/3)\n",
    "print(10%3)"
   ]
  },
  {
   "cell_type": "code",
   "execution_count": 56,
   "id": "14f374df",
   "metadata": {},
   "outputs": [
    {
     "name": "stdout",
     "output_type": "stream",
     "text": [
      "100\n",
      "문자열 곱셈 문자열 곱셈 문자열 곱셈 \n",
      "문자열 덧셈 문자열 덧셈\n"
     ]
    }
   ],
   "source": [
    "print(10**2)\n",
    "print(\"문자열 곱셈 \" * 3)\n",
    "print(\"문자열 덧셈\" +\" \" + \"문자열 덧셈\")"
   ]
  },
  {
   "cell_type": "code",
   "execution_count": 60,
   "id": "44581b41",
   "metadata": {},
   "outputs": [
    {
     "name": "stdout",
     "output_type": "stream",
     "text": [
      "올해는 2023년이다.\n"
     ]
    }
   ],
   "source": [
    "# 쉼표뒤는 공백이 무조건 들어간다 붙이기 위해서는 sep=''\n",
    "print('올해는 ', 2023, \"년이다.\", sep='')"
   ]
  },
  {
   "cell_type": "code",
   "execution_count": 62,
   "id": "a5b3ce1d",
   "metadata": {},
   "outputs": [
    {
     "data": {
      "text/plain": [
       "True"
      ]
     },
     "execution_count": 62,
     "metadata": {},
     "output_type": "execute_result"
    }
   ],
   "source": [
    "# 비교연산자 >, <, ==, !=, <=, >= \n",
    "# 문자열도 ==, != 는 가능하다\n",
    "\n",
    "'창원' == '창' + '원'"
   ]
  },
  {
   "cell_type": "code",
   "execution_count": 64,
   "id": "eaa41f6f",
   "metadata": {},
   "outputs": [
    {
     "data": {
      "text/plain": [
       "False"
      ]
     },
     "execution_count": 64,
     "metadata": {},
     "output_type": "execute_result"
    }
   ],
   "source": [
    "True == False"
   ]
  },
  {
   "cell_type": "code",
   "execution_count": 68,
   "id": "858a3063",
   "metadata": {},
   "outputs": [
    {
     "data": {
      "text/plain": [
       "True"
      ]
     },
     "execution_count": 68,
     "metadata": {},
     "output_type": "execute_result"
    }
   ],
   "source": [
    "# 논리연산자 and, or, not\n",
    "(10 == 7+3) and (3 == 1+2)"
   ]
  },
  {
   "cell_type": "code",
   "execution_count": 87,
   "id": "09eaebc4",
   "metadata": {},
   "outputs": [
    {
     "name": "stdout",
     "output_type": "stream",
     "text": [
      "제 나이는 10입니다.\n",
      "제 나이는 10입니다\n",
      "제 이름은 안이고 나이는 10입니다\n",
      "제 이름은 안이고 나이는 10입니다\n",
      "제 이름은 안이고 나이는 10입니다\n"
     ]
    }
   ],
   "source": [
    "a = 10\n",
    "b = \"안\"\n",
    "print(f'제 나이는 {a}입니다.')\n",
    "print('제 나이는 {}입니다' .format(a))\n",
    "print('제 이름은 {}이고 나이는 {}입니다' .format(b, a))\n",
    "print('제 이름은 {x}이고 나이는 {y}입니다' .format(y=a, x=b))\n",
    "print('제 이름은 {1}이고 나이는 {0}입니다' .format(a, b))"
   ]
  },
  {
   "cell_type": "code",
   "execution_count": 88,
   "id": "18f42e8c",
   "metadata": {},
   "outputs": [],
   "source": [
    "pi = 3.1415"
   ]
  },
  {
   "cell_type": "code",
   "execution_count": 119,
   "id": "90f6b2f1",
   "metadata": {},
   "outputs": [
    {
     "name": "stdout",
     "output_type": "stream",
     "text": [
      "3.1415000000000001811883976188255473971366882324218750000000000000000000000000000000000000000000000000\n"
     ]
    }
   ],
   "source": [
    "# 앞의 숫자는 출력할 공간지정 .x 는 소숫점 자리 지정\n",
    "print(\"{:10.100f}\" .format(pi))"
   ]
  },
  {
   "cell_type": "code",
   "execution_count": 120,
   "id": "71e7ca07",
   "metadata": {},
   "outputs": [
    {
     "name": "stdout",
     "output_type": "stream",
     "text": [
      "섭씨 30 도는 화씨 86.0도 입니다\n"
     ]
    }
   ],
   "source": [
    "#int cel  = int(input('섭씨온도를 입력하세요 : '))\n",
    "cel = 30\n",
    "fah = 9/5 * cel + 32\n",
    "print(\"섭씨 {c} 도는 화씨 {f}도 입니다\" .format(c=cel, f=fah))"
   ]
  },
  {
   "cell_type": "code",
   "execution_count": 2,
   "id": "f09e33a4",
   "metadata": {
    "scrolled": true
   },
   "outputs": [
    {
     "name": "stdout",
     "output_type": "stream",
     "text": [
      "섭씨          화씨\n",
      "0          32.0\n",
      "10       32.0\n"
     ]
    }
   ],
   "source": [
    "cel = 0\n",
    "fah = 9/5 * cel + 32\n",
    "a=\"\"\n",
    "print(f'섭씨{a:10s}화씨')\n",
    "print(\"{c:}{aa:10s}{f}\" .format(c=cel, aa=a, f=fah))\n",
    "cel += 10\n",
    "print(\"{c}       {f}\" .format(c=cel, f=fah))"
   ]
  },
  {
   "cell_type": "code",
   "execution_count": 16,
   "id": "ca9f0dc4-108f-442a-b122-15b87030a7b5",
   "metadata": {},
   "outputs": [
    {
     "name": "stdin",
     "output_type": "stream",
     "text": [
      "평균을 구할 두 값을 입력하세요 :   1 2\n"
     ]
    },
    {
     "name": "stdout",
     "output_type": "stream",
     "text": [
      "2.0\n"
     ]
    }
   ],
   "source": [
    "# 1. 두 값 a,b의 평균을 출력하는 프로그램을 작성하시오\n",
    "\n",
    "\n",
    "#a=10\n",
    "#b=100\n",
    "\n",
    "a, b = input(\"평균을 구할 두 값을 입력하세요 :  \").split()\n",
    "#b = input(\"평균을 구할 값 b : \")\n",
    "a = int(a)\n",
    "b = int(b)\n",
    "print(a+b/2)"
   ]
  },
  {
   "cell_type": "code",
   "execution_count": 10,
   "id": "c436f918-c3b0-4e91-b34d-c7624a4a2cdd",
   "metadata": {},
   "outputs": [
    {
     "name": "stdin",
     "output_type": "stream",
     "text": [
      "출생년도를 입력하세요 :  2000\n",
      "국적을 입력하세요 :  대한민국\n",
      "이름을 입력하세요 :  홍길동\n"
     ]
    },
    {
     "name": "stdout",
     "output_type": "stream",
     "text": [
      "저는 국적은 대한민국이며 이름은 홍길동입니다. 나이는 23입니다.\n"
     ]
    }
   ],
   "source": [
    "# 2. 국적, 이름, 출생년도를 입력받아, 국적, 이름, 나이를 출력하는 프로그램을 작성하시오\n",
    "\n",
    "#y = 2000\n",
    "#c = \"대한민국\"\n",
    "#n = \"홍길동\"\n",
    "#a = 2023 - y\n",
    "\n",
    "y = input(\"출생년도를 입력하세요 : \")\n",
    "c = input(\"국적을 입력하세요 : \")\n",
    "n = input(\"이름을 입력하세요 : \")\n",
    "y = int(y)\n",
    "print('저는 국적은 {}이며 이름은 {}입니다. 나이는 {}입니다.' .format(c, n, 2023-y))"
   ]
  },
  {
   "cell_type": "code",
   "execution_count": 13,
   "id": "71d1ea49-750f-49d3-9c4b-a7bfb8531f49",
   "metadata": {},
   "outputs": [
    {
     "name": "stdin",
     "output_type": "stream",
     "text": [
      "면적을 구할 원의 반지름을 입력하세요 :  10\n"
     ]
    },
    {
     "name": "stdout",
     "output_type": "stream",
     "text": [
      "원의 반지름이 10인 원의 면적은 314.0입니다.\n"
     ]
    }
   ],
   "source": [
    "# 3. 원의 반지름을 입력받아 원의 면적을 구하는 프로그램을 작성하시오\n",
    "\n",
    "#r = 3\n",
    "\n",
    "r = input(\"면적을 구할 원의 반지름을 입력하세요 : \")\n",
    "r = int(r)\n",
    "print('원의 반지름이 {}인 원의 면적은 {}입니다.' .format(r, 3.14*r**2))"
   ]
  }
 ],
 "metadata": {
  "kernelspec": {
   "display_name": "Python 3 (ipykernel)",
   "language": "python",
   "name": "python3"
  },
  "language_info": {
   "codemirror_mode": {
    "name": "ipython",
    "version": 3
   },
   "file_extension": ".py",
   "mimetype": "text/x-python",
   "name": "python",
   "nbconvert_exporter": "python",
   "pygments_lexer": "ipython3",
   "version": "3.10.9"
  }
 },
 "nbformat": 4,
 "nbformat_minor": 5
}
